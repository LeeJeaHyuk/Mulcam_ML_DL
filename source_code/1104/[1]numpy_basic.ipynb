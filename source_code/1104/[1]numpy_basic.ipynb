{
 "cells": [
  {
   "cell_type": "code",
   "execution_count": 1,
   "id": "71196682",
   "metadata": {
    "id": "71196682",
    "outputId": "0663c0cf-34b0-44e8-d5b1-c8cec68e33e3"
   },
   "outputs": [
    {
     "data": {
      "text/plain": [
       "'3.9.12 (main, Apr  4 2022, 05:22:27) [MSC v.1916 64 bit (AMD64)]'"
      ]
     },
     "execution_count": 1,
     "metadata": {},
     "output_type": "execute_result"
    }
   ],
   "source": [
    "# 파이썬 버전 확인\n",
    "import sys\n",
    "sys.version   # shift + enter : 셀 실행 명령"
   ]
  },
  {
   "cell_type": "markdown",
   "id": "84cc4982",
   "metadata": {
    "id": "84cc4982"
   },
   "source": [
    "### 주피터 노트북 필수 단축키\n",
    "- shift + enter : 셀 실행 후 다음 셀로 이동\n",
    "- alt + enter : 셀 실행 후 다음에 셀을 추가\n",
    "- ctrl + '/' : 주석문 설정/해제\n",
    "- Tab : 들여 쓰기\n",
    "- shift + Tab : 들여 쓰기 해제\n",
    "\n"
   ]
  },
  {
   "cell_type": "markdown",
   "id": "72facab3",
   "metadata": {
    "id": "72facab3"
   },
   "source": [
    "### 파이썬 리스트(List) \n",
    ": 가변형(mutable), 시퀀스(str, list, tuple)=[+,*,중첩대입, ], 가장 유용한 자료형, [ ] :대괄호, 중복 허용"
   ]
  },
  {
   "cell_type": "code",
   "execution_count": null,
   "id": "9284e4df",
   "metadata": {
    "id": "9284e4df",
    "outputId": "d57f92d3-711e-4ddd-8514-21473f8f9bdf"
   },
   "outputs": [],
   "source": [
    "a = [1,2,3,4,5,6]\n",
    "print(a)\n",
    "print(type(a))\n",
    "\n",
    "b = ['a','hello',1,3.5,a,3.5,1]\n",
    "print(b)"
   ]
  },
  {
   "cell_type": "code",
   "execution_count": null,
   "id": "bb6678fb",
   "metadata": {
    "id": "bb6678fb",
    "outputId": "62bb0238-e7ff-4018-89ce-29a400ff90f7"
   },
   "outputs": [],
   "source": [
    "# 인덱싱\n",
    "a = [1,2,3,4,5,6]\n",
    "print(a[0],a[1],a[2],a[3],a[4],a[5],a[-1],a[-2], a[True],a[False]) # True :1과 호환,False : 0과 호환\n",
    "\n",
    "a[0] = 10   # 가변형이므로 요소 변경이 가능하다\n",
    "print(a)"
   ]
  },
  {
   "cell_type": "code",
   "execution_count": null,
   "id": "3a53b5eb",
   "metadata": {
    "id": "3a53b5eb",
    "outputId": "0032d752-8218-452d-aa6f-ecedc3542cdd"
   },
   "outputs": [],
   "source": [
    "# 슬라이싱 : a[start:end + 1:step]\n",
    "a = [1,2,3,4,5,6]\n",
    "print(a[0:1])  # from index 0 to index 2\n",
    "print(a[:3])   # 시작 인덱스 생략가능\n",
    "print(a[2:5])  # from index 2 to index 4\n",
    "print(a[2:])   # 끝 인덱스 생략가능\n",
    "print(a[:])    # print(a) 와 동일\n",
    "\n",
    "print(a[::3])  # step을 3으로\n",
    "print(a[::-1]) # 요소의 순서를 거꾸로 변경한다"
   ]
  },
  {
   "cell_type": "code",
   "execution_count": 3,
   "id": "e4736bae",
   "metadata": {
    "id": "e4736bae",
    "outputId": "edda1a95-3270-4758-f742-21f8b7219548"
   },
   "outputs": [
    {
     "name": "stdout",
     "output_type": "stream",
     "text": [
      "[0 1 2 3 4 5]\n",
      "<class 'numpy.ndarray'>\n",
      "int32\n"
     ]
    }
   ],
   "source": [
    "# ! pip install numpy\n",
    "# https://scipy.org\n",
    "import numpy as np\n",
    "\n",
    "a = np.array([0,1,2,3,4,5])\n",
    "print(a)\n",
    "print(type(a))  # <class 'numpy.ndarray'>\n",
    "print(a.dtype)  # int32"
   ]
  },
  {
   "cell_type": "markdown",
   "id": "0d563b95",
   "metadata": {
    "id": "0d563b95"
   },
   "source": [
    "### 넘파이(NumPy) : 배열(ndarray, n dimension array)\n",
    "* 리스트(list) : Linked List구조(불연속), 동작 속도가 느리다, comma로 요소구별, 서로 다른 자료형 사용가능 \n",
    "* 배열(ndarray) : 연속된 메모리 구조, 동작 속도가 빠르다, comma를 사용하지 않고 공백으로 요소 구별,오직 한 가지 타입만 갖을 수 있다 "
   ]
  },
  {
   "cell_type": "code",
   "execution_count": 2,
   "id": "c9b7fe24",
   "metadata": {
    "id": "c9b7fe24",
    "outputId": "e366fbab-4da1-48d5-fc47-de22815a5f2c"
   },
   "outputs": [
    {
     "data": {
      "text/plain": [
       "dict_keys(['?', 0, 'byte', 'b', 1, 'ubyte', 'B', 2, 'short', 'h', 3, 'ushort', 'H', 4, 'i', 5, 'uint', 'I', 6, 'intp', 'p', 9, 'uintp', 'P', 10, 'long', 'l', 7, 'L', 8, 'longlong', 'q', 'ulonglong', 'Q', 'half', 'e', 23, 'f', 11, 'double', 'd', 12, 'longdouble', 'g', 13, 'cfloat', 'F', 14, 'cdouble', 'D', 15, 'clongdouble', 'G', 16, 'O', 17, 'S', 18, 'unicode', 'U', 19, 'void', 'V', 20, 'M', 21, 'm', 22, 'bool8', 'b1', 'int64', 'i8', 'uint64', 'u8', 'float16', 'f2', 'float32', 'f4', 'float64', 'f8', 'complex64', 'c8', 'complex128', 'c16', 'object0', 'bytes0', 'str0', 'void0', 'datetime64', 'M8', 'timedelta64', 'm8', 'Bytes0', 'Datetime64', 'Str0', 'Uint64', 'int32', 'i4', 'uint32', 'u4', 'int16', 'i2', 'uint16', 'u2', 'int8', 'i1', 'uint8', 'u1', 'complex_', 'int0', 'uint0', 'single', 'csingle', 'singlecomplex', 'float_', 'intc', 'uintc', 'int_', 'longfloat', 'clongfloat', 'longcomplex', 'bool_', 'bytes_', 'string_', 'str_', 'unicode_', 'object_', 'int', 'float', 'complex', 'bool', 'object', 'str', 'bytes', 'a'])"
      ]
     },
     "execution_count": 2,
     "metadata": {},
     "output_type": "execute_result"
    }
   ],
   "source": [
    "# numpy 의 dtype 객체의 종류: 대소문자 모두 사용가능\n",
    "np.sctypeDict.keys()"
   ]
  },
  {
   "cell_type": "code",
   "execution_count": 4,
   "id": "9108d502",
   "metadata": {
    "id": "9108d502",
    "outputId": "4b7ac9a9-1083-47ea-8f13-6cd8793ea265"
   },
   "outputs": [
    {
     "name": "stdout",
     "output_type": "stream",
     "text": [
      "[0 1 2 3 4 5 6 7 8 9]\n",
      "<class 'numpy.ndarray'>\n"
     ]
    }
   ],
   "source": [
    "# np.arange(start,end+1,step)\n",
    "a = np.arange(10)\n",
    "print(a)\n",
    "print(type(a))"
   ]
  },
  {
   "cell_type": "markdown",
   "id": "92b5392a",
   "metadata": {
    "id": "92b5392a"
   },
   "source": [
    "### 차원(dimension, Rank) 과 Shape\n",
    "* 차원(Dimension, Rank) : 1,2,3 차원 , n 차원, 첫 데이터까지의 대괄호의 갯수\n",
    "* Shape : 차원의 요소의 수, 튜플 형식\n",
    "#### 1차원 Shape : (x,)\n",
    "#### 2차원 Shape : (x,y)  , 행렬(matrix)\n",
    "#### 3차원 Shape : (x,y,z) , (면,행,열)\n",
    "...\n",
    "#### n차원 Shape : (x,y,z,....)"
   ]
  },
  {
   "cell_type": "code",
   "execution_count": null,
   "id": "ea73f488",
   "metadata": {
    "id": "ea73f488",
    "outputId": "85aad808-ab77-443d-bbdf-7b1dc45c3fba"
   },
   "outputs": [],
   "source": [
    "# 1차원의 배열의 Shape\n",
    "a = np.arange(12)\n",
    "print(a,type(a))\n",
    "print(a.shape)  # (12,)  ----> 1차원\n",
    "t = a.shape\n",
    "print(type(t))\n",
    "print((a.shape)[0])"
   ]
  },
  {
   "cell_type": "code",
   "execution_count": null,
   "id": "7dc28d11",
   "metadata": {
    "id": "7dc28d11",
    "outputId": "9566d459-9d8e-4781-f291-65d1bcfd9215"
   },
   "outputs": [],
   "source": [
    "# 2차원 배열의 Shape : 행(row,가로,수직,axis = 0) 과 열(column,세로,수평,axis =1)  ==> 필수 암기\n",
    "m = np.array([[0,1,2],\n",
    "              [0,1,2]])\n",
    "print(m)\n",
    "print(m.shape)   # (2,3)  --> 2차원 , 행렬(matrix)\n",
    "print(m.shape[0], m.shape[1])"
   ]
  },
  {
   "cell_type": "code",
   "execution_count": null,
   "id": "79401e35",
   "metadata": {
    "id": "79401e35",
    "outputId": "6c729af1-d043-415f-f6c6-7fb283df007e"
   },
   "outputs": [],
   "source": [
    "# 3차원 배열의 Shape : (면,행,열)\n",
    "m = np.array([[[0,1,2],\n",
    "               [3,4,5]],\n",
    "              [[0,1,2],\n",
    "               [3,4,5]]])\n",
    "print(m)\n",
    "print(m.shape)  # (2,2,3) ---> 3차원\n",
    "print(m.shape[0],m.shape[1],m.shape[2])"
   ]
  },
  {
   "cell_type": "markdown",
   "id": "0c7f1a74",
   "metadata": {
    "id": "0c7f1a74"
   },
   "source": [
    "### 배열의 shape 바꾸기 : reshape() 함수"
   ]
  },
  {
   "cell_type": "code",
   "execution_count": null,
   "id": "bf17afc5",
   "metadata": {
    "id": "bf17afc5",
    "outputId": "e4bf5d47-bfca-41c6-dd3c-314ff213a3b5",
    "scrolled": false
   },
   "outputs": [],
   "source": [
    "m1 = np.arange(12)\n",
    "print(m1)\n",
    "print(m1.shape)  # (12,)\n",
    "\n",
    "m2 = m1.reshape(3,4)\n",
    "print(m2,m2.shape)  # (3, 4)\n",
    "\n",
    "m2 = m1.reshape(4,3)\n",
    "print(m2,m2.shape)  # (4, 3)\n",
    "\n",
    "m2 = m1.reshape(2,6)\n",
    "print(m2,m2.shape)  # (2, 6)\n",
    "\n",
    "m2 = m1.reshape(12,1)\n",
    "print(m2,m2.shape)  # (12, 1)"
   ]
  },
  {
   "cell_type": "code",
   "execution_count": null,
   "id": "570e93ca",
   "metadata": {
    "id": "570e93ca",
    "outputId": "1704ea69-33a4-4666-e755-143a214ca465"
   },
   "outputs": [],
   "source": [
    "m3 = m1.reshape(2,2,3)\n",
    "print(m3,m3.shape)"
   ]
  },
  {
   "cell_type": "code",
   "execution_count": null,
   "id": "e8e9ed8f",
   "metadata": {
    "id": "e8e9ed8f",
    "outputId": "e08dc1e4-cb98-4143-a5e5-c8faa14671f0"
   },
   "outputs": [],
   "source": [
    "m4 = m1.reshape(3,2,1,2)\n",
    "print(m4,m4.shape)"
   ]
  },
  {
   "cell_type": "code",
   "execution_count": null,
   "id": "842fb1bf",
   "metadata": {
    "id": "842fb1bf",
    "outputId": "74dbdf0f-811b-4e8a-f300-e3e66dec7e70"
   },
   "outputs": [],
   "source": [
    "# -1 을 사용한 reshape  : 요소수를 자동으로 계산\n",
    "m1 = np.arange(12)\n",
    "print(m1)\n",
    "print(m1.shape)  # (12,)\n",
    "\n",
    "m2 = m1.reshape(-1,6)  # 행의 요소수를 자동으로 계산(알아서 계산해서 만들어줌), 2\n",
    "print(m2,m2.shape)\n",
    "\n",
    "m2 = m1.reshape(4,-1)  # 열의 요소수를 자동으로 계산, 3\n",
    "print(m2,m2.shape)"
   ]
  },
  {
   "cell_type": "markdown",
   "id": "d990a244",
   "metadata": {
    "id": "d990a244"
   },
   "source": [
    "### 배열의 인덱싱과 슬라이싱"
   ]
  },
  {
   "cell_type": "code",
   "execution_count": 3,
   "id": "ba113bb9",
   "metadata": {
    "id": "ba113bb9",
    "outputId": "e65d542a-824b-42dd-80f5-38dfcfa0b26b"
   },
   "outputs": [
    {
     "name": "stdout",
     "output_type": "stream",
     "text": [
      "[ 0  1  2  3  4  5  6  7  8  9 10 11] (12,)\n",
      "0 1 2 3 11\n",
      "[2 3 4 5 6 7] [ 0  1  2  3  4  5  6  7  8  9 10 11] [ 0  1  2  3  4  5  6  7  8  9 10]\n",
      "[ 0  2  4  6  8 10] [11 10  9  8  7  6  5  4  3  2  1  0]\n",
      "[10  1  2  3  4  5  6  7  8  9 10 11]\n"
     ]
    }
   ],
   "source": [
    "# 1차원 배열의 인덱싱과 슬라이싱 : list 와 동일한 방법\n",
    "d = np.arange(12)\n",
    "print(d,d.shape)  # (12,)\n",
    "\n",
    "print(d[0],d[1],d[2],d[3],d[-1])\n",
    "\n",
    "print(d[2:8],d[:],d[:-1])\n",
    "print(d[::2], d[::-1])   # step을 -1로 하면 요소의 순서를 거꾸로 변경한다\n",
    "\n",
    "d[0] = 10   # list 처럼 요소 변경이 가능\n",
    "print(d)"
   ]
  },
  {
   "cell_type": "code",
   "execution_count": 4,
   "id": "09ab83a1",
   "metadata": {
    "id": "09ab83a1",
    "outputId": "dad317b5-d6b5-471a-b1b2-24a29607af0e"
   },
   "outputs": [
    {
     "name": "stdout",
     "output_type": "stream",
     "text": [
      "[[ 0  1  2  3]\n",
      " [ 4  5  6  7]\n",
      " [ 8  9 10 11]] (3, 4)\n",
      "0\n",
      "0\n",
      "9\n",
      "[0 1 2 3]\n",
      "[0 1 2 3]\n",
      "[[ 0  1  2]\n",
      " [ 4  5  6]\n",
      " [ 8  9 10]]\n",
      "[[ 1  2  3]\n",
      " [ 5  6  7]\n",
      " [ 9 10 11]]\n",
      "[[ 0  2]\n",
      " [ 8 10]]\n",
      "[[20 20 20 20]\n",
      " [ 4  5  6  7]\n",
      " [ 8  9 10 11]]\n",
      "[[30 20 20 30]\n",
      " [ 4  5  6  7]\n",
      " [30  9 10 30]]\n",
      "[[-1 -1 -1 -1]\n",
      " [-1 -1 -1 -1]\n",
      " [-1 -1 -1 -1]]\n"
     ]
    }
   ],
   "source": [
    "# 2차원 배열의 인덱싱과 슬라이싱 \n",
    "# data[행,열]\n",
    "d = np.arange(12).reshape(3,4)\n",
    "print(d,d.shape)\n",
    "\n",
    "# 인덱싱\n",
    "print(d[0][0])  # 0\n",
    "print(d[0,0])   # 0\n",
    "print(d[2,1])   # 9\n",
    "\n",
    "# 슬라이싱\n",
    "print(d[0])     # [0 1 2 3]\n",
    "print(d[0,:])   # [0 1 2 3]\n",
    "\n",
    "print(d[:,:-1])  # (3,3) , 마지막 열(컬럼)을 제외\n",
    "print(d[:,1:])   # (3,3) , 첫번째 열(컬럼)을 제외\n",
    "print(d[::2,::2])\n",
    "\n",
    "d[0] = 20   # 0번 행의 모든 요소를 20으로 변경\n",
    "print(d)\n",
    "\n",
    "d[::2,::3] = 30    # 슬라이싱 된 요소 전체를 한번에 변경할 수 있다\n",
    "print(d)\n",
    "\n",
    "d[:,:] = -1        # 전체 요소를 한번에 변경할 수 있다\n",
    "print(d)"
   ]
  },
  {
   "cell_type": "code",
   "execution_count": null,
   "id": "2cfa7b8b",
   "metadata": {
    "id": "2cfa7b8b",
    "outputId": "e6b940c3-a953-4d73-efe7-90434e3661be"
   },
   "outputs": [],
   "source": [
    "# 3차원 배열의 인덱싱과 슬라이싱\n",
    "# data[면,행,열]\n",
    "d = np.arange(12).reshape(2,2,3)\n",
    "print(d,d.shape)\n",
    "\n",
    "# 인덱싱\n",
    "print(d[0][0][0])  # 0 old style\n",
    "print(d[0,0,0])    # 0\n",
    "print(d[0,1,2])    # 5\n",
    "\n",
    "# 슬라이싱\n",
    "print(d[:,:-1,:-1])  # (2,1,2)\n",
    "print(d[:,1:,1:])    # (2,1,2)\n",
    "print(d[:,-1,-1])    # (2,)\n",
    "print(d[:,:,-1])     # (2,2)"
   ]
  },
  {
   "cell_type": "code",
   "execution_count": null,
   "id": "efe436d7",
   "metadata": {
    "id": "efe436d7",
    "outputId": "e6a3d2e4-ddf0-45a1-e456-b959de999252"
   },
   "outputs": [],
   "source": [
    "# 인덱싱 결과는 scalar\n",
    "# 슬라이싱 결과는 ndarray\n",
    "a = np.arange(12)\n",
    "print(a,a.shape)\n",
    "\n",
    "print(a[0])    # 0, scalar\n",
    "print(a[0:1])  # [0] , 배열(ndarray)"
   ]
  },
  {
   "cell_type": "markdown",
   "id": "10d93d06",
   "metadata": {
    "id": "10d93d06"
   },
   "source": [
    "### 불린 인덱싱 : 조건식을 사용한 인덱싱, 조건 검색 필터를 사용한 추출(매우 중요)"
   ]
  },
  {
   "cell_type": "code",
   "execution_count": null,
   "id": "6b5c55b6",
   "metadata": {
    "id": "6b5c55b6",
    "outputId": "305518ac-62a2-4d99-8cec-6550086b219e"
   },
   "outputs": [],
   "source": [
    "a = np.array([1,2,3,4,5,6])\n",
    "print(a)\n",
    "\n",
    "print(a > 2)\n",
    "print(a[a > 2]) # 배열 a에서 2보다 큰 요소를 추출, 결과는 배열\n",
    "# print(a[[False, False,  True,  True,  True,  True]])\n",
    "\n",
    "boolean_index = np.array([True,False,True,False,True,True])\n",
    "print(boolean_index)\n",
    "print(a[boolean_index])\n",
    "\n",
    "print(a[a!=3])               # 배열 a에서 3이 아닌 요소를 추출\n",
    "print(a[(a > 2) & (a < 6)])  # 배열 a에서 2보다 크고 6보다 작은 요소를 추출\n",
    "print(a[a % 2 == 0])         # 2의 배수(짝수)를 추출\n",
    "print(a[a < a.mean()])       # 평균보다 작은 값을 추출"
   ]
  },
  {
   "cell_type": "code",
   "execution_count": null,
   "id": "a890f890",
   "metadata": {
    "id": "a890f890",
    "outputId": "f09c60e2-bb4a-4d4f-aba5-5be05f1e479d",
    "scrolled": false
   },
   "outputs": [],
   "source": [
    "# 배열의 형상 다루기 : reshape(), flatten()(편평화),transpose()(전치)\n",
    "\n",
    "# flatten() : 다차원 배열을 1차원으로 만든다\n",
    "a = np.arange(12).reshape(3,4)\n",
    "print(a,a.shape)\n",
    "\n",
    "f = a.flatten()      # (3,4)  ----> (12,)\n",
    "print(f,f.shape)\n",
    "\n",
    "# 데이터 순서를 거꾸로 변경\n",
    "print(a[::-1])       # 행의 순서를 거꾸로 변경\n",
    "print(a[:,::-1])     # 열의 순서를 거꾸로 변경\n",
    "print(a[::-1,::-1])  # 행과 열의 순서를 거꾸로 변경\n",
    "print('-'*20)\n",
    "\n",
    "# transpose() : 전치 행렬 , 행과 열을 서로 맞바꾸는 함수\n",
    "t = a.transpose()\n",
    "print(t,t.shape)    # (3,4)  ---> (4,3)   , (x,y) --> (y,x)\n",
    "print(a.T)          # transpose()함수와 동일한 결과\n",
    "\n",
    "\n",
    "# 임시로 1차원으로 변경하여 데우터를 채우고 다시 원래의 shape을 갖는다\n",
    "# 배열의 요소 전체를 한번에 초기화 할때 사용\n",
    "a.flat = 0\n",
    "print(a)"
   ]
  },
  {
   "cell_type": "markdown",
   "id": "454fe214",
   "metadata": {
    "id": "454fe214"
   },
   "source": [
    "### numpy 의 속성(Attribute) : 멤버변수,메서드\n",
    "#### dtype, shape, ndim, flat, T, size, nbytes"
   ]
  },
  {
   "cell_type": "code",
   "execution_count": null,
   "id": "32e8a2e9",
   "metadata": {
    "id": "32e8a2e9",
    "outputId": "3d1b1051-f2a1-440a-af61-8988a59d037b"
   },
   "outputs": [],
   "source": [
    "d = np.arange(12).reshape(3,4)\n",
    "print(d,d.shape)\n",
    "print(d.dtype)  # int32 or int64\n",
    "print(d.ndim)   # 2차원  ==> print(len(d.shape)) 와 동일\n",
    "print(d.T)      # transpose()함수와 동일한 결과, 전치행렬\n",
    "print(d.size)   # 12개 , 요소의 갯수\n",
    "print(d.nbytes) # 48 bytes : 32bit(4 byte) * 12 \n",
    "d.flat = 1\n",
    "print(d)"
   ]
  },
  {
   "cell_type": "code",
   "execution_count": null,
   "id": "b4b78485",
   "metadata": {
    "id": "b4b78485",
    "outputId": "dd81374a-0792-462d-8220-ce8576c67d0c"
   },
   "outputs": [],
   "source": [
    "# numpy 통계 함수들\n",
    "a = np.arange(12).reshape(3,4)\n",
    "print(a,a.shape)\n",
    "\n",
    "print(a.max())    # 최대값\n",
    "print(np.max(a))\n",
    "\n",
    "print(a.min())    # 최소값\n",
    "print(np.min(a))\n",
    "\n",
    "print(a.sum())    # 합\n",
    "print(a.mean())   # 평균\n",
    "\n",
    "print(a.std())    # 표준 편차    \n",
    "print(a.var())    # 분산\n",
    "print(np.median(a))  # 중위수\n",
    "\n",
    "# 사분위수\n",
    "print('25%:',np.percentile(a,25)) # 1사분위수(Q1)\n",
    "print('50%:',np.percentile(a,50)) # 2사분위수(Q2), median()과 같은 값\n",
    "print('75%:',np.percentile(a,75)) # 3사분위수(Q3)"
   ]
  },
  {
   "cell_type": "code",
   "execution_count": null,
   "id": "05843d71",
   "metadata": {
    "id": "05843d71"
   },
   "outputs": [],
   "source": []
  }
 ],
 "metadata": {
  "colab": {
   "collapsed_sections": [],
   "provenance": []
  },
  "kernelspec": {
   "display_name": "Python 3 (ipykernel)",
   "language": "python",
   "name": "python3"
  },
  "language_info": {
   "codemirror_mode": {
    "name": "ipython",
    "version": 3
   },
   "file_extension": ".py",
   "mimetype": "text/x-python",
   "name": "python",
   "nbconvert_exporter": "python",
   "pygments_lexer": "ipython3",
   "version": "3.9.12"
  }
 },
 "nbformat": 4,
 "nbformat_minor": 5
}
