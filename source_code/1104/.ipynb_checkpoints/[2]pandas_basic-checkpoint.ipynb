{
 "cells": [
  {
   "cell_type": "markdown",
   "id": "11ad2757",
   "metadata": {},
   "source": [
    "### Pandas\n",
    "#### (1) DataFrame 객체 : 2차원 배열, 서로 다른 자료형을 사용할 수 있다,  행(인스턴스), 열(컬럼,피쳐(feature))\n",
    "####                                                                                                                             시리즈 :열,세로    레코드 : 행(가로)\n",
    "#### (2) Series 객체  : 1차원 배열, 1차원 ndarray 와 호환"
   ]
  },
  {
   "cell_type": "markdown",
   "id": "141b7922",
   "metadata": {},
   "source": [
    "### [1] 데이터 프레임(DataFrame) 객체"
   ]
  },
  {
   "cell_type": "code",
   "execution_count": null,
   "id": "419531ad",
   "metadata": {},
   "outputs": [],
   "source": [
    "# ! pip install pandas\n",
    "import pandas as pd\n",
    "import numpy as np\n",
    "\n",
    "# 2차원 리스트, 배열을 사용하여 생성\n",
    "df = pd.DataFrame([[1,2,3],\n",
    "                   [4,5,6],\n",
    "                   [7,8,9]])\n",
    "print(type(df))\n",
    "# print(df)\n",
    "df"
   ]
  },
  {
   "cell_type": "code",
   "execution_count": null,
   "id": "9e1c93a5",
   "metadata": {},
   "outputs": [],
   "source": [
    "# 사전(dict)을 사용하여 생성\n",
    "score_table = { '성명': ['홍길동','김철수','김영희','나','너'],\n",
    "                '국어': [50,60,70,80,90],\n",
    "                '영어': [10,20,30,40,50],\n",
    "                '수학': [70,80,90,30,20]}\n",
    "print(score_table)\n",
    "\n",
    "df = pd.DataFrame(score_table)\n",
    "print(type(df))\n",
    "df"
   ]
  },
  {
   "cell_type": "code",
   "execution_count": null,
   "id": "5c9cda43",
   "metadata": {},
   "outputs": [],
   "source": [
    "df.shape"
   ]
  },
  {
   "cell_type": "code",
   "execution_count": null,
   "id": "878f6995",
   "metadata": {},
   "outputs": [],
   "source": [
    "df.index # 행의 index"
   ]
  },
  {
   "cell_type": "code",
   "execution_count": null,
   "id": "29f4663f",
   "metadata": {},
   "outputs": [],
   "source": [
    "df.columns # 컬럼 이름 목록 , object : 문자열"
   ]
  },
  {
   "cell_type": "code",
   "execution_count": null,
   "id": "e3f50ec0",
   "metadata": {},
   "outputs": [],
   "source": [
    "df.values  # 전체 데이터를 추출, 문자와 숫자가 함께 사용 ==> 'object'"
   ]
  },
  {
   "cell_type": "markdown",
   "id": "6cf4b97b",
   "metadata": {},
   "source": [
    "### pandas 로 csv 파일 읽고 쓰기\n",
    "* pd.read_csv('파일명')\n",
    "* pd.to_csv('파일명')"
   ]
  },
  {
   "cell_type": "code",
   "execution_count": null,
   "id": "49a8aaf5",
   "metadata": {},
   "outputs": [],
   "source": [
    "# csv(comma separated values) : 쉼표로 데이터를 구분해놓은 텍스트 파일\n",
    "\n",
    "# 인코딩 설정\n",
    "# df = pd.read_csv('xxx.csv ', encoding = 'utf-8')   # mac ,linux  --> windows\n",
    "# df = pd.read_csv('xxx.csv ', encoding = 'cp949')   # windows--> mac,linux\n",
    "\n",
    "# 맥북에서 깃허브의 csv 파일 저장시 오류 발생시 조치 방법\n",
    "# 파일을 저장할 때 포맷을 웹아카이브로 저장될텐데 ‘페이지소스’로  지정해서 \n",
    "# 저장하셔야 합니다. 그 뒤에 확장자명을 csv로 하니까 안되서 다시 txt로 \n",
    "# 지정해주니 인코딩 없이 잘됨"
   ]
  },
  {
   "cell_type": "code",
   "execution_count": null,
   "id": "8dc4ac4e",
   "metadata": {},
   "outputs": [],
   "source": [
    "df = pd.read_csv('../../data/WHO_first9cols.csv')\n",
    "print(type(df))\n",
    "df\n",
    "\n",
    "# NaN : Not a Number, 결측치"
   ]
  },
  {
   "cell_type": "code",
   "execution_count": null,
   "id": "c2c0f911",
   "metadata": {},
   "outputs": [],
   "source": [
    "# csv 파일을 저장하기\n",
    "df.to_csv('../../data/세계보건기구_9개컬럼.csv',index=False)\n",
    "# index = False , 인덱스 값이 추가로 저장되지 않도록 설정\n",
    "\n",
    "df2 = pd.read_csv('../../data/세계보건기구_9개컬럼.csv')\n",
    "df2"
   ]
  },
  {
   "cell_type": "code",
   "execution_count": null,
   "id": "6a46f5dd",
   "metadata": {},
   "outputs": [],
   "source": [
    "df.shape"
   ]
  },
  {
   "cell_type": "code",
   "execution_count": null,
   "id": "275fbef2",
   "metadata": {},
   "outputs": [],
   "source": [
    "len(df)"
   ]
  },
  {
   "cell_type": "code",
   "execution_count": null,
   "id": "286c7581",
   "metadata": {},
   "outputs": [],
   "source": [
    "df.columns"
   ]
  },
  {
   "cell_type": "code",
   "execution_count": null,
   "id": "63769803",
   "metadata": {},
   "outputs": [],
   "source": [
    "# 각 컬럼의 이름을 얻기\n",
    "df.columns[0]  # 첫 번째 컬럼명\n",
    "df.columns[1]  # 두 번째 컬럼명\n",
    "df.columns[8]  # 마지막 컬럼명\n",
    "df.columns[-1] # 마지막 컬럼명"
   ]
  },
  {
   "cell_type": "code",
   "execution_count": null,
   "id": "20685021",
   "metadata": {},
   "outputs": [],
   "source": [
    "df.index"
   ]
  },
  {
   "cell_type": "code",
   "execution_count": null,
   "id": "b21df2d5",
   "metadata": {},
   "outputs": [],
   "source": [
    "df.values"
   ]
  },
  {
   "cell_type": "code",
   "execution_count": null,
   "id": "2232c620",
   "metadata": {},
   "outputs": [],
   "source": [
    "df.head()     # 앞 5행만 출력\n",
    "df.head(10)   # 앞 10행만 출력\n",
    "\n",
    "df.tail()     # 끝 5행만 출력\n",
    "df.tail(10)   # 끝 10행만 출력\n",
    "\n",
    "df.head(60)   # 60개 까지는 모두 출력, 그 이상일 경우는 생략\n",
    "\n",
    "pd.set_option('display.max_rows',200) # 행의 출력 최대값을 200으로 설정\n",
    "df.head(200)\n",
    "pd.set_option('display.max_rows',60) # 행의 출력 최대값을 60으로 설정\n",
    "df.head(200)"
   ]
  },
  {
   "cell_type": "code",
   "execution_count": null,
   "id": "79d65437",
   "metadata": {},
   "outputs": [],
   "source": [
    "# DataFrame을 행(row)으로 접근 : 슬라이싱으로 행을 추출\n",
    "# df[start행번호:end행번호 + 1:step]\n",
    "df[0:5]    # df.head() 동일한 결과\n",
    "df[0:1]    # 0번 행만 추출\n",
    "df[90:100]\n",
    "df[::3]\n",
    "df[::-1]\n",
    "\n",
    "# 사용 주의  ==> df.iloc[]을 사용하면 해결\n",
    "# df[0]   # KeyError  \n",
    "# df[3,1] # KeyError  \n",
    "# df[3,:] # KeyError "
   ]
  },
  {
   "cell_type": "code",
   "execution_count": null,
   "id": "4b82a6cf",
   "metadata": {},
   "outputs": [],
   "source": [
    "# DataFrame을 열(column)으로 접근 : 컬럼이름으로 접근\n",
    "len(df.columns)   # 9\n",
    "df['Country']     # 'Country' 컬럼을 Series 객체로 추출, 1차원 배열\n",
    "df[df.columns[0]] #  0번 컬럼을 Series 객체로 추출, 1차원 배열\n",
    "df[df.columns[1]]\n",
    "\n",
    "df[df.columns[8]] # 마지막 컬럼을 Series 객체로 추출, 1차원 배열\n",
    "df[df.columns[-1]] # 마지막 컬럼을 Series 객체로 추출, 1차원 배열\n",
    "df['Population (in thousands) total'] # 마지막 컬럼을 Series 객체로 추출, 1차원 배열"
   ]
  },
  {
   "cell_type": "code",
   "execution_count": null,
   "id": "8c380588",
   "metadata": {},
   "outputs": [],
   "source": [
    "sr = df['Country']   # Series 객체: 1차원 배열(ndarray)과 호환\n",
    "print(type(sr))\n",
    "\n",
    "sr = df[df.columns[-1]]  # Series 객체: 1차원 배열(ndarray)과 호환\n",
    "print(type(sr))\n",
    "sr"
   ]
  },
  {
   "cell_type": "code",
   "execution_count": null,
   "id": "aaa20b6a",
   "metadata": {},
   "outputs": [],
   "source": [
    "# 1개 컬럼의 요소 접근\n",
    "\n",
    "# 인덱싱\n",
    "print(df['Country'][0])     # Afghanistan\n",
    "print(df[df.columns[0]][0]) # Afghanistan\n",
    "\n",
    "print(df[df.columns[0]][201])  # Zimbabwe\n",
    "# print(df[df.columns[0]][-1]) # 주의 : 오류 ==> df.iloc[-1,0]\n",
    "type(df[df.columns[0]][0])     # str\n",
    "\n",
    "# 슬라이싱  : Series객체\n",
    "df[df.columns[0]][2:6]  # 2번행 부터 5번행까지\n",
    "df[df.columns[0]][:-1]  # 마지막행은 제외\n",
    "df[df.columns[0]][::3]  # 3개의 step으로 슬라이싱\n",
    "df[df.columns[0]][-1:]  # 마지막 행만 추출\n",
    "df[df.columns[0]][::-1] # 행을 역순으로 출력"
   ]
  },
  {
   "cell_type": "code",
   "execution_count": null,
   "id": "971903de",
   "metadata": {},
   "outputs": [],
   "source": [
    "df.Country  #  df['Country'] 와 동일한 결과"
   ]
  },
  {
   "cell_type": "code",
   "execution_count": null,
   "id": "6b7b4363",
   "metadata": {},
   "outputs": [],
   "source": [
    "# 여러개의 컬럼을 가져오기 : 여러개의 컬럼명을 리스트로 만들어서 인덱싱에 사용\n",
    "df[['Country','CountryID','Continent']]         # DataFrame 추출\n",
    "df[[df.columns[0],df.columns[1],df.columns[2]]] # DataFrame 추출\n",
    "\n",
    "# df[[df.columns[0],df.columns[1],df.columns[2]]][0]    # DataFrame의 인덱싱, 오류\n",
    "df[[df.columns[0],df.columns[1],df.columns[2]]][2:15:3] # 슬라이싱"
   ]
  },
  {
   "cell_type": "markdown",
   "id": "7d808b09",
   "metadata": {},
   "source": [
    "#### DataFrame의 요소 접근하기 : 읽기와 수정\n",
    "* (1) df.loc[행번호,열] : 명시적인 index\n",
    "* (2) df.iloc[행번호,열] : 묵시적인 index, 파이썬 스타일, int형 0 부터 시작\n",
    "* df.ix[] ; 최신 버전에서 삭제됨"
   ]
  },
  {
   "cell_type": "code",
   "execution_count": null,
   "id": "3f757a79",
   "metadata": {},
   "outputs": [],
   "source": [
    "# df.loc[]\n",
    "df.loc[3,'Country']  # 3번 행, 0번('Country') 컬럼\n",
    "df.loc[:3,'Country'] # start:end,   end + 1 이 아님을 주의\n",
    "df.loc[:3,['Country','CountryID','Continent']]"
   ]
  },
  {
   "cell_type": "code",
   "execution_count": null,
   "id": "15871bd1",
   "metadata": {},
   "outputs": [],
   "source": [
    "# df.iloc[] : index를 int형으로 사용, 자주 사용됨!\n",
    "df.iloc[3,0]   # 3번 행, 0번 컬럼  , str 객체\n",
    "df.iloc[:4,0]  # start:end +1     , Series 객체\n",
    "df.iloc[:4,:3] # DataFrame 객체\n",
    "df.iloc[:4,[0,2,4]]  # DataFrame 객체\n",
    "\n",
    "df.iloc[:,:-1]   # 마지막 컬럼만 제외,  X (독립변수) 추출\n",
    "df.iloc[:,-1]    # 마지막 컬럼만 추출,  Y (종속변수) 추출\n",
    "\n",
    "# -1 사용 가능\n",
    "df.iloc[-1,0]\n",
    "df.iloc[0,-1]\n",
    "\n",
    "# 스칼라 요소 값의 변경\n",
    "df.iloc[3,0] = 'Dorra'       # 'Andorra'  ---> 'Dorra'\n",
    "df.iloc[3,0] = 'Andorra'     # 'Dorra'    ---> 'Andorra'\n",
    "df"
   ]
  },
  {
   "cell_type": "code",
   "execution_count": null,
   "id": "f1a72620",
   "metadata": {},
   "outputs": [],
   "source": [
    "df"
   ]
  },
  {
   "cell_type": "code",
   "execution_count": null,
   "id": "e6f11f22",
   "metadata": {},
   "outputs": [],
   "source": [
    "# 배열을 슬라이싱한 객체는 원본과 메모리를 공유\n",
    "a = np.array([0,1,2,3,4,5])\n",
    "b = a[:3]\n",
    "print(a,b)\n",
    "b[0] = 100\n",
    "print(a)\n",
    "print(b)\n",
    "print(np.shares_memory(a,b))  # True\n",
    "print(id(a),id(b))"
   ]
  },
  {
   "cell_type": "code",
   "execution_count": null,
   "id": "1ddce4cc",
   "metadata": {},
   "outputs": [],
   "source": [
    "# 데이터 프레임을 슬라이싱한 객체는 원본과 메모리를 공유하지 않음,copy본임\n",
    "df2 = df                 # 메모리를 공유\n",
    "df3 = df.copy()          # copy, 별도의 메모리 사용\n",
    "df4 = df.iloc[:,0:3]     # copy, 별도의 메모리 사용\n",
    "\n",
    "print(np.shares_memory(df,df3))  # False\n",
    "print(np.shares_memory(df,df4))  # False\n",
    "\n",
    "df4.iloc[0,0] = 50\n",
    "df"
   ]
  },
  {
   "cell_type": "code",
   "execution_count": null,
   "id": "7bd3f41b",
   "metadata": {},
   "outputs": [],
   "source": [
    "df4"
   ]
  },
  {
   "cell_type": "code",
   "execution_count": null,
   "id": "c397b6d5",
   "metadata": {},
   "outputs": [],
   "source": []
  }
 ],
 "metadata": {
  "kernelspec": {
   "display_name": "Python 3 (ipykernel)",
   "language": "python",
   "name": "python3"
  },
  "language_info": {
   "codemirror_mode": {
    "name": "ipython",
    "version": 3
   },
   "file_extension": ".py",
   "mimetype": "text/x-python",
   "name": "python",
   "nbconvert_exporter": "python",
   "pygments_lexer": "ipython3",
   "version": "3.9.12"
  }
 },
 "nbformat": 4,
 "nbformat_minor": 5
}
