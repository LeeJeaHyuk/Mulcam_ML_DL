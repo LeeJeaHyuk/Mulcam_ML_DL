{
 "cells": [
  {
   "cell_type": "code",
   "execution_count": 278,
   "id": "b76c08f4",
   "metadata": {},
   "outputs": [],
   "source": [
    "from IPython.core.interactiveshell import InteractiveShell\n",
    "InteractiveShell.ast_node_interactivity = \"all\""
   ]
  },
  {
   "cell_type": "code",
   "execution_count": 319,
   "id": "acd55356",
   "metadata": {},
   "outputs": [],
   "source": [
    "import pandas as pd\n",
    "import numpy as np"
   ]
  },
  {
   "cell_type": "code",
   "execution_count": 318,
   "id": "f40705ba",
   "metadata": {},
   "outputs": [
    {
     "data": {
      "text/html": [
       "<div>\n",
       "<style scoped>\n",
       "    .dataframe tbody tr th:only-of-type {\n",
       "        vertical-align: middle;\n",
       "    }\n",
       "\n",
       "    .dataframe tbody tr th {\n",
       "        vertical-align: top;\n",
       "    }\n",
       "\n",
       "    .dataframe thead th {\n",
       "        text-align: right;\n",
       "    }\n",
       "</style>\n",
       "<table border=\"1\" class=\"dataframe\">\n",
       "  <thead>\n",
       "    <tr style=\"text-align: right;\">\n",
       "      <th></th>\n",
       "      <th>국어</th>\n",
       "      <th>영어</th>\n",
       "      <th>수학</th>\n",
       "      <th>평가</th>\n",
       "    </tr>\n",
       "  </thead>\n",
       "  <tbody>\n",
       "    <tr>\n",
       "      <th>0</th>\n",
       "      <td>90</td>\n",
       "      <td>81</td>\n",
       "      <td>89</td>\n",
       "      <td>A</td>\n",
       "    </tr>\n",
       "    <tr>\n",
       "      <th>1</th>\n",
       "      <td>80</td>\n",
       "      <td>72</td>\n",
       "      <td>79</td>\n",
       "      <td>B</td>\n",
       "    </tr>\n",
       "    <tr>\n",
       "      <th>2</th>\n",
       "      <td>90</td>\n",
       "      <td>81</td>\n",
       "      <td>89</td>\n",
       "      <td>A</td>\n",
       "    </tr>\n",
       "    <tr>\n",
       "      <th>3</th>\n",
       "      <td>80</td>\n",
       "      <td>72</td>\n",
       "      <td>79</td>\n",
       "      <td>B</td>\n",
       "    </tr>\n",
       "    <tr>\n",
       "      <th>4</th>\n",
       "      <td>70</td>\n",
       "      <td>63</td>\n",
       "      <td>69</td>\n",
       "      <td>B</td>\n",
       "    </tr>\n",
       "  </tbody>\n",
       "</table>\n",
       "</div>"
      ],
      "text/plain": [
       "   국어   영어   수학  평가\n",
       "0   90   81   89  A\n",
       "1   80   72   79  B\n",
       "2   90   81   89  A\n",
       "3   80   72   79  B\n",
       "4   70   63   69  B"
      ]
     },
     "execution_count": 318,
     "metadata": {},
     "output_type": "execute_result"
    }
   ],
   "source": [
    "# Q2 load.iris 데이터 로드\n",
    "import csv\n",
    "from sklearn.datasets import load_iris\n",
    "\n",
    "df = pd.read_csv('../../data/test.csv', sep=\",\",encoding = 'euc-kr')\n",
    "df.head()\n",
    "\n",
    "data = df"
   ]
  },
  {
   "cell_type": "code",
   "execution_count": 282,
   "id": "76914183",
   "metadata": {},
   "outputs": [
    {
     "data": {
      "text/plain": [
       "pandas.core.frame.DataFrame"
      ]
     },
     "execution_count": 282,
     "metadata": {},
     "output_type": "execute_result"
    },
    {
     "name": "stdout",
     "output_type": "stream",
     "text": [
      "Index(['국어 ', '영어 ', '수학 ', '평가'], dtype='object')\n"
     ]
    }
   ],
   "source": [
    "#Q4 test 데이터 키 확인\n",
    "type(data)\n",
    "print(data.keys())"
   ]
  },
  {
   "cell_type": "code",
   "execution_count": 283,
   "id": "9b6a5a3b",
   "metadata": {},
   "outputs": [
    {
     "data": {
      "text/html": [
       "<div>\n",
       "<style scoped>\n",
       "    .dataframe tbody tr th:only-of-type {\n",
       "        vertical-align: middle;\n",
       "    }\n",
       "\n",
       "    .dataframe tbody tr th {\n",
       "        vertical-align: top;\n",
       "    }\n",
       "\n",
       "    .dataframe thead th {\n",
       "        text-align: right;\n",
       "    }\n",
       "</style>\n",
       "<table border=\"1\" class=\"dataframe\">\n",
       "  <thead>\n",
       "    <tr style=\"text-align: right;\">\n",
       "      <th></th>\n",
       "      <th>국어</th>\n",
       "      <th>영어</th>\n",
       "      <th>수학</th>\n",
       "      <th>평가</th>\n",
       "    </tr>\n",
       "  </thead>\n",
       "  <tbody>\n",
       "    <tr>\n",
       "      <th>0</th>\n",
       "      <td>90</td>\n",
       "      <td>81</td>\n",
       "      <td>89</td>\n",
       "      <td>A</td>\n",
       "    </tr>\n",
       "    <tr>\n",
       "      <th>1</th>\n",
       "      <td>80</td>\n",
       "      <td>72</td>\n",
       "      <td>79</td>\n",
       "      <td>B</td>\n",
       "    </tr>\n",
       "    <tr>\n",
       "      <th>2</th>\n",
       "      <td>90</td>\n",
       "      <td>81</td>\n",
       "      <td>89</td>\n",
       "      <td>A</td>\n",
       "    </tr>\n",
       "    <tr>\n",
       "      <th>3</th>\n",
       "      <td>80</td>\n",
       "      <td>72</td>\n",
       "      <td>79</td>\n",
       "      <td>B</td>\n",
       "    </tr>\n",
       "    <tr>\n",
       "      <th>4</th>\n",
       "      <td>70</td>\n",
       "      <td>63</td>\n",
       "      <td>69</td>\n",
       "      <td>B</td>\n",
       "    </tr>\n",
       "  </tbody>\n",
       "</table>\n",
       "</div>"
      ],
      "text/plain": [
       "   국어   영어   수학  평가\n",
       "0   90   81   89  A\n",
       "1   80   72   79  B\n",
       "2   90   81   89  A\n",
       "3   80   72   79  B\n",
       "4   70   63   69  B"
      ]
     },
     "execution_count": 283,
     "metadata": {},
     "output_type": "execute_result"
    }
   ],
   "source": [
    "#Q7 판다스로 연동\n",
    "pd_data = pd.DataFrame(data=data, columns = data.columns)\n",
    "pd_data.head()"
   ]
  },
  {
   "cell_type": "code",
   "execution_count": 285,
   "id": "58a32f5e",
   "metadata": {},
   "outputs": [
    {
     "data": {
      "text/html": [
       "<div>\n",
       "<style scoped>\n",
       "    .dataframe tbody tr th:only-of-type {\n",
       "        vertical-align: middle;\n",
       "    }\n",
       "\n",
       "    .dataframe tbody tr th {\n",
       "        vertical-align: top;\n",
       "    }\n",
       "\n",
       "    .dataframe thead th {\n",
       "        text-align: right;\n",
       "    }\n",
       "</style>\n",
       "<table border=\"1\" class=\"dataframe\">\n",
       "  <thead>\n",
       "    <tr style=\"text-align: right;\">\n",
       "      <th></th>\n",
       "      <th>kor</th>\n",
       "      <th>eng</th>\n",
       "      <th>math</th>\n",
       "      <th>grade</th>\n",
       "    </tr>\n",
       "  </thead>\n",
       "  <tbody>\n",
       "    <tr>\n",
       "      <th>0</th>\n",
       "      <td>90</td>\n",
       "      <td>81</td>\n",
       "      <td>89</td>\n",
       "      <td>A</td>\n",
       "    </tr>\n",
       "    <tr>\n",
       "      <th>1</th>\n",
       "      <td>80</td>\n",
       "      <td>72</td>\n",
       "      <td>79</td>\n",
       "      <td>B</td>\n",
       "    </tr>\n",
       "    <tr>\n",
       "      <th>2</th>\n",
       "      <td>90</td>\n",
       "      <td>81</td>\n",
       "      <td>89</td>\n",
       "      <td>A</td>\n",
       "    </tr>\n",
       "    <tr>\n",
       "      <th>3</th>\n",
       "      <td>80</td>\n",
       "      <td>72</td>\n",
       "      <td>79</td>\n",
       "      <td>B</td>\n",
       "    </tr>\n",
       "    <tr>\n",
       "      <th>4</th>\n",
       "      <td>70</td>\n",
       "      <td>63</td>\n",
       "      <td>69</td>\n",
       "      <td>B</td>\n",
       "    </tr>\n",
       "  </tbody>\n",
       "</table>\n",
       "</div>"
      ],
      "text/plain": [
       "  kor eng math grade\n",
       "0  90  81   89     A\n",
       "1  80  72   79     B\n",
       "2  90  81   89     A\n",
       "3  80  72   79     B\n",
       "4  70  63   69     B"
      ]
     },
     "execution_count": 285,
     "metadata": {},
     "output_type": "execute_result"
    }
   ],
   "source": [
    "# data = array를 넣어줘야함\n",
    "# data.to_numpy()\n",
    "pd_score = pd.DataFrame(data=data.to_numpy(), columns = ['kor','eng','math','grade'])\n",
    "pd_score.head()"
   ]
  },
  {
   "cell_type": "code",
   "execution_count": 286,
   "id": "9fe6150a",
   "metadata": {},
   "outputs": [
    {
     "data": {
      "text/html": [
       "<div>\n",
       "<style scoped>\n",
       "    .dataframe tbody tr th:only-of-type {\n",
       "        vertical-align: middle;\n",
       "    }\n",
       "\n",
       "    .dataframe tbody tr th {\n",
       "        vertical-align: top;\n",
       "    }\n",
       "\n",
       "    .dataframe thead th {\n",
       "        text-align: right;\n",
       "    }\n",
       "</style>\n",
       "<table border=\"1\" class=\"dataframe\">\n",
       "  <thead>\n",
       "    <tr style=\"text-align: right;\">\n",
       "      <th></th>\n",
       "      <th>kor</th>\n",
       "      <th>eng</th>\n",
       "      <th>math</th>\n",
       "      <th>grade</th>\n",
       "    </tr>\n",
       "  </thead>\n",
       "  <tbody>\n",
       "    <tr>\n",
       "      <th>0</th>\n",
       "      <td>90</td>\n",
       "      <td>81</td>\n",
       "      <td>89</td>\n",
       "      <td>A</td>\n",
       "    </tr>\n",
       "    <tr>\n",
       "      <th>1</th>\n",
       "      <td>80</td>\n",
       "      <td>72</td>\n",
       "      <td>79</td>\n",
       "      <td>B</td>\n",
       "    </tr>\n",
       "    <tr>\n",
       "      <th>2</th>\n",
       "      <td>90</td>\n",
       "      <td>81</td>\n",
       "      <td>89</td>\n",
       "      <td>A</td>\n",
       "    </tr>\n",
       "    <tr>\n",
       "      <th>3</th>\n",
       "      <td>80</td>\n",
       "      <td>72</td>\n",
       "      <td>79</td>\n",
       "      <td>B</td>\n",
       "    </tr>\n",
       "    <tr>\n",
       "      <th>4</th>\n",
       "      <td>70</td>\n",
       "      <td>63</td>\n",
       "      <td>69</td>\n",
       "      <td>B</td>\n",
       "    </tr>\n",
       "  </tbody>\n",
       "</table>\n",
       "</div>"
      ],
      "text/plain": [
       "   kor  eng  math grade\n",
       "0   90   81    89     A\n",
       "1   80   72    79     B\n",
       "2   90   81    89     A\n",
       "3   80   72    79     B\n",
       "4   70   63    69     B"
      ]
     },
     "execution_count": 286,
     "metadata": {},
     "output_type": "execute_result"
    }
   ],
   "source": [
    "# object 타입이라 plot을 그릴 때 오류나서 알아서 타입 지정하도록 .convert_dtypes\n",
    "score = pd_score.convert_dtypes()\n",
    "score.head()"
   ]
  },
  {
   "cell_type": "code",
   "execution_count": 287,
   "id": "02e5cf24",
   "metadata": {},
   "outputs": [
    {
     "data": {
      "text/plain": [
       "array([0, 1, 0, 1, 1, 2, 0, 2, 2, 2, 1, 1, 0, 1, 1, 2, 2, 2, 1, 2, 1, 0,\n",
       "       1, 1, 2, 0, 2, 2, 2, 1, 1, 0, 1, 1, 2, 2, 2, 1, 1, 2, 0, 2, 2, 2,\n",
       "       1, 1, 0, 1, 1, 2, 2, 2, 1, 2])"
      ]
     },
     "execution_count": 287,
     "metadata": {},
     "output_type": "execute_result"
    },
    {
     "data": {
      "text/plain": [
       "{0: 'A', 1: 'B', 2: 'C'}"
      ]
     },
     "execution_count": 287,
     "metadata": {},
     "output_type": "execute_result"
    }
   ],
   "source": [
    "# 범주형 데이터라 그림이 안그려져서 LabelEncoder 숫자형으로 변환\n",
    "# y값을 정수 0,1,2로 변환하고 타겟 데이터로 사용\n",
    "from sklearn.preprocessing import LabelEncoder\n",
    "\n",
    "encoder = LabelEncoder()\n",
    "y=score['grade']\n",
    "y = encoder.fit_transform(y)\n",
    "y_mapping = {index: label for index, label in enumerate(encoder.classes_)}\n",
    "y\n",
    "y_mapping"
   ]
  },
  {
   "cell_type": "code",
   "execution_count": 316,
   "id": "e606fbed",
   "metadata": {},
   "outputs": [
    {
     "data": {
      "text/html": [
       "<div>\n",
       "<style scoped>\n",
       "    .dataframe tbody tr th:only-of-type {\n",
       "        vertical-align: middle;\n",
       "    }\n",
       "\n",
       "    .dataframe tbody tr th {\n",
       "        vertical-align: top;\n",
       "    }\n",
       "\n",
       "    .dataframe thead th {\n",
       "        text-align: right;\n",
       "    }\n",
       "</style>\n",
       "<table border=\"1\" class=\"dataframe\">\n",
       "  <thead>\n",
       "    <tr style=\"text-align: right;\">\n",
       "      <th></th>\n",
       "      <th>kor</th>\n",
       "      <th>eng</th>\n",
       "      <th>math</th>\n",
       "      <th>grade</th>\n",
       "    </tr>\n",
       "  </thead>\n",
       "  <tbody>\n",
       "    <tr>\n",
       "      <th>0</th>\n",
       "      <td>90</td>\n",
       "      <td>81</td>\n",
       "      <td>89</td>\n",
       "      <td>A</td>\n",
       "    </tr>\n",
       "    <tr>\n",
       "      <th>1</th>\n",
       "      <td>80</td>\n",
       "      <td>72</td>\n",
       "      <td>79</td>\n",
       "      <td>B</td>\n",
       "    </tr>\n",
       "    <tr>\n",
       "      <th>2</th>\n",
       "      <td>90</td>\n",
       "      <td>81</td>\n",
       "      <td>89</td>\n",
       "      <td>A</td>\n",
       "    </tr>\n",
       "    <tr>\n",
       "      <th>3</th>\n",
       "      <td>80</td>\n",
       "      <td>72</td>\n",
       "      <td>79</td>\n",
       "      <td>B</td>\n",
       "    </tr>\n",
       "    <tr>\n",
       "      <th>4</th>\n",
       "      <td>70</td>\n",
       "      <td>63</td>\n",
       "      <td>69</td>\n",
       "      <td>B</td>\n",
       "    </tr>\n",
       "  </tbody>\n",
       "</table>\n",
       "</div>"
      ],
      "text/plain": [
       "   kor  eng  math grade\n",
       "0   90   81    89     A\n",
       "1   80   72    79     B\n",
       "2   90   81    89     A\n",
       "3   80   72    79     B\n",
       "4   70   63    69     B"
      ]
     },
     "execution_count": 316,
     "metadata": {},
     "output_type": "execute_result"
    }
   ],
   "source": [
    "#Q9 train_test_split으로 훈련데이터 나누기\n",
    "from sklearn.model_selection import train_test_split\n",
    "X = score\n",
    "# X = score.drop(\"grade\", axis ='columns')\n",
    "# print(data['평가'])\n",
    "# ['A' 'B' 'C']\n",
    "X.head()\n",
    "X_train, X_test, y_train, y_test = train_test_split(X, y, test_size=0.33, random_state=42)"
   ]
  },
  {
   "cell_type": "code",
   "execution_count": 289,
   "id": "c568481e",
   "metadata": {},
   "outputs": [],
   "source": [
    "# pd_score[['kor','eng','math']].head()"
   ]
  },
  {
   "cell_type": "code",
   "execution_count": 290,
   "id": "c0c10eac",
   "metadata": {},
   "outputs": [
    {
     "data": {
      "image/png": "[encoded data removed]",
      "text/plain": [
       "<Figure size 1080x1080 with 9 Axes>"
      ]
     },
     "metadata": {
      "needs_background": "light"
     },
     "output_type": "display_data"
    }
   ],
   "source": [
    "#Q10 ) 학습 전 데이터 시각화\n",
    "# Number of columns must be a positive integer, not 0 오류\n",
    "#.convert_dtypes으로 objecttype을 알아서 바꾸어줌\n",
    "\n",
    "#ValueError: 'c' argument must be a color, a sequence of colors, or a sequence of numbers, not 0     A\n",
    "# target이 A,B,C의 형태라서 오류남 \n",
    "\n",
    "from pandas.plotting import scatter_matrix\n",
    "import matplotlib.pyplot as plt\n",
    "\n",
    "res = scatter_matrix(score, c=y,  figsize=(15,15), marker='o',\n",
    "                     hist_kwds={'bins':20}, s=60, alpha=.8)\n",
    "plt.show()"
   ]
  },
  {
   "cell_type": "code",
   "execution_count": 291,
   "id": "98b86e06",
   "metadata": {},
   "outputs": [
    {
     "name": "stdout",
     "output_type": "stream",
     "text": [
      "KNeighborsClassifier(n_neighbors=3)\n"
     ]
    }
   ],
   "source": [
    "#Q11) 알고리즘 선택 -> 모델 구축 -> 새로운 데이터 예측 -> 모델 평가\n",
    "# 근방점을 지정하게 되면 가장 가까운 근방의 갯수에서 가장 많은 클래스 분류에 속한 값을 판정한다\n",
    "from sklearn.neighbors import KNeighborsClassifier\n",
    "\n",
    "knn = KNeighborsClassifier(n_neighbors=3)\n",
    "r=knn.fit(X_train, y_train)\n",
    "print(r)"
   ]
  },
  {
   "cell_type": "code",
   "execution_count": 296,
   "id": "586e611e",
   "metadata": {},
   "outputs": [
    {
     "name": "stderr",
     "output_type": "stream",
     "text": [
      "C:\\Anaconda3\\lib\\site-packages\\sklearn\\base.py:450: UserWarning: X does not have valid feature names, but KNeighborsClassifier was fitted with feature names\n",
      "  warnings.warn(\n",
      "C:\\Anaconda3\\lib\\site-packages\\sklearn\\base.py:450: UserWarning: X does not have valid feature names, but KNeighborsClassifier was fitted with feature names\n",
      "  warnings.warn(\n"
     ]
    }
   ],
   "source": [
    "#Q12 ) 새로운 데이터 예측\n",
    "X_new = np.array([[40,60,50]])\n",
    "X1_new = np.array([[80,90,95]])\n",
    "\n",
    "\n",
    "pre01= knn.predict(X_new)\n",
    "pre02= knn.predict(X1_new)"
   ]
  },
  {
   "cell_type": "code",
   "execution_count": 305,
   "id": "eb18cdc2",
   "metadata": {},
   "outputs": [
    {
     "data": {
      "text/plain": [
       "0    A\n",
       "1    B\n",
       "2    A\n",
       "3    B\n",
       "4    B\n",
       "Name: grade, dtype: string"
      ]
     },
     "execution_count": 305,
     "metadata": {},
     "output_type": "execute_result"
    }
   ],
   "source": [
    "score['grade'].head()"
   ]
  },
  {
   "cell_type": "code",
   "execution_count": 320,
   "id": "41011c5a",
   "metadata": {},
   "outputs": [
    {
     "data": {
      "text/plain": [
       "{0: 'A', 1: 'B', 2: 'C'}"
      ]
     },
     "execution_count": 320,
     "metadata": {},
     "output_type": "execute_result"
    },
    {
     "name": "stdout",
     "output_type": "stream",
     "text": [
      "X_new [[40 60 50]] C\n",
      "X1_new [[80 90 95]] A\n"
     ]
    }
   ],
   "source": [
    "#13) 판별된 데이터 출력\n",
    "# y_mapping 사용해서 다시 value를 찾기\n",
    "y_mapping\n",
    "print('X_new',X_new,y_mapping[int(pre01)])\n",
    "print('X1_new',X1_new,y_mapping[int(pre02)])\n",
    "\n",
    "# 낮은 점수는 C로 예측하고 높은 점수는 A로 예측하는 것을 볼 수 있음"
   ]
  },
  {
   "cell_type": "code",
   "execution_count": 298,
   "id": "25df2249",
   "metadata": {},
   "outputs": [
    {
     "name": "stdout",
     "output_type": "stream",
     "text": [
      "예측 결과 \n",
      " [2 2 1 0 1 2 2 1 1 1 1 2 2 0 2 1 1 2]\n",
      "테스트 데이터 라벨 \n",
      " [2 2 1 0 1 2 2 1 1 1 1 2 2 0 2 1 1 2]\n"
     ]
    }
   ],
   "source": [
    "#14 모델 평가 : 예측 결과와 테스트 데이터를 비교해서 정답률을 계산한다\n",
    "y_pred = knn.predict( X_test)\n",
    "print('예측 결과 \\n',y_pred)\n",
    "print('테스트 데이터 라벨 \\n',y_test)"
   ]
  },
  {
   "cell_type": "code",
   "execution_count": 299,
   "id": "e6493c65",
   "metadata": {},
   "outputs": [
    {
     "data": {
      "text/plain": [
       "1.0"
      ]
     },
     "execution_count": 299,
     "metadata": {},
     "output_type": "execute_result"
    }
   ],
   "source": [
    "#15 정답률 계산\n",
    "np.mean(y_pred == y_test)"
   ]
  }
 ],
 "metadata": {
  "kernelspec": {
   "display_name": "Python 3 (ipykernel)",
   "language": "python",
   "name": "python3"
  },
  "language_info": {
   "codemirror_mode": {
    "name": "ipython",
    "version": 3
   },
   "file_extension": ".py",
   "mimetype": "text/x-python",
   "name": "python",
   "nbconvert_exporter": "python",
   "pygments_lexer": "ipython3",
   "version": "3.9.12"
  }
 },
 "nbformat": 4,
 "nbformat_minor": 5
}
