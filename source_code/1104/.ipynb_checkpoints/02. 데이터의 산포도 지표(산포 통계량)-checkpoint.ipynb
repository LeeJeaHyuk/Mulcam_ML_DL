{
 "cells": [
  {
   "cell_type": "code",
   "execution_count": null,
   "metadata": {},
   "outputs": [],
   "source": [
    "import numpy as np\n",
    "from scipy.stats import *\n",
    "import pandas as pd"
   ]
  },
  {
   "cell_type": "code",
   "execution_count": null,
   "metadata": {},
   "outputs": [],
   "source": [
    "from IPython.core.interactiveshell import InteractiveShell\n",
    "InteractiveShell.ast_node_interactivity=\"all\""
   ]
  },
  {
   "cell_type": "markdown",
   "metadata": {},
   "source": [
    "## 데이터가 얼마나 퍼져 있는지 : 변이 통계량"
   ]
  },
  {
   "cell_type": "markdown",
   "metadata": {},
   "source": [
    "- 데이터들이 얼마나 흩어져 있는가를 나타내는 것(산포도)\n",
    "- 하나의 수치로 데이터가 흩어진 정도를 계산 \n",
    "- 대표값과 더불어 데이터를 비교하는 경우에 유용하게 사용 \n",
    "- 예. 평균이 같은 A와 B반의 성적 : 두 집단이 동일한 집단?\n",
    "\n",
    "![](성적분포비교.png)\n",
    "\n",
    "- 어느 대학에서 같은 과목을 두 교수가 가르친다고 하자.두 교수 모두 평균 C학점을 학생들에게 준다면 그 과목을 배우려는 학생들은 어떤 교수를 선택해도 마찬가지라고 생각할 것이다.\n",
    "- 그러나 한 교수는 대부분의 학생들이 평범하다고 생각하여 C만 주고 다른 교수는 학생들이 반은 우수하고 반은 공부를 안 한다고 생각하여 A를 주거나 D-만 준다.\n",
    "- 그러므로 이러한 흩어짐의 정보 없이 학생들이 평균 성적 C라는 사실만 가지고 교수를 선택한다면 학점 때문에 어려움에 처할 수도 있게 된다.\n"
   ]
  },
  {
   "cell_type": "markdown",
   "metadata": {},
   "source": [
    "#### 범위(range)\n",
    "\n",
    "- 데이터의 최대값과 최소값의 차이\n",
    "- 데이터가 퍼져 있는 정도를 나타내는 가장 간단한 방법\n",
    "- 범위가 클수록 산포가 크다고 말할 수 있지만\n",
    "- 중앙값과 마찬가지로 극단적인 값에 영향을 받음\n",
    "- 데이터 중 2개의 정보(최대값, 최소값)만을 이용하므로 적절한 척도로 사용하기 어려움\n",
    "\n",
    "**범위(R)=최댓값 - 최솟값**\n",
    "\n",
    "\n",
    "#### 중간 범위\n",
    "\n",
    "- 최대값과 최소값의 평균\n",
    "\n",
    "\n"
   ]
  },
  {
   "cell_type": "markdown",
   "metadata": {},
   "source": [
    "#### 사분위간 범위 (interquartile range: IQR)\n",
    "\n",
    "- 데이터를 크기순서로 나열한 다음, 개수로 4등분할 때 첫 번째 사분위수(Q1:1사분위수, 25%지점)와 세 번째 사분위수(Q3:3사분위수, 75%지점)의 차이\n",
    "\n",
    "\n",
    "#### 사분위수 편차(quartile deviation)\n",
    "\n",
    "- 범위의 문제점을 보완한 척도\n",
    "- 사분위간 범위의 값을 2로 나눈 값으로 사분위 범위의 평균값 \n",
    "\n",
    "![](사분위수편차.png)\n"
   ]
  },
  {
   "cell_type": "markdown",
   "metadata": {},
   "source": [
    "### 분산(variaince)"
   ]
  },
  {
   "cell_type": "markdown",
   "metadata": {},
   "source": [
    "- 산포도의 척도로 가장 널리 사용되는 방법 \n",
    "- 데이터가 퍼져 있는 정도의 기준으로 평균을 사용\n",
    "- 계산방법\n",
    "    - 각 데이터와 평균과의 차이를 제곱하여 합한 값의 평균\n",
    "        - 모두 양수로 만들기 위함, 양수 음수가 함께 있으면 상쇄가 발생\n",
    "    - 데이터가 모집단 전체일 경우에는 데이터의 개수(n)로 나누어 줌\n",
    "    - 표본일 경우 (n-1)로 나누어 줌\n",
    "    - 표본의 경우 n으로 나누어 주는 것보다 (n-1)로 나누어 주는 것이 더 좋은 척도가 되기 때문인데 표본의 크기가 큰 경우에는 별 차이가 없음\n",
    "    \n",
    "    ![](분산식.png)\n"
   ]
  },
  {
   "cell_type": "markdown",
   "metadata": {},
   "source": [
    "#### 분산 계산 : var() 함수 사용"
   ]
  },
  {
   "cell_type": "code",
   "execution_count": null,
   "metadata": {},
   "outputs": [],
   "source": [
    "## ddof인수 :  (자유도-모수집단냐 표본이냐)는 값을 1로 두고 사용한다고 생각하면 편함\n",
    "## 특별한 경우 제외하고는 모두 sample 데이터이므로 분모를 n-1로 둠\n",
    "## 즉 , ddof는 1로 둔다\n",
    "x = [1, 2, 3, 4, 5]\n",
    "np.var(x, ddof=1) # 분모 = n-1\n",
    "np.array(x).var() # 분모 = n\n",
    "pd.Series(x).var(ddof=0) # 분모 = n\n",
    "\n",
    "# 값의 스케일에 크게 영향을 받음으로\n",
    "# 변수를 스케일링 한 후 분산, 표준편차를 구하는게 일반적임\n",
    "\n",
    "\n"
   ]
  },
  {
   "cell_type": "markdown",
   "metadata": {},
   "source": [
    "### 표준편차(standard deviation)\n",
    "\n",
    "\n",
    "- 계산된 분산의 제곱근으로 계산\n",
    "- 평균을 중심으로 일정한 거리에 포함된 데이터의 비율이 얼마인가를 계산\n",
    "- 모든 데이터를 고려한 척도\n",
    "\n",
    "\n",
    "- 특징\n",
    "    - 모든 데이터가 동일한 값을 갖는다면 분산과 표준편차는 0으로 계산\n",
    "    - 모든 데이터에 동일한 값을 더해 주거나 빼도 변하지 않음\n",
    "    - 모든 데이터에 동일한 값(C)을 곱하면 분산은 $분산×C^2$으로 표준편차는 $표준편차×C$ 만큼 커짐 \n",
    "    \n",
    "    ![](분산표준편차예시.png)"
   ]
  },
  {
   "cell_type": "markdown",
   "metadata": {},
   "source": [
    "#### 표준편차 계산 : std() 함수 사용\n",
    "\n",
    "- 분산에서제곱의 영향을없앤 지표\n",
    "- 분산과 표준편차가 크면 클수록 산포가 크다"
   ]
  },
  {
   "cell_type": "code",
   "execution_count": null,
   "metadata": {},
   "outputs": [],
   "source": [
    "x = [1, 2, 3, 4, 5]\n",
    "np.std(x, ddof=1)\n",
    "np.std(x, ddof=0)\n",
    "np.array(x).std(ddof=1)"
   ]
  },
  {
   "cell_type": "markdown",
   "metadata": {},
   "source": [
    "#### 변동계수(CV: Coefficient of Variable)\n",
    "\n",
    "- 표본 표준편차를 표본평균으로 나눈 값 또는 그 값에 100을 곱한 값\n",
    "- 상대표준편차\n",
    "- **서로 다른 평균과 표준편차를 갖는 여러 데이터의 흩어진 정도를 비교**할 때 사용\n",
    "- 변동계수 값이 크다는 것은 데이터의 흩어진 정도가 상대적으로 크다는 의미\n",
    "\n",
    "- 표본 변동계수 $ 𝐶𝑉=\\frac{S}{\\overline{x}}$,  모변동계수  $𝐶𝑉= \\frac{𝜎}{𝜇}$\n",
    "\n",
    "![](변동계수.png)\n"
   ]
  },
  {
   "cell_type": "markdown",
   "metadata": {},
   "source": [
    "#### 변동계수의 필요성\n",
    "- 변수 스케일링 한 후 표준편차를 구함(데이터가 모두 양수인 경우 변동계수 사용)"
   ]
  },
  {
   "cell_type": "code",
   "execution_count": null,
   "metadata": {
    "scrolled": true
   },
   "outputs": [],
   "source": [
    "x1 = np.array([1, 2, 3, 4, 5])\n",
    "x2 = x1 * 10\n",
    "np.std(x1, ddof=1)\n",
    "np.std(x2, ddof=1)"
   ]
  },
  {
   "cell_type": "code",
   "execution_count": null,
   "metadata": {},
   "outputs": [],
   "source": [
    "# 변동계수는 동일 함\n",
    "# ddof는 0 \n",
    "variation(x1)\n",
    "variation(x2)\n"
   ]
  },
  {
   "cell_type": "code",
   "execution_count": null,
   "metadata": {
    "scrolled": true
   },
   "outputs": [],
   "source": [
    "# 변동계수 수식\n",
    "np.std(x1, ddof=1)/np.mean(x1)\n",
    "np.std(x2, ddof=1)/np.mean(x2)\n"
   ]
  },
  {
   "cell_type": "markdown",
   "metadata": {},
   "source": [
    "#### 스케일링 (표준화)\n",
    "\n",
    "- 평균 : 0, 표준편차 : 1 이 됨\n",
    "- 각 값들을 상대적인 값으로 변화시키는 기법\n",
    "- 평균이 95점(국어) 평균이 30(수학)\n",
    "- 취득점수 국어 90, 수학 80 이라면 어떤 과목을 더 잘한건가\n",
    "- 표준화된 데이터는 점수와 같은 단위를 사용하지 않는다"
   ]
  },
  {
   "cell_type": "code",
   "execution_count": null,
   "metadata": {},
   "outputs": [],
   "source": [
    "x1"
   ]
  },
  {
   "cell_type": "code",
   "execution_count": null,
   "metadata": {},
   "outputs": [],
   "source": [
    "x2"
   ]
  },
  {
   "cell_type": "code",
   "execution_count": null,
   "metadata": {},
   "outputs": [],
   "source": [
    "# standard scaling - 평균이 0 표준편차가 1이 됨\n",
    "# (data - data_set.mean())/data_set.std()\n",
    "\n",
    "z1 = (x1-x1.mean())/x1.std()\n",
    "z2 = (x2-x2.mean())/x2.std()\n",
    "\n",
    "print(z1)\n",
    "print(z2) # 보통 -3에서 +3 까지 분포 됨"
   ]
  },
  {
   "cell_type": "code",
   "execution_count": null,
   "metadata": {},
   "outputs": [],
   "source": [
    "z1.mean()\n",
    "z1.std()"
   ]
  },
  {
   "cell_type": "markdown",
   "metadata": {},
   "source": [
    "#### 표준화 예제"
   ]
  },
  {
   "cell_type": "code",
   "execution_count": null,
   "metadata": {},
   "outputs": [],
   "source": [
    "df = pd.read_csv('../../data/scores_em.csv',\n",
    "                 index_col='student number')\n",
    "# df의 처음 5행을 표시\n",
    "df.head()"
   ]
  },
  {
   "cell_type": "code",
   "execution_count": null,
   "metadata": {},
   "outputs": [],
   "source": [
    "scores = df.loc[1:10]\n",
    "scores.index=['A', 'B', 'C', 'D', 'E','F', 'G', 'H', 'I', 'J']\n",
    "scores.index.name='students'"
   ]
  },
  {
   "cell_type": "code",
   "execution_count": null,
   "metadata": {},
   "outputs": [],
   "source": [
    "scores\n",
    "scores.mean()\n",
    "scores.std()"
   ]
  },
  {
   "cell_type": "code",
   "execution_count": null,
   "metadata": {},
   "outputs": [],
   "source": [
    "# np.set_printoptions(precision=20, suppress=True)\n",
    "# pd.options.display.float_format = '{:.2f}'.format\n",
    "# import numpy as np\n",
    "# # numpy float 출력옵션 변경\n",
    "# np.set_printoptions(precision=3)\n",
    "\n",
    "import numpy as np\n",
    "# numpy float 출력옵션 변경\n",
    "np.set_printoptions(formatter={'float_kind': lambda x: \"{0:0.3f}\".format(x)})"
   ]
  },
  {
   "cell_type": "code",
   "execution_count": null,
   "metadata": {},
   "outputs": [],
   "source": [
    "# 표준화 계산 (xset - xset.mean())/xset.std()\n",
    "em_z = (scores['english']-scores['english'].mean())/scores['english'].std()\n",
    "mt_z = (scores['mathematics']-scores['mathematics'].mean())/scores['mathematics'].std()\n",
    "em_z\n",
    "mt_z"
   ]
  },
  {
   "cell_type": "code",
   "execution_count": null,
   "metadata": {},
   "outputs": [],
   "source": [
    "em_z.mean()\n",
    "mt_z.mean()\n",
    "em_z.std()\n",
    "\n",
    "#-6.883382752675971e-16\n",
    "#-0.0000000000000006.883382752675971  => 0이라고 봄\n",
    "mt_z.std()"
   ]
  },
  {
   "cell_type": "markdown",
   "metadata": {},
   "source": [
    "### sklearn을 이용한 스케일링 - 머신러닝을위해 쓰는 경우가 대부분\n",
    "- df의 각 열에 대해서 스케일링하는데 적합함"
   ]
  },
  {
   "cell_type": "code",
   "execution_count": null,
   "metadata": {},
   "outputs": [],
   "source": [
    "\n",
    "X = pd.DataFrame({\"X1\":[1, 2, 3, 4, 5],\n",
    "    \"X2\": [10, 20, 30, 40, 50]})\n",
    "\n",
    "X"
   ]
  },
  {
   "cell_type": "code",
   "execution_count": null,
   "metadata": {},
   "outputs": [],
   "source": [
    "# 표준화\n",
    "from sklearn.preprocessing import StandardScaler\n",
    "scaler = StandardScaler() # 인스턴스 생성\n",
    "Z = scaler.fit_transform(X) # 표준화 진행 후 array 반환\n",
    "\n",
    "\n",
    "pd.DataFrame(Z)\n",
    "\n",
    "#표준편차가 같기 때문에 스케일링 결과가 같은 값으로 나오게 된다.\n",
    "Z.mean()\n",
    "Z.std()"
   ]
  },
  {
   "cell_type": "markdown",
   "metadata": {},
   "source": [
    "### MinMaxScaling"
   ]
  },
  {
   "cell_type": "code",
   "execution_count": null,
   "metadata": {},
   "outputs": [],
   "source": [
    "# 언제나 최소값과 최대값이 균일하다면 사용 가능\n",
    "# 아니라면 사용하지 말 것\n",
    "\n",
    "x1 = np.array([1, 2, 3, 4, 5])\n",
    "x2 = x1 * 10"
   ]
  },
  {
   "cell_type": "code",
   "execution_count": null,
   "metadata": {},
   "outputs": [],
   "source": [
    "# (data - data_set.min() / 범위 : data_set.max() - data.set.min())\n",
    "\n",
    "z1 = (x1 - x1.min()) / (x1.max() - x1.min())\n",
    "z2 = (x2 - x2.min()) / (x2.max() - x2.min())\n",
    "\n",
    "print(z1)\n",
    "print(z2)"
   ]
  },
  {
   "cell_type": "code",
   "execution_count": null,
   "metadata": {},
   "outputs": [],
   "source": [
    "X"
   ]
  },
  {
   "cell_type": "code",
   "execution_count": null,
   "metadata": {},
   "outputs": [],
   "source": [
    "from sklearn.preprocessing import MinMaxScaler\n",
    "scaler = MinMaxScaler()\n",
    "Z = scaler.fit_transform(X)\n",
    "pd.DataFrame(Z)"
   ]
  },
  {
   "cell_type": "markdown",
   "metadata": {},
   "source": [
    "#### 편찻값\n",
    "- 평균이 50, 표준편차가 10이 되도록 정규화한 값"
   ]
  },
  {
   "cell_type": "code",
   "execution_count": null,
   "metadata": {},
   "outputs": [],
   "source": [
    "z = 50 + 10 * (scores - np.mean(scores))/np.std(scores)"
   ]
  },
  {
   "cell_type": "code",
   "execution_count": null,
   "metadata": {},
   "outputs": [],
   "source": [
    "result=pd.concat([scores,z], axis=1)\n",
    "result.columns=['영어','수학','영어편찻값','수학편찻값']\n",
    "result[['영어','영어편찻값','수학','수학편찻값']]"
   ]
  },
  {
   "cell_type": "code",
   "execution_count": null,
   "metadata": {},
   "outputs": [],
   "source": []
  }
 ],
 "metadata": {
  "kernelspec": {
   "display_name": "Python 3 (ipykernel)",
   "language": "python",
   "name": "python3"
  },
  "language_info": {
   "codemirror_mode": {
    "name": "ipython",
    "version": 3
   },
   "file_extension": ".py",
   "mimetype": "text/x-python",
   "name": "python",
   "nbconvert_exporter": "python",
   "pygments_lexer": "ipython3",
   "version": "3.9.12"
  }
 },
 "nbformat": 4,
 "nbformat_minor": 2
}
