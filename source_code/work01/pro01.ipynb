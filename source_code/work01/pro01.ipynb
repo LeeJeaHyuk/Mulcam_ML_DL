{
 "cells": [
  {
   "cell_type": "markdown",
   "id": "f1de1656",
   "metadata": {},
   "source": [
    "판다스 설명(pandas)\n",
    "- series, DataFrame등의 자료구조를 활용한 데이터분석 기능을 제공해주는 라이브러리\n",
    "- 라이브러리 구성\n",
    "    - 여러종류의 클래스와 다양한 함수로 구성\n",
    "    - 시리즈와 데이터 프레임의 자료 구조 제공\n",
    "    - 시리즈(1차원 배열) 데이터프레임(2차원 행열 구조)\n",
    "판다스의 목적\n",
    "- 서로 다른 유형의 데이터를 공통된 포맷으로 정리하는 것\n",
    "- 행과 열로 이루어진 2차원 데이터프레임을 처리 할 수 있는 함수제공 목적\n",
    "- 실무 사용 형태 : 데이터 프레임\n",
    "\n",
    "Series \n",
    "- pandas의 기본 객체 중 하나\n",
    "- numpy의 ndarray를 기반으로 인덱싱을 기능을 추가하여 1차원 배열을 나타냄\n",
    "- index를 지정하지 않을 시, 기본적으로 ndarray와 같이 0-based 인덱스 생성, 지정할 경우 명시적으로 지정된 index를 사용\n",
    "\n",
    "1. 자료구조 : 순차 1차원 배열, 인덱싱 : 데이터, dict형식의 키:벨류 -> 시리즈\n",
    "2. 시리즈의 인덱싱 : 레이블추가, 데이터 관리 [리스트]\n",
    "3. 시리즈 생성 : Series()를 통해서 데이터를 나열 지정 -> 리스트 -> 튜플 -> 딕셔너리 (xml, json)"
   ]
  },
  {
   "cell_type": "code",
   "execution_count": 3,
   "id": "3cbc147b",
   "metadata": {},
   "outputs": [],
   "source": [
    "import pandas as pd\n",
    "import numpy as np"
   ]
  },
  {
   "cell_type": "code",
   "execution_count": 4,
   "id": "053466f7",
   "metadata": {},
   "outputs": [
    {
     "name": "stdout",
     "output_type": "stream",
     "text": [
      "AA    1\n",
      "BB    2\n",
      "CC    3\n",
      "DD    4\n",
      "EE    5\n",
      "Name: 이름 테이블, dtype: int64 Index(['AA', 'BB', 'CC', 'DD', 'EE'], dtype='object') \n",
      " <PandasArray>\n",
      "[1, 2, 3, 4, 5]\n",
      "Length: 5, dtype: int64 \n",
      " [1 2 3 4 5] \n",
      " int64 \n",
      " (5,) \n",
      " 1\n",
      "\n",
      "\n",
      "이름 테이블\n"
     ]
    }
   ],
   "source": [
    "#1. Series 객체 생성 : [] 나열된 데이터 생성\n",
    "s = pd.Series([1,2,3,4,5],index=['AA','BB','CC','DD','EE'],name='이름 테이블')\n",
    "print(s, s.index,'\\n',\n",
    "      s.array,'\\n',\n",
    "      s.values,'\\n',\n",
    "      s.dtype,'\\n',\n",
    "      s.shape,'\\n',\n",
    "      s.ndim)\n",
    "s.index.name='test'\n",
    "print('\\n')\n",
    "print(s.name)"
   ]
  },
  {
   "cell_type": "code",
   "execution_count": 5,
   "id": "614a3b3b",
   "metadata": {},
   "outputs": [
    {
     "data": {
      "text/plain": [
       "test\n",
       "AA       1\n",
       "BB       2\n",
       "CC    3000\n",
       "DD       4\n",
       "EE    5000\n",
       "Name: 이름 테이블, dtype: int64"
      ]
     },
     "execution_count": 5,
     "metadata": {},
     "output_type": "execute_result"
    }
   ],
   "source": [
    "# 3과 5의 값을 3000과 5000으로 변경\n",
    "s['CC']=3000\n",
    "s['EE']=5000\n",
    "s"
   ]
  },
  {
   "cell_type": "code",
   "execution_count": 6,
   "id": "b587ebed",
   "metadata": {},
   "outputs": [
    {
     "name": "stdout",
     "output_type": "stream",
     "text": [
      "AA         1\n",
      "BB    [2, 3]\n",
      "CC         4\n",
      "DD         5\n",
      "Name: 이름 테이블, dtype: object Index(['AA', 'BB', 'CC', 'DD'], dtype='object') \n",
      " <PandasArray>\n",
      "[1, [2, 3], 4, 5]\n",
      "Length: 4, dtype: object \n",
      " [1 list([2, 3]) 4 5] \n",
      " object \n",
      " (4,) \n",
      " 1\n"
     ]
    }
   ],
   "source": [
    "#2. Series 객체 생성 : [] 나열된 데이터 생성\n",
    "#s = pd.Series([1,[2,3],4,5])\n",
    "s = pd.Series([1,[2,3],4,5],index=['AA','BB','CC','DD'],name='이름 테이블')\n",
    "print(s, s.index,'\\n',\n",
    "      s.array,'\\n',\n",
    "      s.values,'\\n',\n",
    "      s.dtype,'\\n',\n",
    "      s.shape,'\\n',\n",
    "      s.ndim)\n",
    "s.index.name='test'"
   ]
  },
  {
   "cell_type": "code",
   "execution_count": 7,
   "id": "4a9fc8fe",
   "metadata": {},
   "outputs": [
    {
     "name": "stdout",
     "output_type": "stream",
     "text": [
      "1 1\n",
      "1000 1000\n"
     ]
    }
   ],
   "source": [
    "#인덱스를 문자열로 지정하고 숫자로 추출할 수 있는지 확인\n",
    "print(s['AA'],s[0])\n",
    "s[0]=1000\n",
    "print(s['AA'],s[0])"
   ]
  },
  {
   "cell_type": "code",
   "execution_count": 12,
   "id": "f2ad56c7",
   "metadata": {},
   "outputs": [
    {
     "ename": "KeyError",
     "evalue": "'key of type tuple not found and not a MultiIndex'",
     "output_type": "error",
     "traceback": [
      "\u001b[1;31m---------------------------------------------------------------------------\u001b[0m",
      "\u001b[1;31mKeyError\u001b[0m                                  Traceback (most recent call last)",
      "Input \u001b[1;32mIn [12]\u001b[0m, in \u001b[0;36m<cell line: 2>\u001b[1;34m()\u001b[0m\n\u001b[0;32m      1\u001b[0m \u001b[38;5;66;03m# 인덱스 , 로 나열해서 데이터를 추출. _슬라이싱으로 추출가능\u001b[39;00m\n\u001b[1;32m----> 2\u001b[0m \u001b[38;5;28mprint\u001b[39m(\u001b[43ms\u001b[49m\u001b[43m[\u001b[49m\u001b[38;5;241;43m1\u001b[39;49m\u001b[43m,\u001b[49m\u001b[38;5;241;43m3\u001b[39;49m\u001b[43m]\u001b[49m)\n\u001b[0;32m      3\u001b[0m \u001b[38;5;28mprint\u001b[39m(s[[\u001b[38;5;241m1\u001b[39m,\u001b[38;5;241m3\u001b[39m]])\n\u001b[0;32m      4\u001b[0m \u001b[38;5;28mprint\u001b[39m(\u001b[38;5;124m'\u001b[39m\u001b[38;5;130;01m\\n\u001b[39;00m\u001b[38;5;124m'\u001b[39m)\n",
      "File \u001b[1;32mC:\\Anaconda3\\lib\\site-packages\\pandas\\core\\series.py:984\u001b[0m, in \u001b[0;36mSeries.__getitem__\u001b[1;34m(self, key)\u001b[0m\n\u001b[0;32m    981\u001b[0m     key \u001b[38;5;241m=\u001b[39m np\u001b[38;5;241m.\u001b[39masarray(key, dtype\u001b[38;5;241m=\u001b[39m\u001b[38;5;28mbool\u001b[39m)\n\u001b[0;32m    982\u001b[0m     \u001b[38;5;28;01mreturn\u001b[39;00m \u001b[38;5;28mself\u001b[39m\u001b[38;5;241m.\u001b[39m_get_values(key)\n\u001b[1;32m--> 984\u001b[0m \u001b[38;5;28;01mreturn\u001b[39;00m \u001b[38;5;28;43mself\u001b[39;49m\u001b[38;5;241;43m.\u001b[39;49m\u001b[43m_get_with\u001b[49m\u001b[43m(\u001b[49m\u001b[43mkey\u001b[49m\u001b[43m)\u001b[49m\n",
      "File \u001b[1;32mC:\\Anaconda3\\lib\\site-packages\\pandas\\core\\series.py:999\u001b[0m, in \u001b[0;36mSeries._get_with\u001b[1;34m(self, key)\u001b[0m\n\u001b[0;32m    994\u001b[0m     \u001b[38;5;28;01mraise\u001b[39;00m \u001b[38;5;167;01mTypeError\u001b[39;00m(\n\u001b[0;32m    995\u001b[0m         \u001b[38;5;124m\"\u001b[39m\u001b[38;5;124mIndexing a Series with DataFrame is not \u001b[39m\u001b[38;5;124m\"\u001b[39m\n\u001b[0;32m    996\u001b[0m         \u001b[38;5;124m\"\u001b[39m\u001b[38;5;124msupported, use the appropriate DataFrame column\u001b[39m\u001b[38;5;124m\"\u001b[39m\n\u001b[0;32m    997\u001b[0m     )\n\u001b[0;32m    998\u001b[0m \u001b[38;5;28;01melif\u001b[39;00m \u001b[38;5;28misinstance\u001b[39m(key, \u001b[38;5;28mtuple\u001b[39m):\n\u001b[1;32m--> 999\u001b[0m     \u001b[38;5;28;01mreturn\u001b[39;00m \u001b[38;5;28;43mself\u001b[39;49m\u001b[38;5;241;43m.\u001b[39;49m\u001b[43m_get_values_tuple\u001b[49m\u001b[43m(\u001b[49m\u001b[43mkey\u001b[49m\u001b[43m)\u001b[49m\n\u001b[0;32m   1001\u001b[0m \u001b[38;5;28;01melif\u001b[39;00m \u001b[38;5;129;01mnot\u001b[39;00m is_list_like(key):\n\u001b[0;32m   1002\u001b[0m     \u001b[38;5;66;03m# e.g. scalars that aren't recognized by lib.is_scalar, GH#32684\u001b[39;00m\n\u001b[0;32m   1003\u001b[0m     \u001b[38;5;28;01mreturn\u001b[39;00m \u001b[38;5;28mself\u001b[39m\u001b[38;5;241m.\u001b[39mloc[key]\n",
      "File \u001b[1;32mC:\\Anaconda3\\lib\\site-packages\\pandas\\core\\series.py:1034\u001b[0m, in \u001b[0;36mSeries._get_values_tuple\u001b[1;34m(self, key)\u001b[0m\n\u001b[0;32m   1031\u001b[0m     \u001b[38;5;28;01mreturn\u001b[39;00m result\n\u001b[0;32m   1033\u001b[0m \u001b[38;5;28;01mif\u001b[39;00m \u001b[38;5;129;01mnot\u001b[39;00m \u001b[38;5;28misinstance\u001b[39m(\u001b[38;5;28mself\u001b[39m\u001b[38;5;241m.\u001b[39mindex, MultiIndex):\n\u001b[1;32m-> 1034\u001b[0m     \u001b[38;5;28;01mraise\u001b[39;00m \u001b[38;5;167;01mKeyError\u001b[39;00m(\u001b[38;5;124m\"\u001b[39m\u001b[38;5;124mkey of type tuple not found and not a MultiIndex\u001b[39m\u001b[38;5;124m\"\u001b[39m)\n\u001b[0;32m   1036\u001b[0m \u001b[38;5;66;03m# If key is contained, would have returned by now\u001b[39;00m\n\u001b[0;32m   1037\u001b[0m indexer, new_index \u001b[38;5;241m=\u001b[39m \u001b[38;5;28mself\u001b[39m\u001b[38;5;241m.\u001b[39mindex\u001b[38;5;241m.\u001b[39mget_loc_level(key)\n",
      "\u001b[1;31mKeyError\u001b[0m: 'key of type tuple not found and not a MultiIndex'"
     ]
    }
   ],
   "source": [
    "# 인덱스 , 로 나열해서 데이터를 추출. _슬라이싱으로 추출가능\n",
    "print(s[[1,3]])\n",
    "print('\\n')\n",
    "print(s[1:3])\n"
   ]
  },
  {
   "cell_type": "code",
   "execution_count": 56,
   "id": "a71b51e8",
   "metadata": {},
   "outputs": [
    {
     "name": "stdout",
     "output_type": "stream",
     "text": [
      "test\n",
      "AA    1000\n",
      "CC       4\n",
      "Name: 이름 테이블, dtype: object\n",
      "\n",
      "\n",
      "test\n",
      "AA      1000\n",
      "BB    [2, 3]\n",
      "CC         4\n",
      "Name: 이름 테이블, dtype: object\n"
     ]
    }
   ],
   "source": [
    "# 문자 인덱싱으로 가져오기\n",
    "print(s[['AA','CC']])\n",
    "print('\\n')\n",
    "print(s['AA':'CC'])"
   ]
  },
  {
   "cell_type": "code",
   "execution_count": 59,
   "id": "b0df7b10",
   "metadata": {},
   "outputs": [
    {
     "data": {
      "text/plain": [
       "(1557, 1000, 1000, 1000)"
      ]
     },
     "execution_count": 59,
     "metadata": {},
     "output_type": "execute_result"
    }
   ],
   "source": [
    "# 객체.인덱스로 추출\n",
    "s.BB=1557\n",
    "s.BB, s.AA, s[0], s['AA']\n"
   ]
  },
  {
   "cell_type": "code",
   "execution_count": 74,
   "id": "7ce1a20d",
   "metadata": {},
   "outputs": [
    {
     "data": {
      "text/plain": [
       "도시\n",
       "서울    9904312\n",
       "부산    3448737\n",
       "인천     289045\n",
       "대구    2466052\n",
       "Name: 인구, dtype: int64"
      ]
     },
     "execution_count": 74,
     "metadata": {},
     "output_type": "execute_result"
    }
   ],
   "source": [
    "# exam 문자 인덱스의 시리즈이다 아래와 같은 결과를 출력할 수 있도록 작성\n",
    "\n",
    "# 도시\n",
    "# 서울 9904312\n",
    "# 부산 3448737\n",
    "# 인천 289045\n",
    "# 대구 2466052\n",
    "# Name : 인구 , dtype : int64\n",
    "\n",
    "res = pd.Series ([9904312,3448737,289045,2466052], index=['서울','부산','인천','대구'],name='인구')\n",
    "res.index.name = '도시'\n",
    "res"
   ]
  },
  {
   "cell_type": "code",
   "execution_count": 63,
   "id": "c0362e86",
   "metadata": {},
   "outputs": [
    {
     "data": {
      "text/plain": [
       "1    1\n",
       "2    3\n",
       "3    5\n",
       "4    7\n",
       "5    9\n",
       "dtype: int64"
      ]
     },
     "execution_count": 63,
     "metadata": {},
     "output_type": "execute_result"
    }
   ],
   "source": [
    "# 벡터화 연산 _range로 데이터 지정\n",
    "data = range(1,10,2)\n",
    "pd.Series(data, index=range(1,len(data)+1))\n",
    "# index도 range로 할 수 있다"
   ]
  },
  {
   "cell_type": "code",
   "execution_count": 65,
   "id": "4e702fd8",
   "metadata": {},
   "outputs": [
    {
     "data": {
      "text/plain": [
       "(0    5\n",
       " 1    6\n",
       " 2    7\n",
       " dtype: int64,\n",
       " 0    0\n",
       " 1    1\n",
       " 2    2\n",
       " dtype: int64,\n",
       " 0    0.001\n",
       " 1    0.002\n",
       " 2    0.003\n",
       " dtype: float64)"
      ]
     },
     "execution_count": 65,
     "metadata": {},
     "output_type": "execute_result"
    }
   ],
   "source": [
    "# 벡터화 연산\n",
    "pd.Series([1,2,3])+4\n",
    "r = pd.Series([1,2,3])\n",
    "r+4, r-1, r/1000"
   ]
  },
  {
   "cell_type": "code",
   "execution_count": 75,
   "id": "c94c99db",
   "metadata": {},
   "outputs": [
    {
     "data": {
      "text/plain": [
       "도시\n",
       "서울    99.04312\n",
       "부산    34.48737\n",
       "인천     2.89045\n",
       "대구    24.66052\n",
       "Name: 인구, dtype: float64"
      ]
     },
     "execution_count": 75,
     "metadata": {},
     "output_type": "execute_result"
    }
   ],
   "source": [
    "# 인구지표를 축소\n",
    "res/100000"
   ]
  },
  {
   "cell_type": "code",
   "execution_count": 107,
   "id": "1cd5f8fb",
   "metadata": {},
   "outputs": [
    {
     "data": {
      "text/plain": [
       "10    11\n",
       "11    12\n",
       "12    13\n",
       "13    14\n",
       "dtype: int64"
      ]
     },
     "execution_count": 107,
     "metadata": {},
     "output_type": "execute_result"
    }
   ],
   "source": [
    "s1 = pd.Series(range(1,15))\n",
    "s1[s1>10]"
   ]
  },
  {
   "cell_type": "code",
   "execution_count": 79,
   "id": "126c057a",
   "metadata": {},
   "outputs": [
    {
     "data": {
      "text/plain": [
       "0     False\n",
       "1     False\n",
       "2     False\n",
       "3     False\n",
       "4     False\n",
       "5     False\n",
       "6     False\n",
       "7     False\n",
       "8     False\n",
       "9     False\n",
       "10     True\n",
       "11     True\n",
       "12     True\n",
       "13     True\n",
       "dtype: bool"
      ]
     },
     "execution_count": 79,
     "metadata": {},
     "output_type": "execute_result"
    }
   ],
   "source": [
    "# bool값으로 출력된다\n",
    "s1>10"
   ]
  },
  {
   "cell_type": "code",
   "execution_count": 90,
   "id": "55573949",
   "metadata": {},
   "outputs": [
    {
     "data": {
      "text/plain": [
       "1      2\n",
       "2      3\n",
       "3      4\n",
       "5      6\n",
       "7      8\n",
       "8      9\n",
       "9     10\n",
       "11    12\n",
       "13    14\n",
       "dtype: int64"
      ]
     },
     "execution_count": 90,
     "metadata": {},
     "output_type": "execute_result"
    }
   ],
   "source": [
    "s1[(s1 %2==0) & (s1%3 ==0)]\n",
    "s1[(s1 %2==0) | (s1%3 ==0)]"
   ]
  },
  {
   "cell_type": "code",
   "execution_count": 94,
   "id": "ad1cedb9",
   "metadata": {},
   "outputs": [
    {
     "data": {
      "text/plain": [
       "10    11\n",
       "11    12\n",
       "12    13\n",
       "13    14\n",
       "dtype: int64"
      ]
     },
     "execution_count": 94,
     "metadata": {},
     "output_type": "execute_result"
    }
   ],
   "source": [
    "# 인덱스로 연산을 수행 15보다 큰 데이터\n",
    "s1[s1.index >= 10]"
   ]
  },
  {
   "cell_type": "code",
   "execution_count": 109,
   "id": "53b99eb2",
   "metadata": {},
   "outputs": [
    {
     "name": "stdout",
     "output_type": "stream",
     "text": [
      "Index : 0, Value : 1\n",
      "Index : 1, Value : 2\n",
      "Index : 2, Value : 3\n",
      "Index : 3, Value : 4\n",
      "Index : 4, Value : 5\n",
      "Index : 5, Value : 6\n",
      "Index : 6, Value : 7\n",
      "Index : 7, Value : 8\n",
      "Index : 8, Value : 9\n",
      "Index : 9, Value : 10\n",
      "Index : 10, Value : 11\n",
      "Index : 11, Value : 12\n",
      "Index : 12, Value : 13\n",
      "Index : 13, Value : 14\n"
     ]
    }
   ],
   "source": [
    "# Series.items() Lazily iterate over (index, value) tuples.\n",
    "\n",
    "# DataFrame.items\n",
    "#          Iterate over (column name, Series) pairs.\n",
    "\n",
    "# s1.items()\n",
    "# for index, value in s1.items():\n",
    "#     print(f\"Index : {index}, Value : {value}\")\n"
   ]
  },
  {
   "cell_type": "code",
   "execution_count": 111,
   "id": "cd154a10",
   "metadata": {},
   "outputs": [
    {
     "data": {
      "text/plain": [
       "RangeIndex(start=0, stop=14, step=1)"
      ]
     },
     "execution_count": 111,
     "metadata": {},
     "output_type": "execute_result"
    }
   ],
   "source": [
    "# Series.keys() Return alias for index.\n",
    "s1.keys()"
   ]
  },
  {
   "cell_type": "code",
   "execution_count": 118,
   "id": "a500deb3",
   "metadata": {},
   "outputs": [],
   "source": [
    "# Series.item() Return the first element of the underlying data as a Python scalar.\n",
    "# s1.item()"
   ]
  },
  {
   "cell_type": "code",
   "execution_count": 126,
   "id": "203368b3",
   "metadata": {},
   "outputs": [
    {
     "data": {
      "text/plain": [
       "(a     NaN\n",
       " aa    NaN\n",
       " b     NaN\n",
       " bb    NaN\n",
       " c     6.0\n",
       " d     8.0\n",
       " dtype: float64,\n",
       " a    NaN\n",
       " b    3.0\n",
       " c    5.0\n",
       " d    7.0\n",
       " e    NaN\n",
       " dtype: float64)"
      ]
     },
     "execution_count": 126,
     "metadata": {},
     "output_type": "execute_result"
    }
   ],
   "source": [
    "# 시리즈 간 연산 , index이름이 같아야 연산이 된다\n",
    "a1 = pd.Series([1,2,3,4], index=['a','b','c','d'])\n",
    "b1 = pd.Series([1,2,3,4], index=['aa','bb','c','d'])\n",
    "c1 = pd.Series([1,2,3,4], index=['b','c','d','e'])\n",
    "a1+b1,a1+c1\n",
    "#a1*b1,a1/b1"
   ]
  },
  {
   "cell_type": "code",
   "execution_count": 132,
   "id": "50c7c2c2",
   "metadata": {},
   "outputs": [
    {
     "data": {
      "text/plain": [
       "Index(['a', 'b', 'c'], dtype='object')"
      ]
     },
     "execution_count": 132,
     "metadata": {},
     "output_type": "execute_result"
    }
   ],
   "source": [
    "# \n",
    "d = {'a': 1, 'b': 2, 'c': 3}\n",
    "#ser = pd.Series(data=d, index=['x', 'y', 'z'])\n",
    "ser = pd.Series(data=d)\n",
    "ser.index"
   ]
  },
  {
   "cell_type": "code",
   "execution_count": 156,
   "id": "468241bd",
   "metadata": {},
   "outputs": [
    {
     "name": "stdout",
     "output_type": "stream",
     "text": [
      "dict_keys(['서울', '부산', '인천', '대구'])\n"
     ]
    },
    {
     "data": {
      "text/plain": [
       "서울    9904302\n",
       "부산    3448737\n",
       "인천     289045\n",
       "대구    2466052\n",
       "dtype: int64"
      ]
     },
     "execution_count": 156,
     "metadata": {},
     "output_type": "execute_result"
    }
   ],
   "source": [
    "#q1. res 소스코드로 확인 _dict 만들어보기\n",
    "city ={'서울':9904312,'부산':3448737,'인천':289045,'대구':2466052}\n",
    "print(city.keys())\n",
    "r = pd.Series(data =city, index=city.keys())\n",
    "r.서울 = r.서울-10\n",
    "r"
   ]
  },
  {
   "cell_type": "code",
   "execution_count": 157,
   "id": "fafedc20",
   "metadata": {},
   "outputs": [],
   "source": [
    "# q2. r의 요소 중 대전을 삭제해보자\n",
    "del r['대구']"
   ]
  },
  {
   "cell_type": "code",
   "execution_count": 159,
   "id": "67ef3cb9",
   "metadata": {},
   "outputs": [
    {
     "data": {
      "text/plain": [
       "서울    9904302\n",
       "부산    3448737\n",
       "인천     289045\n",
       "dtype: int64"
      ]
     },
     "execution_count": 159,
     "metadata": {},
     "output_type": "execute_result"
    }
   ],
   "source": [
    "r"
   ]
  },
  {
   "cell_type": "markdown",
   "id": "5413ee2f",
   "metadata": {},
   "source": [
    "Series size, shape, unique, count, value_counts 함수\n",
    "- size : 개수 반환\n",
    "- shape : 튜플형태로 shape반환\n",
    "- unique: 유일한 값만 ndarray로 반환\n",
    "- count : NaN을 제외한 개수를 반환\n",
    "- mean: NaN을 제외한 평균\n",
    "- value_counts: NaN을 제외하고 각 값들의 빈도를 반환\n",
    "\n",
    "판다스 패키지의 date_range 함수 (날짜생성)\n",
    "- pd.date_range(start=None, end=None, periods=None, freq='D')\n",
    "- start : 시작날짜/ end= 끝날짜 / periods = 날짜 생성기간/ fref = 날짜 생성 주기\n",
    "- start는 필수 옵션/end나 periods는 둘 중 하나가 있어야 함/ freq는 기본 Day로 설정\n",
    " ![date_attribute.PNG](date_attribute.PNG)\n"
   ]
  },
  {
   "cell_type": "code",
   "execution_count": 166,
   "id": "6a8410b2",
   "metadata": {},
   "outputs": [
    {
     "name": "stdout",
     "output_type": "stream",
     "text": [
      "[ 2.  2.  2.  2. nan] nan\n",
      "2.0\n",
      "8.0\n"
     ]
    },
    {
     "data": {
      "text/plain": [
       "0    2.0\n",
       "1    2.0\n",
       "2    2.0\n",
       "3    2.0\n",
       "4    NaN\n",
       "dtype: float64"
      ]
     },
     "execution_count": 166,
     "metadata": {},
     "output_type": "execute_result"
    }
   ],
   "source": [
    "a = np.array([2,2,2,2,np.NaN]) \n",
    "\n",
    "print(a,a.mean())  # 넘파이의 array에 대해 mean(평균값) 을 적용하면 평균 계산에 NaN이 적용되어 nan이 반환\n",
    "\n",
    "b = pd.Series(a) # 배열을 시리즈로 변경\n",
    "\n",
    "print(b.mean())  # 판다스의 시리즈는 NaN값을 빼고 계산해준다.\n",
    "# 각 원소들에 대해 동일 값의 원소끼리 그룹핑하여 개수를 세서 반환하는 함수\n",
    "print(b.sum())\n",
    "b"
   ]
  },
  {
   "cell_type": "code",
   "execution_count": 167,
   "id": "70ef8e3c",
   "metadata": {},
   "outputs": [
    {
     "data": {
      "text/plain": [
       "7    4\n",
       "4    3\n",
       "1    2\n",
       "3    1\n",
       "5    1\n",
       "6    1\n",
       "dtype: int64"
      ]
     },
     "execution_count": 167,
     "metadata": {},
     "output_type": "execute_result"
    }
   ],
   "source": [
    "# 각 원소들에 대해 동일 값의 원소끼리 그룹핑하여  개수를 세서 반환하는 함수\n",
    "pd.Series([1,1,3,4,4,4,5,6,7,7,7,7]).value_counts()"
   ]
  },
  {
   "cell_type": "code",
   "execution_count": 175,
   "id": "f28f0de0",
   "metadata": {},
   "outputs": [
    {
     "data": {
      "text/plain": [
       "DatetimeIndex(['2018-10-01', '2018-10-02', '2018-10-03', '2018-10-04',\n",
       "               '2018-10-05', '2018-10-06', '2018-10-07', '2018-10-08',\n",
       "               '2018-10-09', '2018-10-10', '2018-10-11', '2018-10-12',\n",
       "               '2018-10-13', '2018-10-14', '2018-10-15', '2018-10-16',\n",
       "               '2018-10-17', '2018-10-18', '2018-10-19', '2018-10-20'],\n",
       "              dtype='datetime64[ns]', freq='D')"
      ]
     },
     "execution_count": 175,
     "metadata": {},
     "output_type": "execute_result"
    }
   ],
   "source": [
    "pd.date_range(start='2018-10-01',end='2018-10-20',freq='d')\n",
    "# DatetimeIndex를 반환\n",
    "# 인덱스니까 시리즈에 붙일 수 있음\n",
    "# dtype='datetime64[ns]'"
   ]
  },
  {
   "cell_type": "code",
   "execution_count": 176,
   "id": "80e17aee",
   "metadata": {},
   "outputs": [
    {
     "data": {
      "text/plain": [
       "DatetimeIndex(['2018-10-31', '2018-11-30', '2018-12-31', '2019-01-31',\n",
       "               '2019-02-28', '2019-03-31', '2019-04-30', '2019-05-31',\n",
       "               '2019-06-30', '2019-07-31', '2019-08-31', '2019-09-30'],\n",
       "              dtype='datetime64[ns]', freq='M')"
      ]
     },
     "execution_count": 176,
     "metadata": {},
     "output_type": "execute_result"
    }
   ],
   "source": [
    "pd.date_range(start='2022-10-01',end='2022-12-02',freq='w')\n",
    "pd.date_range(start='2018-10-01',end='2019-10-20',freq='m')\n",
    "pd.date_range(start='1997-10-01',end='2022-10-20',freq='y')"
   ]
  },
  {
   "cell_type": "code",
   "execution_count": 192,
   "id": "72b49cc8",
   "metadata": {},
   "outputs": [
    {
     "data": {
      "text/plain": [
       "DatetimeIndex(['2022-01-01', '2022-04-01', '2022-07-01', '2022-10-01'], dtype='datetime64[ns]', freq='QS-JAN')"
      ]
     },
     "execution_count": 192,
     "metadata": {},
     "output_type": "execute_result"
    }
   ],
   "source": [
    "pd.date_range(start='2022-10-01',end='2022-12-02',freq='s')\n",
    "pd.date_range(start='2022-10-01',periods=12,freq='2bm')\n",
    "#2bm : 2개월 간격으로 periods 간격 12개 생성\n",
    "pd.date_range(start='2022-10-01',periods=12,freq='2by')\n",
    "#분기별 생성 : qs\n",
    "pd.date_range(start='2022-01-01',periods=4,freq='qs')"
   ]
  },
  {
   "cell_type": "code",
   "execution_count": 210,
   "id": "45d310c5",
   "metadata": {},
   "outputs": [
    {
     "name": "stdout",
     "output_type": "stream",
     "text": [
      "[1 4 0 1 3 4 1 0 1 2]\n"
     ]
    }
   ],
   "source": [
    "#q3 넘파이 np.random.randint()이용해서 난수를 10개생성\n",
    "#q4 넘파이 np.random.seed()를 찾아서 시간 지정\n",
    "rand = np.random.randint(5) #size상관 없이 출력\n",
    "rand = np.random.randint(5,size=10)\n",
    "print(rand)"
   ]
  },
  {
   "cell_type": "code",
   "execution_count": 211,
   "id": "63d051ca",
   "metadata": {},
   "outputs": [
    {
     "name": "stdout",
     "output_type": "stream",
     "text": [
      "1664352304.6831634\n"
     ]
    },
    {
     "data": {
      "text/plain": [
       "array([2, 1, 0, 2, 2, 4, 2, 3, 1, 1])"
      ]
     },
     "execution_count": 211,
     "metadata": {},
     "output_type": "execute_result"
    }
   ],
   "source": [
    "import time\n",
    "print (time.time())\n",
    "np.random.seed(int(time.time()))\n",
    "np.random.randint(5,size=10)"
   ]
  },
  {
   "cell_type": "code",
   "execution_count": null,
   "id": "55aa1ceb",
   "metadata": {},
   "outputs": [],
   "source": []
  }
 ],
 "metadata": {
  "kernelspec": {
   "display_name": "Python 3 (ipykernel)",
   "language": "python",
   "name": "python3"
  },
  "language_info": {
   "codemirror_mode": {
    "name": "ipython",
    "version": 3
   },
   "file_extension": ".py",
   "mimetype": "text/x-python",
   "name": "python",
   "nbconvert_exporter": "python",
   "pygments_lexer": "ipython3",
   "version": "3.9.12"
  }
 },
 "nbformat": 4,
 "nbformat_minor": 5
}
