{
 "cells": [
  {
   "cell_type": "code",
   "execution_count": 1,
   "id": "0dcda45f",
   "metadata": {},
   "outputs": [],
   "source": [
    "from IPython.core.interactiveshell import InteractiveShell\n",
    "InteractiveShell.ast_node_interactivity=\"all\""
   ]
  },
  {
   "cell_type": "code",
   "execution_count": 2,
   "id": "546b53ba",
   "metadata": {
    "collapsed": true
   },
   "outputs": [
    {
     "data": {
      "text/plain": [
       "['Dialect',\n",
       " 'DictReader',\n",
       " 'DictWriter',\n",
       " 'Error',\n",
       " 'QUOTE_ALL',\n",
       " 'QUOTE_MINIMAL',\n",
       " 'QUOTE_NONE',\n",
       " 'QUOTE_NONNUMERIC',\n",
       " 'Sniffer',\n",
       " 'StringIO',\n",
       " '_Dialect',\n",
       " '__all__',\n",
       " '__builtins__',\n",
       " '__cached__',\n",
       " '__doc__',\n",
       " '__file__',\n",
       " '__loader__',\n",
       " '__name__',\n",
       " '__package__',\n",
       " '__spec__',\n",
       " '__version__',\n",
       " 'excel',\n",
       " 'excel_tab',\n",
       " 'field_size_limit',\n",
       " 'get_dialect',\n",
       " 'list_dialects',\n",
       " 're',\n",
       " 'reader',\n",
       " 'register_dialect',\n",
       " 'unix_dialect',\n",
       " 'unregister_dialect',\n",
       " 'writer']"
      ]
     },
     "execution_count": 2,
     "metadata": {},
     "output_type": "execute_result"
    }
   ],
   "source": [
    "# 파이썬 모듈을 이용한 csv 파일 처리\n",
    "import csv\n",
    "dir(csv)"
   ]
  },
  {
   "cell_type": "code",
   "execution_count": 12,
   "id": "92ed8acf",
   "metadata": {},
   "outputs": [
    {
     "data": {
      "text/plain": [
       "<_csv.reader at 0x13ebf090a00>"
      ]
     },
     "execution_count": 12,
     "metadata": {},
     "output_type": "execute_result"
    },
    {
     "data": {
      "text/plain": [
       "_csv.reader"
      ]
     },
     "execution_count": 12,
     "metadata": {},
     "output_type": "execute_result"
    }
   ],
   "source": [
    "file = csv.reader('../../data/emp.csv')\n",
    "file # 객체로 출력\n",
    "type(file)"
   ]
  },
  {
   "cell_type": "code",
   "execution_count": 22,
   "id": "0328d35a",
   "metadata": {},
   "outputs": [],
   "source": [
    "file = csv.reader('../../data/emp.csv')"
   ]
  },
  {
   "cell_type": "code",
   "execution_count": 20,
   "id": "22931690",
   "metadata": {
    "collapsed": true
   },
   "outputs": [
    {
     "name": "stdout",
     "output_type": "stream",
     "text": [
      "['.']\n",
      "['.']\n",
      "['/']\n",
      "['.']\n",
      "['.']\n",
      "['/']\n",
      "['d']\n",
      "['a']\n",
      "['t']\n",
      "['a']\n",
      "['/']\n",
      "['e']\n",
      "['m']\n",
      "['p']\n",
      "['.']\n",
      "['c']\n",
      "['s']\n",
      "['v']\n"
     ]
    }
   ],
   "source": [
    "# 전체 내용을 출력\n",
    "# 파일의 내용을 한 행 씩 리스트 객체에 담아서 출력\n",
    "for emp_list in file:\n",
    "    print(emp_list)"
   ]
  },
  {
   "cell_type": "code",
   "execution_count": 18,
   "id": "db3402c2",
   "metadata": {
    "collapsed": true
   },
   "outputs": [
    {
     "name": "stdout",
     "output_type": "stream",
     "text": [
      ".\n",
      ".\n",
      "/\n",
      ".\n",
      ".\n",
      "/\n",
      "d\n",
      "a\n",
      "t\n",
      "a\n",
      "/\n",
      "e\n",
      "m\n",
      "p\n",
      ".\n",
      "c\n",
      "s\n",
      "v\n"
     ]
    }
   ],
   "source": [
    "for emp_list in file:\n",
    "    print(emp_list[0])"
   ]
  },
  {
   "cell_type": "code",
   "execution_count": 23,
   "id": "96803959",
   "metadata": {},
   "outputs": [
    {
     "ename": "IndexError",
     "evalue": "list index out of range",
     "output_type": "error",
     "traceback": [
      "\u001b[1;31m---------------------------------------------------------------------------\u001b[0m",
      "\u001b[1;31mIndexError\u001b[0m                                Traceback (most recent call last)",
      "Input \u001b[1;32mIn [23]\u001b[0m, in \u001b[0;36m<cell line: 1>\u001b[1;34m()\u001b[0m\n\u001b[0;32m      1\u001b[0m \u001b[38;5;28;01mfor\u001b[39;00m emp_list \u001b[38;5;129;01min\u001b[39;00m file:\n\u001b[1;32m----> 2\u001b[0m     \u001b[38;5;28mprint\u001b[39m(\u001b[43memp_list\u001b[49m\u001b[43m[\u001b[49m\u001b[38;5;241;43m1\u001b[39;49m\u001b[43m]\u001b[49m)\n",
      "\u001b[1;31mIndexError\u001b[0m: list index out of range"
     ]
    }
   ],
   "source": [
    "for emp_list in file:\n",
    "    print(emp_list[1])"
   ]
  },
  {
   "cell_type": "code",
   "execution_count": 30,
   "id": "0dc5b153",
   "metadata": {},
   "outputs": [
    {
     "name": "stdout",
     "output_type": "stream",
     "text": [
      "<_csv.reader object at 0x0000013EBF090D00>\n"
     ]
    }
   ],
   "source": [
    "file = open('../../data/emp.csv')\n",
    "emp_csv = csv.reader(file)\n",
    "print(emp_csv)"
   ]
  },
  {
   "cell_type": "code",
   "execution_count": 25,
   "id": "75164919",
   "metadata": {
    "collapsed": true
   },
   "outputs": [
    {
     "name": "stdout",
     "output_type": "stream",
     "text": [
      "['empno', 'ename', 'job', 'mgr', 'hiredate', 'sal', 'comm', 'deptno']\n",
      "['7839', 'KING', 'PRESIDENT', '', '1981-11-17 0:00', '5000', '', '10']\n",
      "['7698', 'BLAKE', 'MANAGER', '7839', '1981-05-01 0:00', '2850', '', '30']\n",
      "['7782', 'CLARK', 'MANAGER', '7839', '1981-05-09 0:00', '2450', '', '10']\n",
      "['7566', 'JONES', 'MANAGER', '7839', '1981-04-01 0:00', '2975', '', '20']\n",
      "['7654', 'MARTIN', 'SALESMAN', '7698', '1981-09-10 0:00', '1250', '1400', '30']\n",
      "['7499', 'ALLEN', 'SALESMAN', '7698', '1981-02-11 0:00', '1600', '300', '30']\n",
      "['7844', 'TURNER', 'SALESMAN', '7698', '1981-08-21 0:00', '1500', '0', '30']\n",
      "['7900', 'JAMES', 'CLERK', '7698', '1981-12-11 0:00', '950', '', '30']\n",
      "['7521', 'WARD', 'SALESMAN', '7698', '1981-02-23 0:00', '1250', '500', '30']\n",
      "['7902', 'FORD', 'ANALYST', '7566', '1981-12-11 0:00', '3000', '', '20']\n",
      "['7369', 'SMITH', 'CLERK', '7902', '1980-12-09 0:00', '800', '', '20']\n",
      "['7788', 'SCOTT', 'ANALYST', '7566', '1982-12-22 0:00', '3000', '', '20']\n",
      "['7876', 'ADAMS', 'CLERK', '7788', '1983-01-15 0:00', '1100', '', '20']\n",
      "['7934', 'MILLER', 'CLERK', '7782', '1982-01-11 0:00', '1300', '', '10']\n"
     ]
    }
   ],
   "source": [
    "for emp_list in emp_csv:\n",
    "    print(emp_list)"
   ]
  },
  {
   "cell_type": "code",
   "execution_count": 56,
   "id": "b0902049",
   "metadata": {
    "scrolled": true
   },
   "outputs": [
    {
     "name": "stdout",
     "output_type": "stream",
     "text": [
      "empno sal\n",
      "7839 60000\n",
      "7698 34200\n",
      "7782 29400\n",
      "7566 35700\n",
      "7654 15000\n",
      "7499 19200\n",
      "7844 18000\n",
      "7900 11400\n",
      "7521 15000\n",
      "7902 36000\n",
      "7369 9600\n",
      "7788 36000\n",
      "7876 13200\n",
      "7934 15600\n"
     ]
    }
   ],
   "source": [
    "file = open('../../data/emp.csv')\n",
    "emp_csv = csv.reader(file)\n",
    "# print(emp_csv)\n",
    "# for emp_list in emp_csv:\n",
    "#     print(emp_list[0], emp_list[5])\n",
    "# for emp_list in emp_csv:\n",
    "#     print(emp_list)\n",
    "\n",
    "\n",
    "\n",
    "# 연봉 출력\n",
    "flag = True\n",
    "for emp_list in emp_csv:\n",
    "    if flag:\n",
    "        print(emp_list[0], emp_list[5])\n",
    "        flag = False\n",
    "    else:\n",
    "        print(emp_list[0], int(emp_list[5]) * 12)"
   ]
  },
  {
   "cell_type": "code",
   "execution_count": null,
   "id": "a803eed3",
   "metadata": {},
   "outputs": [],
   "source": []
  }
 ],
 "metadata": {
  "kernelspec": {
   "display_name": "Python 3 (ipykernel)",
   "language": "python",
   "name": "python3"
  },
  "language_info": {
   "codemirror_mode": {
    "name": "ipython",
    "version": 3
   },
   "file_extension": ".py",
   "mimetype": "text/x-python",
   "name": "python",
   "nbconvert_exporter": "python",
   "pygments_lexer": "ipython3",
   "version": "3.9.12"
  },
  "toc": {
   "base_numbering": 1,
   "nav_menu": {},
   "number_sections": true,
   "sideBar": true,
   "skip_h1_title": false,
   "title_cell": "Table of Contents",
   "title_sidebar": "Contents",
   "toc_cell": false,
   "toc_position": {},
   "toc_section_display": true,
   "toc_window_display": false
  }
 },
 "nbformat": 4,
 "nbformat_minor": 5
}
