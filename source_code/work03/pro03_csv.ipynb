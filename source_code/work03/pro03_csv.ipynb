{
 "cells": [
  {
   "cell_type": "markdown",
   "id": "186eaa92",
   "metadata": {},
   "source": [
    "csv 파일을 가져올 때 나올 수 있는 error  \n",
    "1. 구분자 에러   \n",
    "   -  a b c d -> a, b, c, d  \n",
    "2. 값의 \",\"\" , '''   \n",
    "   - 'a','b','c','d' -> 값의 \"\"을 없앤 상태로 재저장  \n",
    "3. '100', '100' -> int인 경우  \n",
    "\n",
    "각각의 type을 반드시 확인해야 한다  \n",
    "\n",
    "\n",
    "\n"
   ]
  },
  {
   "cell_type": "code",
   "execution_count": 2,
   "id": "961ce65e",
   "metadata": {},
   "outputs": [],
   "source": [
    "# 파이썬 모듈을 이용한 csv 파일 처리\n",
    "# csv를 python으로 가져오는 작업을 하는 법\n",
    "import csv"
   ]
  },
  {
   "cell_type": "code",
   "execution_count": 17,
   "id": "1afb0d8d",
   "metadata": {},
   "outputs": [
    {
     "data": {
      "text/plain": [
       "_csv.reader"
      ]
     },
     "execution_count": 17,
     "metadata": {},
     "output_type": "execute_result"
    }
   ],
   "source": [
    "# dir(csv)\n",
    "\n",
    "# 1) csv파일 읽기\n",
    "file = csv.reader('c:\\\\ds_work\\\\data\\\\emp.csv') \n",
    "\n",
    "#2) 객체로 출력되는 것을 확인\n",
    "file\n",
    "type(file)"
   ]
  },
  {
   "cell_type": "code",
   "execution_count": 19,
   "id": "0a614d8b",
   "metadata": {},
   "outputs": [
    {
     "ename": "IndexError",
     "evalue": "list index out of range",
     "output_type": "error",
     "traceback": [
      "\u001b[1;31m---------------------------------------------------------------------------\u001b[0m",
      "\u001b[1;31mIndexError\u001b[0m                                Traceback (most recent call last)",
      "Input \u001b[1;32mIn [19]\u001b[0m, in \u001b[0;36m<cell line: 2>\u001b[1;34m()\u001b[0m\n\u001b[0;32m      1\u001b[0m \u001b[38;5;66;03m#3) 전체 내용 출력 _파일의 내용을 한 행씩 리스트 객체에 담아서 출력\u001b[39;00m\n\u001b[0;32m      2\u001b[0m \u001b[38;5;28;01mfor\u001b[39;00m emp_list \u001b[38;5;129;01min\u001b[39;00m file :\n\u001b[1;32m----> 3\u001b[0m     \u001b[38;5;28mprint\u001b[39m(\u001b[38;5;124mf\u001b[39m\u001b[38;5;124m\"\u001b[39m\u001b[38;5;132;01m{\u001b[39;00memp_list[\u001b[38;5;241m1\u001b[39m]\u001b[38;5;132;01m}\u001b[39;00m\u001b[38;5;124m\"\u001b[39m)\n",
      "\u001b[1;31mIndexError\u001b[0m: list index out of range"
     ]
    }
   ],
   "source": [
    "#3) 전체 내용 출력 _파일의 내용을 한 행씩 리스트 객체에 담아서 출력\n",
    "for emp_list in file :\n",
    "    print(f\"{emp_list[1]}\")"
   ]
  },
  {
   "cell_type": "markdown",
   "id": "ded9cd54",
   "metadata": {},
   "source": []
  },
  {
   "cell_type": "code",
   "execution_count": null,
   "id": "49a50b30",
   "metadata": {},
   "outputs": [],
   "source": []
  }
 ],
 "metadata": {
  "kernelspec": {
   "display_name": "Python 3 (ipykernel)",
   "language": "python",
   "name": "python3"
  },
  "language_info": {
   "codemirror_mode": {
    "name": "ipython",
    "version": 3
   },
   "file_extension": ".py",
   "mimetype": "text/x-python",
   "name": "python",
   "nbconvert_exporter": "python",
   "pygments_lexer": "ipython3",
   "version": "3.9.12"
  }
 },
 "nbformat": 4,
 "nbformat_minor": 5
}
