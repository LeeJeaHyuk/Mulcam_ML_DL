{
 "cells": [
  {
   "cell_type": "markdown",
   "id": "4a2f085b",
   "metadata": {},
   "source": [
    "데이터 로드 -> 모델생성과 학습 -> 모델 예측 및 평가\n",
    "\n",
    "exam) 보스턴 집값을 예측하는 연습용 데이터를 선형회귀 실습해보자"
   ]
  },
  {
   "cell_type": "code",
   "execution_count": 1,
   "id": "f866a107",
   "metadata": {},
   "outputs": [
    {
     "name": "stderr",
     "output_type": "stream",
     "text": [
      "C:\\Anaconda3\\lib\\site-packages\\sklearn\\utils\\deprecation.py:87: FutureWarning: Function load_boston is deprecated; `load_boston` is deprecated in 1.0 and will be removed in 1.2.\n",
      "\n",
      "    The Boston housing prices dataset has an ethical problem. You can refer to\n",
      "    the documentation of this function for further details.\n",
      "\n",
      "    The scikit-learn maintainers therefore strongly discourage the use of this\n",
      "    dataset unless the purpose of the code is to study and educate about\n",
      "    ethical issues in data science and machine learning.\n",
      "\n",
      "    In this special case, you can fetch the dataset from the original\n",
      "    source::\n",
      "\n",
      "        import pandas as pd\n",
      "        import numpy as np\n",
      "\n",
      "\n",
      "        data_url = \"http://lib.stat.cmu.edu/datasets/boston\"\n",
      "        raw_df = pd.read_csv(data_url, sep=\"\\s+\", skiprows=22, header=None)\n",
      "        data = np.hstack([raw_df.values[::2, :], raw_df.values[1::2, :2]])\n",
      "        target = raw_df.values[1::2, 2]\n",
      "\n",
      "    Alternative datasets include the California housing dataset (i.e.\n",
      "    :func:`~sklearn.datasets.fetch_california_housing`) and the Ames housing\n",
      "    dataset. You can load the datasets as follows::\n",
      "\n",
      "        from sklearn.datasets import fetch_california_housing\n",
      "        housing = fetch_california_housing()\n",
      "\n",
      "    for the California housing dataset and::\n",
      "\n",
      "        from sklearn.datasets import fetch_openml\n",
      "        housing = fetch_openml(name=\"house_prices\", as_frame=True)\n",
      "\n",
      "    for the Ames housing dataset.\n",
      "    \n",
      "  warnings.warn(msg, category=FutureWarning)\n"
     ]
    }
   ],
   "source": [
    "#q1) 데이터 로드\n",
    "from sklearn.datasets import load_boston\n",
    "from sklearn.model_selection import train_test_split\n",
    "data = load_boston()\n",
    "X_train, X_test, y_train, y_test = train_test_split(data.data, data.target, random_state=42)"
   ]
  },
  {
   "cell_type": "code",
   "execution_count": 2,
   "id": "85231f57",
   "metadata": {},
   "outputs": [
    {
     "data": {
      "text/plain": [
       "ElasticNet()"
      ]
     },
     "execution_count": 2,
     "metadata": {},
     "output_type": "execute_result"
    }
   ],
   "source": [
    "#q2) 모델생성과 학습\n",
    "from sklearn.linear_model import ElasticNet\n",
    "# 하이퍼파라미터가 없다 OLS 방식이다\n",
    "# 선형 회귀 모델 -> Ridge, Lasso -> 경사하강법으로 최적화  -> 학습율에 하이퍼파라미터 옵셥이 있다\n",
    "\n",
    "model = ElasticNet(alpha=1.0) # 모델 생성\n",
    "model.fit(X_train, y_train)"
   ]
  },
  {
   "cell_type": "code",
   "execution_count": 3,
   "id": "07191e53",
   "metadata": {},
   "outputs": [
    {
     "name": "stdout",
     "output_type": "stream",
     "text": [
      "정확도 :  0.6559413789855975\n"
     ]
    }
   ],
   "source": [
    "#q3) 모델 예측 및 평가\n",
    "score = model.score(X_test, y_test)\n",
    "print(\"정확도 : \", score)"
   ]
  },
  {
   "cell_type": "code",
   "execution_count": 4,
   "id": "988efb83",
   "metadata": {},
   "outputs": [
    {
     "name": "stdout",
     "output_type": "stream",
     "text": [
      "weight : \n",
      " [-0.10270885  0.03414157 -0.00689058  0.         -0.          1.14428334\n",
      "  0.01442808 -0.70930241  0.26472536 -0.01347162 -0.74428292  0.01200929\n",
      " -0.78282769]\n",
      "bias : \n",
      " 39.443439148670606\n"
     ]
    }
   ],
   "source": [
    "#q4) 선형회귀모델은 계수, 절편을 모델의 속성으로 가진다 \n",
    "# 계수는 feature에 대한 weight 이다 -> feature가 예측에 중요한 역할을 하게 된다.\n",
    "coefficient = model.coef_\n",
    "intercept = model.intercept_\n",
    "print(\"weight : \\n\", coefficient)\n",
    "print(\"bias : \\n\", intercept)"
   ]
  },
  {
   "cell_type": "code",
   "execution_count": null,
   "id": "4adb4c53",
   "metadata": {},
   "outputs": [],
   "source": []
  },
  {
   "cell_type": "code",
   "execution_count": null,
   "id": "665cd3e8",
   "metadata": {},
   "outputs": [],
   "source": []
  }
 ],
 "metadata": {
  "kernelspec": {
   "display_name": "Python 3 (ipykernel)",
   "language": "python",
   "name": "python3"
  },
  "language_info": {
   "codemirror_mode": {
    "name": "ipython",
    "version": 3
   },
   "file_extension": ".py",
   "mimetype": "text/x-python",
   "name": "python",
   "nbconvert_exporter": "python",
   "pygments_lexer": "ipython3",
   "version": "3.9.12"
  }
 },
 "nbformat": 4,
 "nbformat_minor": 5
}
