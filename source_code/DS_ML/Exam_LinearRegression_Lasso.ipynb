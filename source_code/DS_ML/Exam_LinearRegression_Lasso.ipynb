{
 "cells": [
  {
   "cell_type": "markdown",
   "id": "4a2f085b",
   "metadata": {},
   "source": [
    "데이터 로드 -> 모델생성과 학습 -> 모델 예측 및 평가\n",
    "\n",
    "exam) 보스턴 집값을 예측하는 연습용 데이터를 선형회귀 실습해보자"
   ]
  },
  {
   "cell_type": "markdown",
   "id": "67770e18",
   "metadata": {},
   "source": [
    "### Lasso : 선형 회귀 비용함수에 가중치들의 절대값의 합을 최소화하는 제약조건을 추가"
   ]
  },
  {
   "cell_type": "code",
   "execution_count": 8,
   "id": "f866a107",
   "metadata": {},
   "outputs": [],
   "source": [
    "#q1) 데이터 로드\n",
    "    from sklearn.datasets import load_diabetes\n",
    "from sklearn.model_selection import train_test_split\n",
    "data = load_diabetes()\n",
    "X_train, X_test, y_train, y_test = train_test_split(data.data, data.target, random_state=42)"
   ]
  },
  {
   "cell_type": "code",
   "execution_count": 9,
   "id": "85231f57",
   "metadata": {},
   "outputs": [
    {
     "data": {
      "text/plain": [
       "Lasso()"
      ]
     },
     "execution_count": 9,
     "metadata": {},
     "output_type": "execute_result"
    }
   ],
   "source": [
    "#q2) 모델생성과 학습\n",
    "from sklearn.linear_model import Lasso\n",
    "# 하이퍼파라미터가 없다 OLS 방식이다\n",
    "# 선형 회귀 모델 -> Ridge, Lasso -> 경사하강법으로 최적화  -> 학습율에 하이퍼파라미터 옵셥이 있다\n",
    "\n",
    "model = Lasso() # 모델 생성\n",
    "model.fit(X_train, y_train)"
   ]
  },
  {
   "cell_type": "code",
   "execution_count": 10,
   "id": "07191e53",
   "metadata": {},
   "outputs": [
    {
     "name": "stdout",
     "output_type": "stream",
     "text": [
      "정확도 :  0.37914194389255096\n"
     ]
    }
   ],
   "source": [
    "#q3) 모델 예측 및 평가\n",
    "score = model.score(X_test, y_test)\n",
    "print(\"정확도 : \", score)"
   ]
  },
  {
   "cell_type": "code",
   "execution_count": 11,
   "id": "988efb83",
   "metadata": {},
   "outputs": [
    {
     "name": "stdout",
     "output_type": "stream",
     "text": [
      "weight : \n",
      " [  0.          -0.         398.38436775  46.17884277   0.\n",
      "   0.          -0.           0.         238.18740159   0.        ]\n",
      "bias : \n",
      " 152.9443072175393\n"
     ]
    }
   ],
   "source": [
    "#q4) 선형회귀모델은 계수, 절편을 모델의 속성으로 가진다 \n",
    "# 계수는 feature에 대한 weight 이다 -> feature가 예측에 중요한 역할을 하게 된다.\n",
    "coefficient = model.coef_\n",
    "intercept = model.intercept_\n",
    "print(\"weight : \\n\", coefficient)\n",
    "print(\"bias : \\n\", intercept)"
   ]
  },
  {
   "cell_type": "code",
   "execution_count": null,
   "id": "4adb4c53",
   "metadata": {},
   "outputs": [],
   "source": []
  }
 ],
 "metadata": {
  "kernelspec": {
   "display_name": "Python 3 (ipykernel)",
   "language": "python",
   "name": "python3"
  },
  "language_info": {
   "codemirror_mode": {
    "name": "ipython",
    "version": 3
   },
   "file_extension": ".py",
   "mimetype": "text/x-python",
   "name": "python",
   "nbconvert_exporter": "python",
   "pygments_lexer": "ipython3",
   "version": "3.9.12"
  }
 },
 "nbformat": 4,
 "nbformat_minor": 5
}
