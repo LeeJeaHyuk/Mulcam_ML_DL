{
 "cells": [
  {
   "cell_type": "markdown",
   "id": "59755a84",
   "metadata": {},
   "source": [
    "### 스케일링 작업 : 이상치 데이터로 분류의 정밀도가 낮아짐을 개선하기 위한 이유\n",
    "1. MinMaxScaler\n",
    "    - 0~1로 작업 \n",
    "    - 이상치 값이 존재하면 값의 폭이 좁기 때문에 판단이 모호하다 ->표준화작업\n",
    "2. 표준화\n",
    "    - 평균은 0으로 분산은1\n",
    "    - 특정량이 정규분포면 표준화된 특정량은 표준 정규분포가 된다\n",
    "3. 정규화\n",
    "    - 특징량을 정규화한다(분산된 데이터를 일정 범위로 가두는 것)\n",
    "    - 보통 범위를 (0 ~ 1) 또는 (-1 ~ 1) 사이로 한다        "
   ]
  },
  {
   "cell_type": "markdown",
   "id": "3ddfb801",
   "metadata": {},
   "source": [
    "$$\n",
    "{\\tilde{x} = \\frac{x - min(x)}{max(x) - min(x)}\n",
    "}\n",
    "$$"
   ]
  },
  {
   "cell_type": "code",
   "execution_count": 8,
   "id": "ff81bd87",
   "metadata": {},
   "outputs": [
    {
     "name": "stdout",
     "output_type": "stream",
     "text": [
      "max :  Listen Count    977.0\n",
      "dtype: float64\n",
      "min :  Listen Count    0.0\n",
      "dtype: float64\n"
     ]
    }
   ],
   "source": [
    "import numpy as np\n",
    "import pandas as pd\n",
    "from sklearn.preprocessing import MinMaxScaler\n",
    "\n",
    "#1 데이터 생성\n",
    "np.random.seed(100)\n",
    "data_array = []\n",
    "\n",
    "for i in range(1, 100):\n",
    "  s = np.random.randint(0, i * 10, 10)\n",
    "  data_array.extend(s)\n",
    "\n",
    "data_array.extend(np.zeros(100))\n",
    "\n",
    "# 2 데이터프레임으로 변환\n",
    "data = pd.DataFrame({'Listen Count': data_array})\n",
    "\n",
    "data\n",
    "\n",
    "# 3 최대 최소 리턴\n",
    "print(\"max : \",data.max()) # 977.0\n",
    "print(\"min : \",data.min()) # 0\n"
   ]
  },
  {
   "cell_type": "code",
   "execution_count": 9,
   "id": "a94d55f1",
   "metadata": {},
   "outputs": [
    {
     "name": "stdout",
     "output_type": "stream",
     "text": [
      "0    1.0\n",
      "dtype: float64  ~ 0    0.0\n",
      "dtype: float64\n"
     ]
    }
   ],
   "source": [
    "scaler = MinMaxScaler()\n",
    "data_n = scaler.fit_transform(data)\n",
    "data_n = pd.DataFrame(data_n)\n",
    "\n",
    "print(data_n.max(),' ~', data_n.min()) ## 0"
   ]
  },
  {
   "cell_type": "markdown",
   "id": "f3899ed3",
   "metadata": {},
   "source": [
    "$$\n",
    "{\\tilde{x} = \\frac{x - mean(x)}{sqrt(var(x))}\n",
    "}\n",
    "$$"
   ]
  },
  {
   "cell_type": "code",
   "execution_count": 12,
   "id": "ad40a298",
   "metadata": {},
   "outputs": [
    {
     "name": "stdout",
     "output_type": "stream",
     "text": [
      "Listen Count    1.000918\n",
      "dtype: float64\n",
      "Listen Count    6.518741e-17\n",
      "dtype: float64\n"
     ]
    }
   ],
   "source": [
    "import numpy as np\n",
    "import pandas as pd\n",
    "from sklearn.preprocessing import StandardScaler\n",
    "# 표준화작업 : 이상치가 있어서 판단이 모호해지기 때문에\n",
    "\n",
    "#데이터 생성\n",
    "np.random.seed(100)\n",
    "data_array = []\n",
    "for i in range(1, 100):\n",
    "  s = np.random.randint(0, i * 10, 10)\n",
    "  data_array.extend(s)\n",
    "\n",
    "data_array.extend(np.zeros(100))\n",
    "\n",
    "# 프레임 생성\n",
    "data = pd.DataFrame({'Listen Count': data_array})\n",
    "\n",
    "# 표준화 작업\n",
    "scaler = StandardScaler()\n",
    "# 표준화 실행후 배열로 리턴\n",
    "data_n = scaler.fit_transform(data)\n",
    "# 데이터프레임으로 다시 바꾸기\n",
    "data_n = pd.DataFrame({'Listen Count': data_n.ravel()})\n",
    "\n",
    "data_n.head()\n",
    "\n",
    "print(data_n.var()) ##1.000918\n",
    "print(data_n.mean()) ##6.518741e-17\n"
   ]
  },
  {
   "cell_type": "markdown",
   "id": "38ac07e4",
   "metadata": {},
   "source": [
    "$$\n",
    "{\\tilde{x} = \\frac{x}{||x||_2} \\\\\n",
    "||x||_2 = \\sqrt{x_1^2 + x_2^2+ ...+x_m^2 }\n",
    "}\n",
    "$$"
   ]
  },
  {
   "cell_type": "code",
   "execution_count": 11,
   "id": "344c5a41",
   "metadata": {},
   "outputs": [
    {
     "name": "stdout",
     "output_type": "stream",
     "text": [
      "0.9999999999999999\n"
     ]
    }
   ],
   "source": [
    "import numpy as np\n",
    "import pandas as pd\n",
    "from sklearn.preprocessing import normalize\n",
    "\n",
    "\n",
    "np.random.seed(100)\n",
    "data_array = []\n",
    "\n",
    "for i in range(1, 100):\n",
    "  s = np.random.randint(0, i * 10, 10)\n",
    "  data_array.extend(s)\n",
    "    \n",
    "data_array.extend(np.zeros(100))\n",
    "data = pd.DataFrame({'Listen Count': data_array})\n",
    "\n",
    "data_l2_normalized = normalize([data['Listen Count']],norm='l2')\n",
    "data_l2 = pd.DataFrame({'Listen Count': data_l2_normalized.ravel()})\n",
    "\n",
    "print(np.linalg.norm(data_l2_normalized,ord=2)) ## 0.999999999\n"
   ]
  },
  {
   "cell_type": "code",
   "execution_count": null,
   "id": "05286a2b",
   "metadata": {},
   "outputs": [],
   "source": []
  }
 ],
 "metadata": {
  "kernelspec": {
   "display_name": "Python 3 (ipykernel)",
   "language": "python",
   "name": "python3"
  },
  "language_info": {
   "codemirror_mode": {
    "name": "ipython",
    "version": 3
   },
   "file_extension": ".py",
   "mimetype": "text/x-python",
   "name": "python",
   "nbconvert_exporter": "python",
   "pygments_lexer": "ipython3",
   "version": "3.9.12"
  }
 },
 "nbformat": 4,
 "nbformat_minor": 5
}
