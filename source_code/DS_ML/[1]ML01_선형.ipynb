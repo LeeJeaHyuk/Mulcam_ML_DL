{
 "cells": [
  {
   "cell_type": "markdown",
   "id": "31091613",
   "metadata": {},
   "source": [
    "### 머신러닝  : 기계학습  \n",
    "        \"The  field of study that  gives computers the ability to learn without being explicitly programmed \". \n",
    "       : 사람이 명시적으로  행동을 지시하지 않고 컴퓨터에게 학습 능력을 주는 것      \n",
    "\n",
    "       - 빅데이터를 통해서  규칙을 학습하게 하는 방식 \n",
    "\n",
    "       -  기계 모형이 학습하는 방법(methods)을 따라 데이터로 부터 규칙(rule)을 학습 하는 것  \n",
    "              > 학습한 규칙  = 표현  = 예측 방정식  = 예측 함수  = 근사 함수  \n",
    "\n",
    "       -  머신 러닝의 종류\n",
    "               --> 지도학습   :  정답(올바른 결과 )주고  데이터를 기계에 학습 시키는 방법  \n",
    "                     회귀 (데이터를 입력하면 출력으로 숫자를 반환 하는 방법 :예측 _ 주가 예측) \n",
    "                     분류 (데이터를 입력하면 출력으로 데이터의 속성이나 종류를 반환 하는 방법 : 라벨링 _ 메일스팸감지)\n",
    "\n",
    "              ---> 비지도학습  : 정답을 줄수 없는  방대한 데이터로 부터 자동적으로 산출한 특징량으로 부터\n",
    "                        구조나, 경향, 법칙 등을  이용한 기계에 학습 시키는 방법 \n",
    "                         클러스터링 (데이터를 입력할 때 해당 데이터의 그룹화 결과를 반환 하는 방법)\n",
    "\n",
    "              ---> 강화학습   : 스스로 시행 착오을 일으켜서 최적의 행동을 찾는 학습으로 최근의 목표를\n",
    "                             달성하고 보상을 주는 것으로 향상하는 방법. \n",
    "\n",
    "   ML이  부족한 이유 ?\n",
    "     -규칙  복잡성 :   찾고자 하는 규칙이 단순한가 ?  ->  머신러닝 방식이 적합  \n",
    "                           찾고자 하는 규칙의 복잡한가? ->  딥러닝 적합  \n",
    "\n",
    "    - 데이터 복잡성\n",
    "                   규칙 학습에 쓰이는 데이터가 단순한가 ?  ->  머신러닝 방식이 적합  \n",
    "                    규칙 학습에 쓰이는 데이터가 복잡한가? ->  딥러닝 적합  \n"
   ]
  },
  {
   "cell_type": "markdown",
   "id": "fdb54937",
   "metadata": {},
   "source": [
    "### ML의 알고리즘을 이용한  메소드  \n",
    "  \n",
    "  https://scikit-learn.org/stable/model_selection.html#model-selection\n",
    "   \n",
    "\n",
    "   - 회귀 \n",
    "          1) 선형 회귀 : 선형 회귀란, 데이터의 분포가 있을 때, 그 데이터에 제일많이  적용되는 직선을 구하는 분석 방법의 일종. \n",
    "                           회귀 문제를 해결하는 가장 간단한 모델로  매출 예측이나 보험회사의 리스크 평가 등의 \n",
    "                            비즈니스 이용을 비롯해 스포츠 분석이나 환경 과학 등 다분야에서 활용\n",
    "\n",
    "          2) 로지스틱 회귀  : 분류 문제를 해결하는 모델, 여러 변수에서 특정 이벤트가 발생할 확률을 예측,\n",
    "                                     사건의 발생률을 예측하는 것이 좋기 때문에, 로지스틱 회귀는 미지의 병을 발견하거나,\n",
    "                                      기상 관측 데이터로부터의 토사 재해 발생 예측 등에 활용\n",
    "\n",
    " \n",
    " \n",
    "\n",
    "  -  분류알고리즘  :    데이터 분포를 분류   ->   데이터를 분류하는 구분선 또는 구분면을 찾아서 분류 (결정경계 decision boundary ) \n",
    "                               1) SVM ( support  vector  machine, 지지도 벡터 기계 )  \n",
    "                                \n",
    "                                - 데이터 점을 새로운 고차원 공간에 배치  \n",
    "                                \n",
    "                                - 핵 함수( kernel function )을 통해서  데이터 점들간의 간극이 가장 큰(여유도가 가장 큰) \n",
    "                                 초 평면을  탐색  \n",
    "                                \n",
    "                                -  해당 초평면을 기준으로 데이터 점들을 분류  \n",
    "                                \n",
    "                                SVM 장 단점  \n",
    "                                장점  :  간단한 분류 문제를 푸는데 적합  \n",
    "                                단점 :  대규모 데이터 처리 불가.   이미지 처리 분류 부적합  \n",
    "                        \n",
    "                                \n",
    "                                2) 결정 트리  (decision tree)출현  / 랜덤 포레스트 \n",
    "                                 - 나무 모양으로 순서에 따라 결정을 반복 \n",
    "                                  -2010년 대부터 커널 메소드 보다 더 인기를 끌었다. \n",
    "                                  -2014년도 대세가 된다. \n",
    "                 \n",
    "                                3) 그래디언트 부스팅 머신  \n",
    "                                  - 여러 결정트리를 순서대로 배치해 경사도를 증폭\n",
    "                                   - 랜덤 포레스트가 병렬처리라면 이방법은 순차 처리이다. \n",
    "                                   -  XGBoot를 경진 대회에서 자주 사용하게 됬다.  \n",
    "\n",
    "                                4) 나이브 베이즈\n",
    "                                  - 분류 문제를 풀기 위한 모델로, 확률론의 정리인 베이즈의 정리알고리즘 적용\n",
    "                                 - 계산량이 적고 처리가 빠르기 때문에 대규모 데이터에도 사용\n",
    "                                 - 텍스트 분류, 메일 스팸, 비 스팸 판정등 사용\n",
    "\n",
    "\n",
    " - 클러스터\n",
    "\n",
    "    1) k-means clustering : 데이터를 성질이 가까운 분류끼리 그룹으로 나누는 방법, 클러스터링의 가장 쉬운 기술로 빅 데이터를 분석할 때 자주 사용되는 가장 중요한 기술\n",
    "\n",
    "    2) k-nearest neighbor(KNN) : 패턴 인식에 자주 사용되며, 특징 공간에서 가장 가까운 훈련 예에 기초한 분류 방법, 지연 학습으로 분류\n",
    "\n",
    " \n",
    "\n",
    "- transformer _변환기  \n",
    "       :차원축소 , 이진화 , 요인분석, 레이블인코딩 , latent Dirichlet allocation ,   선형 판별분석,  \n",
    "        척도구성 (scaling),  비음수 행렬분해, 정규화(normalizing) ,  원핫 인코딩, 주성분 분석, imputing, vectorizing,\n",
    "        sigular value decomposition 등등  ->   특징공학 (feature  engineering)의 관심사   \n",
    "        \n",
    "\n",
    "\n"
   ]
  },
  {
   "cell_type": "markdown",
   "id": "768ccaee",
   "metadata": {},
   "source": [
    "### Q1) 통계 변수를 학습 후    Linear Regression  을  학습해 보자. \n",
    "\n",
    "평균기온  | 아이스크림 쇼핑 클릭량\n",
    "--- |  ---\n",
    "5| 15\n",
    "10|25\n",
    "15|35\n",
    "20|?\n",
    "    "
   ]
  },
  {
   "cell_type": "code",
   "execution_count": 4,
   "id": "b0374063",
   "metadata": {},
   "outputs": [
    {
     "data": {
      "image/png": "[encoded data removed]",
      "text/plain": [
       "<Figure size 432x288 with 1 Axes>"
      ]
     },
     "metadata": {
      "needs_background": "light"
     },
     "output_type": "display_data"
    }
   ],
   "source": [
    "#1-1 실측 데이터를 가지고 선형을 그려보자. \n",
    "import numpy as np\n",
    "import matplotlib.pyplot as plt\n",
    "\n",
    "temp  = np.array([5,10,15])\n",
    "ice =  np.array ([15,25,35])\n",
    "\n",
    "plt.plot(temp,ice)\n",
    "plt.scatter(temp, ice)\n",
    "plt.grid()\n",
    "plt.show()"
   ]
  },
  {
   "cell_type": "markdown",
   "id": "4f190a41",
   "metadata": {},
   "source": [
    "## Q2) 실측 데이터를 이용해서  공식을 만들어서 데이터를 시각화 해보자.  \n",
    "## f1_x  =  2*x+ 5\n",
    "\n",
    "평균기온  | 아이스크림 쇼핑 클릭량\n",
    "--- |  ---\n",
    "5| 16\n",
    "10|23\n",
    "15|31\n",
    "20|50\n",
    "    "
   ]
  },
  {
   "cell_type": "code",
   "execution_count": 5,
   "id": "7de3addc",
   "metadata": {},
   "outputs": [
    {
     "data": {
      "text/plain": [
       "array([15, 25, 35, 45])"
      ]
     },
     "execution_count": 5,
     "metadata": {},
     "output_type": "execute_result"
    }
   ],
   "source": [
    "#2-1 실측 데이터로 공식을 유추해서 만들고  평균기온에 따른 클릭량 데이터를 적용해서 오차를 확인 해보자. \n",
    "X =  np.array([5,10,15,20 ]) #평균기온  \n",
    "Y =  np.array ([16,23,31,50])  #쇼핑 클릭량 \n",
    "\n",
    "f1_x = 2*X + 5     #예측값 \n",
    "\n",
    "f1_x"
   ]
  },
  {
   "cell_type": "code",
   "execution_count": 19,
   "id": "1cb3109c",
   "metadata": {},
   "outputs": [
    {
     "data": {
      "image/png": "[encoded data removed]",
      "text/plain": [
       "<Figure size 432x288 with 1 Axes>"
      ]
     },
     "metadata": {
      "needs_background": "light"
     },
     "output_type": "display_data"
    }
   ],
   "source": [
    "X =  np.array([5,10,15,20 ])  \n",
    "Y =  np.array ([16,23,31,50])\n",
    "\n",
    "plt.plot(X,Y)\n",
    "plt.scatter(X, Y)\n",
    "plt.grid()\n",
    "\n",
    "plt.savefig('../image/linear01.png')\n",
    "\n",
    "plt.show()"
   ]
  },
  {
   "cell_type": "code",
   "execution_count": 6,
   "id": "97057be2",
   "metadata": {},
   "outputs": [
    {
     "name": "stdout",
     "output_type": "stream",
     "text": [
      "[ 1 -2 -4  5]\n",
      "오차의 합을 구하자 : 0\n"
     ]
    }
   ],
   "source": [
    "#2-2  오차 =  실제값  - 예측값     ,  오차 f1_error  =  실제값 (y)  -   예측값 ( f1(X))  \n",
    "f1_error  = Y  - f1_x\n",
    "print(f1_error)\n",
    "print('오차의 합을 구하자 :' ,  np.sum(f1_error))"
   ]
  },
  {
   "cell_type": "markdown",
   "id": "7b04304e",
   "metadata": {},
   "source": [
    "입력변수 | 실제값 | 예측값 | 오차\n",
    "--- | ---| ---| ---\n",
    "5   |   16| 15  |1   \n",
    "10  |   23| 25  |-2   \n",
    "15  |   31| 35  |-4   \n",
    "20  |   50| 45  |5     "
   ]
  },
  {
   "cell_type": "code",
   "execution_count": 7,
   "id": "7ad53dbc",
   "metadata": {},
   "outputs": [
    {
     "data": {
      "text/plain": [
       "[<matplotlib.lines.Line2D at 0x2c536bacfa0>]"
      ]
     },
     "execution_count": 7,
     "metadata": {},
     "output_type": "execute_result"
    },
    {
     "data": {
      "image/png": "[encoded data removed]",
      "text/plain": [
       "<Figure size 432x288 with 1 Axes>"
      ]
     },
     "metadata": {
      "needs_background": "light"
     },
     "output_type": "display_data"
    }
   ],
   "source": [
    "#2-3 그래프를 그려보자.  _  예측치의 직선의 방정식\n",
    "plt.plot(X,  f1_x)"
   ]
  },
  {
   "cell_type": "code",
   "execution_count": 8,
   "id": "4e050b30",
   "metadata": {},
   "outputs": [
    {
     "data": {
      "image/png": "[encoded data removed]",
      "text/plain": [
       "<Figure size 432x288 with 1 Axes>"
      ]
     },
     "metadata": {
      "needs_background": "light"
     },
     "output_type": "display_data"
    }
   ],
   "source": [
    "#2-4  오차를 그려보자.  \n",
    "plt.plot(X,  f1_x)\n",
    "for  i in range(len(X)):\n",
    "    x=np.array([X[i], X[i]])  #온도  \n",
    "    y=np.array([f1_x[i], Y[i]])  #예측값, 실제 값  \n",
    "    plt.plot(x, y, marker= 'o')\n",
    "\n",
    "plt.grid()\n",
    "plt.show()\n"
   ]
  },
  {
   "cell_type": "code",
   "execution_count": 20,
   "id": "73aafa4c",
   "metadata": {},
   "outputs": [
    {
     "name": "stdout",
     "output_type": "stream",
     "text": [
      "[-14  -7   1  20]\n",
      "0\n"
     ]
    },
    {
     "data": {
      "image/png": "[encoded data removed]",
      "text/plain": [
       "<Figure size 432x288 with 1 Axes>"
      ]
     },
     "metadata": {
      "needs_background": "light"
     },
     "output_type": "display_data"
    }
   ],
   "source": [
    "#2-5. 새로운 직선의 방정식을  y=30으로 변경해서 직선을 그려보자.  \n",
    "f2_x = np.full((X.shape), 30)\n",
    "#f2_x\n",
    "# 오차를 구하자 \n",
    "f2_error = Y-f2_x\n",
    "print(f2_error)\n",
    "print(np.sum(Y-f2_x)) # 오차의 합을 0으로 맞춘다\n",
    "\n",
    "plt.plot(X, f1_x)\n",
    "for  i in range(len(X)):\n",
    "    x = np.array([X[i], X[i]]) #온도  \n",
    "    y = np.array([f2_x[i], Y[i]])  #예측값 , 실제값  \n",
    "    plt.plot(x, y, marker= 'o')\n",
    "    \n",
    "plt.grid()    \n",
    "\n",
    "plt.savefig('../image/linear02.png')\n",
    "\n",
    "plt.show()"
   ]
  },
  {
   "cell_type": "markdown",
   "id": "114e073e",
   "metadata": {},
   "source": [
    "### Q3)  $f_3(X) = -2X + 55$   로 주고   오차를 구해 보자."
   ]
  },
  {
   "cell_type": "code",
   "execution_count": 10,
   "id": "fd590504",
   "metadata": {},
   "outputs": [
    {
     "name": "stdout",
     "output_type": "stream",
     "text": [
      "[-29 -12   6  35]\n",
      "0\n"
     ]
    },
    {
     "data": {
      "image/png": "[encoded data removed]",
      "text/plain": [
       "<Figure size 432x288 with 1 Axes>"
      ]
     },
     "metadata": {
      "needs_background": "light"
     },
     "output_type": "display_data"
    }
   ],
   "source": [
    "f3_x   = -2*X+55     # 오차의 합은 0이지만 직선은 데이터를 잘 표현하지  못한다.\n",
    "f3_error  = Y-f3_x\n",
    "f2_error = Y-f2_x\n",
    "\n",
    "print(f3_error)\n",
    "print(np.sum(Y-f3_x))\n",
    "\n",
    "plt.plot(X, f1_x)\n",
    "for  i in range(len(X)):\n",
    "    x = np.array([X[i], X[i]]) #온도  \n",
    "    y = np.array([f3_x[i], Y[i]])  #예측값 , 실제값  \n",
    "    plt.plot(x, y, marker= 'o')\n",
    "    \n",
    "plt.grid()    \n",
    "plt.show()"
   ]
  },
  {
   "cell_type": "code",
   "execution_count": 11,
   "id": "e0beb75f",
   "metadata": {},
   "outputs": [
    {
     "data": {
      "image/png": "[encoded data removed]",
      "text/plain": [
       "<Figure size 432x288 with 1 Axes>"
      ]
     },
     "metadata": {
      "needs_background": "light"
     },
     "output_type": "display_data"
    }
   ],
   "source": [
    "#Q4) 세개의 직선을 모두 한꺼번에 그려보자. \n",
    "# 3개의 직선을 모두 한꺼번에 그려보자 . \n",
    "# 어떤 직선이 데이터의 특성을 가장 잘 표현 하는 그래프일까?를 생각 해보자.  \n",
    "plt.scatter(X,Y)\n",
    "\n",
    "plt.plot(X, f1_x)\n",
    "plt.plot(X, f2_x)\n",
    "plt.plot(X, f3_x)\n",
    "\n",
    "plt.grid()\n",
    "plt.show()"
   ]
  },
  {
   "cell_type": "markdown",
   "id": "eee103f4",
   "metadata": {},
   "source": [
    "### Q5 \n",
    "오차를 어떻게 계산하는지\n",
    "1. 정답과 예측치의 오차의 단순 합을 모두 0으로 만들면 판단이 모호하다\n",
    "2. 음수의 값으로 변환되는 것이 있기 때문에\n",
    "3. 오차의 결과를 양수로 만들기\n",
    "- 평균 제곱근 오차 RMSE\n",
    "- 평균 제곱 오차 MSE\n",
    "- 평균 절댓값 오차 MAE\n",
    "\n",
    "비용함수 : 머신러닝에서 사용"
   ]
  },
  {
   "cell_type": "markdown",
   "id": "28e5e16f",
   "metadata": {},
   "source": [
    "RMSE = Root Mean Square Error  \n",
    "        \n",
    "$$\n",
    "RMSE = \\sqrt{\\frac{1}{n}\\sum_{i=1}^{n}{(Y_i - f(X_i))^2}}\n",
    "$$  "
   ]
  },
  {
   "cell_type": "markdown",
   "id": "37f83d81",
   "metadata": {},
   "source": [
    "Cost Function\n",
    "$$\n",
    "f(X) = \\beta_1X + \\beta_0\n",
    "$$\n",
    "$$\n",
    "Cost(\\beta_0, \\beta_1) = \\sqrt{\\frac{1}{n}\\sum_{i=1}^{n}{(Y_i - f(X_i))^2}}\n",
    "$$"
   ]
  },
  {
   "cell_type": "code",
   "execution_count": 12,
   "id": "a4cd1caf",
   "metadata": {},
   "outputs": [],
   "source": [
    "def RMSE(a,b,X,y) :\n",
    "    RMSE = np.sqrt(((y-(a*X+b)) **2).mean() )\n",
    "    return RMSE"
   ]
  },
  {
   "cell_type": "code",
   "execution_count": 14,
   "id": "91ec58a5",
   "metadata": {},
   "outputs": [
    {
     "name": "stdout",
     "output_type": "stream",
     "text": [
      "3.391164991562634\n",
      "12.708265027138834\n",
      "23.695991222145572\n"
     ]
    }
   ],
   "source": [
    "#첫 번째 직선 f(x) = 2x+5\n",
    "print(RMSE(2,5,X,Y))\n",
    "\n",
    "#두 번째 직선 f(x)=30\n",
    "print(RMSE(0,30,X,Y))\n",
    "\n",
    "#세 번째 직선 f(x) = -2x+55\n",
    "print(RMSE(-2,55,X,Y))"
   ]
  },
  {
   "cell_type": "code",
   "execution_count": 16,
   "id": "d7453fd9",
   "metadata": {},
   "outputs": [],
   "source": [
    "from sklearn.metrics import mean_squared_error, r2_score\n",
    "def rmse(a,b,X,y) :\n",
    "    RMSE = np.sqrt(((y-(a*X+b)) **2).mean() )\n",
    "    print('rmse',rmse)\n",
    "    return rmse"
   ]
  },
  {
   "cell_type": "code",
   "execution_count": 15,
   "id": "364c06ab",
   "metadata": {},
   "outputs": [
    {
     "name": "stdout",
     "output_type": "stream",
     "text": [
      "Coefficients: \n",
      " [938.23786125]\n",
      "Mean squared error: 2548.07\n",
      "Coefficient of determination: 0.47\n"
     ]
    },
    {
     "data": {
      "image/png": "[encoded data removed]",
      "text/plain": [
       "<Figure size 432x288 with 1 Axes>"
      ]
     },
     "metadata": {},
     "output_type": "display_data"
    }
   ],
   "source": [
    "# Code source: Jaques Grobler\n",
    "# License: BSD 3 clause\n",
    "\n",
    "import matplotlib.pyplot as plt\n",
    "import numpy as np\n",
    "from sklearn import datasets, linear_model\n",
    "from sklearn.metrics import mean_squared_error, r2_score\n",
    "\n",
    "# Load the diabetes dataset\n",
    "diabetes_X, diabetes_y = datasets.load_diabetes(return_X_y=True)\n",
    "\n",
    "# Use only one feature\n",
    "diabetes_X = diabetes_X[:, np.newaxis, 2]\n",
    "\n",
    "# Split the data into training/testing sets\n",
    "diabetes_X_train = diabetes_X[:-20]\n",
    "diabetes_X_test = diabetes_X[-20:]\n",
    "\n",
    "# Split the targets into training/testing sets\n",
    "diabetes_y_train = diabetes_y[:-20]\n",
    "diabetes_y_test = diabetes_y[-20:]\n",
    "\n",
    "# Create linear regression object\n",
    "regr = linear_model.LinearRegression()\n",
    "\n",
    "# Train the model using the training sets\n",
    "regr.fit(diabetes_X_train, diabetes_y_train)\n",
    "\n",
    "# Make predictions using the testing set\n",
    "diabetes_y_pred = regr.predict(diabetes_X_test)\n",
    "\n",
    "# The coefficients\n",
    "print(\"Coefficients: \\n\", regr.coef_)\n",
    "# The mean squared error\n",
    "print(\"Mean squared error: %.2f\" % mean_squared_error(diabetes_y_test, diabetes_y_pred))\n",
    "# The coefficient of determination: 1 is perfect prediction\n",
    "print(\"Coefficient of determination: %.2f\" % r2_score(diabetes_y_test, diabetes_y_pred))\n",
    "\n",
    "# Plot outputs\n",
    "plt.scatter(diabetes_X_test, diabetes_y_test, color=\"black\")\n",
    "plt.plot(diabetes_X_test, diabetes_y_pred, color=\"blue\", linewidth=3)\n",
    "\n",
    "plt.xticks(())\n",
    "plt.yticks(())\n",
    "\n",
    "plt.show()"
   ]
  },
  {
   "cell_type": "markdown",
   "id": "bc751e17",
   "metadata": {},
   "source": [
    "MSE ( Mean Squared Error ) = 오차 제곱 평균 = 연속형변수값을 예측할 때 사용 : 다중분류시 사용\n",
    "MAE (Mean Absolute Error, 평균 절대 오차)\n",
    "$$\n",
    "MAE(\\hat{y}) := \\frac{1}{N}\\sum_{i=1}^{N} \\left| y_i - \\hat{y}{i} \\right|\n",
    "$$\n",
    "\\begin{align}\n",
    "MSE(\\hat{y}{\\theta_1}) &> MSE(\\hat{y}{\\theta_2}) \\\n",
    "\\Leftrightarrow ~~ RMSE(\\hat{y}{\\theta_1}) &> RMSE(\\hat{y}{\\theta_2}) \\\n",
    "\\Leftrightarrow ~~ \\hspace{1.5em} {R^{2}}(\\hat{y}{\\theta_1}) &< {R^{2}}(\\hat{y}_{\\theta_2})\n",
    "\\end{align}\n",
    "-결정계수(R2) : Y의 총 변동량 중에서 X에 의해서 설명된 량으로 '표본에 대한 회귀모형의 설명'을 말한다.\n",
    "- 값이 클수록(1에 가까울수록) 모형이 적합하다고 평가할수 있다.\n",
    "- 즉 , 단순히 Y의 평균값을 사용했을 때 대비 X 정보를 사용함으로써 얻는 성능 향상을 갖는다.\n",
    "- X 변수가 Y 변수의 분산을 얼마나 줄였는가에 대한 정도를 확인 할 때 사용한다.\n",
    "\n",
    "- R2 = 1 -> 모든 측정값들이 회귀직선에 있을 경우\n",
    "- R2 = 0 -> X,Y의 관계를 알 수 없다"
   ]
  },
  {
   "cell_type": "code",
   "execution_count": null,
   "id": "2c618be2",
   "metadata": {},
   "outputs": [],
   "source": []
  }
 ],
 "metadata": {
  "kernelspec": {
   "display_name": "Python 3 (ipykernel)",
   "language": "python",
   "name": "python3"
  },
  "language_info": {
   "codemirror_mode": {
    "name": "ipython",
    "version": 3
   },
   "file_extension": ".py",
   "mimetype": "text/x-python",
   "name": "python",
   "nbconvert_exporter": "python",
   "pygments_lexer": "ipython3",
   "version": "3.9.12"
  }
 },
 "nbformat": 4,
 "nbformat_minor": 5
}
