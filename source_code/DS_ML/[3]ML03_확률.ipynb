{
 "cells": [
  {
   "cell_type": "markdown",
   "metadata": {},
   "source": [
    "# 추측통계의 기본\n",
    "\n",
    "- 추측 통계: 일부 데이터로부터 전체의 통계적 성질을 추측\n"
   ]
  },
  {
   "cell_type": "markdown",
   "metadata": {
    "ExecuteTime": {
     "end_time": "2018-03-06T03:37:40.696920Z",
     "start_time": "2018-03-06T03:37:40.690655Z"
    }
   },
   "source": [
    "## 모집단과 표본\n",
    "\n",
    "\n",
    "- 모집단(population) \n",
    "    - 조사 대상이 되는 관측 가능한 개체로 된 집단 전체\n",
    "    \n",
    "    \n",
    "- 표본(sample)\n",
    "    - 모집단에서 선택된 모집단 구성단위의 일부\n"
   ]
  },
  {
   "cell_type": "markdown",
   "metadata": {},
   "source": [
    "**전수조사와 표본조사**\n",
    "- 전수조사\n",
    "    - 모집단 전체를 조사\n",
    "- 표본조사\n",
    "    - 모집단의 일부를 조사\n",
    "\n",
    "- 모수와 통계량\n",
    "    - 모수(parameter)\n",
    "        - 모집단의 특성을 나타내는 수치\n",
    "    - (표본)통계량(sample statistic)\n",
    "        - 표본의 특성을 나타내는 수치\n"
   ]
  },
  {
   "cell_type": "markdown",
   "metadata": {},
   "source": [
    "### 표본의 추출방법\n",
    "\n",
    "- 무작위 추출(임의 추출): 임의로 표본을 추출하는 방법\n",
    "- 복원추출: 여러 차례 동일한 표본을 선택하는 방법\n",
    "- 비복원추출: 동일한 표본은 한 번만 선택하는 방법"
   ]
  },
  {
   "cell_type": "markdown",
   "metadata": {},
   "source": [
    "## 확률 모델"
   ]
  },
  {
   "cell_type": "markdown",
   "metadata": {},
   "source": [
    "### 확률의 기본\n",
    "\n",
    "- 확률(probability)\n",
    "    - 어떤 사건(event)이 일어날 가능성\n",
    "    - 예. \n",
    "        - 동전 던지기에서 앞면이 나올 가능성\n",
    "        - 주사위 던지기에서 특정 눈금이 나올 확률\n",
    "        - 주식투자에서 이득을 볼 가능성\n",
    "        \n",
    "        \n",
    "\n",
    "- 의사결정\n",
    "    - 확실성(certainty) 보다는 불확실한 상황에서 이루어지는 경우가 많음\n",
    "    - 미래에 대한 불확실성의 정도가 더욱 심하다고 할 수 있음 \n",
    "    - 불확실성 하에서 의사결정의 오류를 줄이기 위해 확률에 대한 연구 필요\n"
   ]
  },
  {
   "cell_type": "markdown",
   "metadata": {},
   "source": [
    "### 확률변수 : 취하는 값과 그 값이 나올 확률이 결정되어 있는 것\n",
    "    - 일정한 확률로 나타나는(발생하는) 사건에 대해 숫자를 부여한 변수\n",
    "    - ex. 주사위를 굴리면 1-6사이의 숫자가 약 1/6 확률로 발생\n",
    "\n",
    "- 시행\n",
    "    - 확률 변수의 결과를 관측하는 것\n",
    "    - 주사위를 굴리면 어떤 숫자가 나올지 모르지만 숫자는 하나씩 확정\n",
    "- 실현값\n",
    "    - 시행에 의해 관측되는 값\n",
    "    - 주사위를 굴려서 나온 값\n",
    "- 사건\n",
    "    - 시행 결과로 나타날 수 있는 일\n",
    "    - 눈은 1 또는 눈은 홀수 등\n",
    "    - 주사위의 눈은 확률 변수 X\n",
    "        - 눈이 1이 되는 사건의 확률 P(x=1)=1/6\n",
    "        - 눈이 홀수인 사건의 확률 P((X=1)U(X=3)U(X=5) = 1/6+1/6+1/6 = 1/2\n",
    "\n",
    "    - 근원사건\n",
    "        - 세부적으로 더 분해할 수 없는 사건\n",
    "        \n",
    "        \n",
    "- 상호배반 : 동시에 일어날 수 없는 사건\n",
    "    - 동전을 던져 앞면이 나왔을때 동시에 뒷변이 나오는 사건\n"
   ]
  },
  {
   "cell_type": "markdown",
   "metadata": {
    "ExecuteTime": {
     "end_time": "2018-03-06T10:06:25.135659Z",
     "start_time": "2018-03-06T10:06:25.129307Z"
    }
   },
   "source": [
    "## 확률분포\n",
    "\n",
    "- 확률변수가 어떻게 움직이는지를 나타낸 것\n",
    "\n",
    "![](확률분포.png)\n",
    "![](확률분포2.png)"
   ]
  },
  {
   "cell_type": "markdown",
   "metadata": {},
   "source": [
    "- np.random.choice(a, size=None, replace=True, p=None)\n",
    "\n",
    "    - a : 배열이면 배열 자체, 정수이면 arange(a)명령으로 배열 생성\n",
    "    - size : 정수, 샘플 숫자\n",
    "    - replace : boolean. True이면 복원추출, False면 비복원추출\n",
    "    - p : 배열, 각 데이터가 선택될 수 있는 확률"
   ]
  },
  {
   "cell_type": "code",
   "execution_count": 102,
   "metadata": {},
   "outputs": [],
   "source": [
    "import numpy as np\n",
    "import pandas as pd\n",
    "import matplotlib.pyplot as plt\n",
    "\n",
    "%precision 3\n",
    "%matplotlib inline\n",
    "\n"
   ]
  },
  {
   "cell_type": "code",
   "execution_count": 103,
   "metadata": {},
   "outputs": [],
   "source": [
    "from IPython.core.interactiveshell import InteractiveShell\n",
    "InteractiveShell.ast_node_interactivity=\"all\""
   ]
  },
  {
   "cell_type": "code",
   "execution_count": 104,
   "metadata": {},
   "outputs": [
    {
     "name": "stdout",
     "output_type": "stream",
     "text": [
      "1 번째는 1\n",
      "2 번째는 2\n",
      "3 번째는 1\n",
      "4 번째는 5\n",
      "5 번째는 5\n",
      "6 번째는 1\n",
      "7 번째는 2\n",
      "8 번째는 5\n",
      "9 번째는 6\n",
      "10 번째는 6\n"
     ]
    }
   ],
   "source": [
    "#1. 주사위를 10번 던져서 눈을 출력해보자\n",
    "import random\n",
    "\n",
    "dice=[1,2,3,4,5,6]\n",
    "for i in range(1,11):\n",
    "    print(i, '번째는', random.choice(dice))"
   ]
  },
  {
   "cell_type": "code",
   "execution_count": 105,
   "metadata": {},
   "outputs": [
    {
     "name": "stdout",
     "output_type": "stream",
     "text": [
      "3이 나올 확률 1\n"
     ]
    }
   ],
   "source": [
    "#2. 주사위를 10번 던져서 눈이 3이 나오는 횟수 출력\n",
    "dice=[1,2,3,4,5,6]\n",
    "\n",
    "cnt = 0\n",
    "for i in range(1,11):    \n",
    "    res = random.choice(dice)    \n",
    "    if(res==3):\n",
    "        cnt+=1\n",
    "print('3이 나올 확률',cnt)"
   ]
  },
  {
   "cell_type": "code",
   "execution_count": 106,
   "metadata": {},
   "outputs": [
    {
     "name": "stdout",
     "output_type": "stream",
     "text": [
      "5가 나올 확률 : 0.162\n",
      "1/6 확률 : 0.16666666666666666\n"
     ]
    }
   ],
   "source": [
    "#3. 주사위를 1000번 던져서 눈이 5이 나오는 횟수 출력\n",
    "dice=[1,2,3,4,5,6]\n",
    "\n",
    "cnt = 0\n",
    "for i in range(1,1001):    \n",
    "    res = random.choice(dice)\n",
    "    if(res==5):\n",
    "        cnt+=1\n",
    "print('5가 나올 확률 :',cnt/1000)\n",
    "print('1/6 확률 :',1/6)"
   ]
  },
  {
   "cell_type": "code",
   "execution_count": 107,
   "metadata": {},
   "outputs": [
    {
     "name": "stdout",
     "output_type": "stream",
     "text": [
      "짝수가 나올 확률 0.485\n"
     ]
    }
   ],
   "source": [
    "#4. 주사위를 1000번 던졌을 때 짝수\n",
    "dice=[1,2,3,4,5,6]\n",
    "\n",
    "cnt = 0\n",
    "for i in range(1,1001):    \n",
    "    res = random.choice(dice)\n",
    "    if(res%2==0):\n",
    "        cnt+=1\n",
    "print('짝수가 나올 확률',cnt/1000)"
   ]
  },
  {
   "cell_type": "code",
   "execution_count": 108,
   "metadata": {},
   "outputs": [
    {
     "name": "stdout",
     "output_type": "stream",
     "text": [
      "짝수가 나올 확률 0.496\n",
      "짝수가 나올 확률 0.485\n",
      "짝수가 나올 확률 0.507\n",
      "짝수가 나올 확률 0.524\n",
      "짝수가 나올 확률 0.502\n"
     ]
    }
   ],
   "source": [
    "#4. 주사위를 1000번 던졌을 때 짝수 5번 반복\n",
    "dice=[1,2,3,4,5,6]\n",
    "\n",
    "for k in range(1,6):\n",
    "    cnt = 0\n",
    "    for i in range(1,1001):    \n",
    "        res = random.choice(dice)\n",
    "        if(res%2==0):\n",
    "            cnt+=1\n",
    "    print('짝수가 나올 확률',cnt/1000)"
   ]
  },
  {
   "cell_type": "code",
   "execution_count": 109,
   "metadata": {},
   "outputs": [
    {
     "name": "stdout",
     "output_type": "stream",
     "text": [
      "120.337\n",
      "74.521431\n",
      "8.632579626044581\n"
     ]
    }
   ],
   "source": [
    "#6. 한개 주사위를 360번 던져서 3의 배수의 눈이 나오는 횟수를 출력하는것을 1000번 반복\n",
    "# 1000개를 X 변수에 대입해서 X의 평균, 분산, 표준편차를 구하시오 np.mean(), np.var() np.std()\n",
    "import numpy as np\n",
    "\n",
    "dice=[1,2,3,4,5,6]\n",
    "X=[]\n",
    "for k in range(1,1001):\n",
    "    cnt = 0\n",
    "    for i in range(1,361):    \n",
    "        res = random.choice(dice)\n",
    "        if(res%3==0):\n",
    "            cnt+=1\n",
    "    X.append(cnt)\n",
    "    \n",
    "print(np.mean(X))\n",
    "print(np.var(X))\n",
    "print(np.std(X))    "
   ]
  },
  {
   "cell_type": "code",
   "execution_count": 110,
   "metadata": {},
   "outputs": [
    {
     "name": "stdout",
     "output_type": "stream",
     "text": [
      "1000\n"
     ]
    }
   ],
   "source": [
    "# 주사위 2개를 동시에 던져서 \n",
    "# 두 개의 주사위의 합을 구하는 실행문을 1000번 반복\n",
    "# 1000개를 a변수 리스트 객체에 대입\n",
    "dice=[1,2,3,4,5,6]\n",
    "dice2=[1,2,3,4,5,6]\n",
    "\n",
    "a=[]\n",
    "cnt=0\n",
    "while(cnt<1000):\n",
    "    result1 = random.choice(dice)\n",
    "    result2 = random.choice(dice2)\n",
    "    a.append(result1+result2)\n",
    "    cnt+=1\n",
    "print(len(a))"
   ]
  },
  {
   "cell_type": "code",
   "execution_count": 111,
   "metadata": {},
   "outputs": [
    {
     "name": "stdout",
     "output_type": "stream",
     "text": [
      "0.095\n",
      "1000\n"
     ]
    }
   ],
   "source": [
    "#8. 7번에 문제에서 두 개의 주사위의 눈의 합이 10이 되는 확률을 구하시오\n",
    "dice=[1,2,3,4,5,6]\n",
    "dice2=[1,2,3,4,5,6]\n",
    "\n",
    "x=[]\n",
    "cnt=0\n",
    "while(cnt<1000):\n",
    "    result1 = random.choice(dice)\n",
    "    result2 = random.choice(dice2)\n",
    "    if(result1+result2==10):\n",
    "        x.append(result1+result2)\n",
    "    cnt+=1\n",
    "print(len(x)/1000)\n",
    "print(cnt)"
   ]
  },
  {
   "cell_type": "code",
   "execution_count": 112,
   "metadata": {},
   "outputs": [
    {
     "name": "stdout",
     "output_type": "stream",
     "text": [
      "0.3263888888888889\n",
      "288\n"
     ]
    }
   ],
   "source": [
    "#9. 주사위 한개를 288회 던져서 주사위의 눈이 5이상 나오는 횟수를 출력하자 (정규분포)\n",
    "dice=[1,2,3,4,5,6]\n",
    "\n",
    "x1=[]\n",
    "cnt=0\n",
    "while(cnt<288):\n",
    "    result1 = random.choice(dice)\n",
    "    if(result1>=5):\n",
    "        x1.append(result1)\n",
    "    cnt+=1\n",
    "print(len(x1)/288)\n",
    "print(cnt)"
   ]
  },
  {
   "cell_type": "code",
   "execution_count": 113,
   "metadata": {},
   "outputs": [
    {
     "name": "stdout",
     "output_type": "stream",
     "text": [
      "288\n"
     ]
    }
   ],
   "source": [
    "#9. 주사위 한개를 288회 던져서 주사위의 눈이 5이상 나오는 횟수를 출력하자 (정규분포)\n",
    "# 위의 작업을 100번 하기\n",
    "\n",
    "dice=[1,2,3,4,5,6]\n",
    "\n",
    "for i in range(1,101):\n",
    "    cnt=0\n",
    "    while(cnt<288):\n",
    "        result1 = random.choice(dice)\n",
    "        if(result1>=5):\n",
    "            cnt+=1\n",
    "print(cnt)"
   ]
  },
  {
   "cell_type": "code",
   "execution_count": 114,
   "metadata": {},
   "outputs": [
    {
     "name": "stdout",
     "output_type": "stream",
     "text": [
      "[8, 8, 9, 11, 12, 5, 14, 13, 3, 8, 9, 10, 13, 12, 6, 7, 10, 5, 10, 8, 9, 11, 8, 10, 10, 3, 4, 10, 5, 9, 7, 8, 10, 7, 3, 12, 7, 12, 4, 10, 7, 9, 8, 6, 14, 10, 6, 11, 8, 11] 50\n",
      "평균     :  8.6\n",
      "분산     :  7.92\n",
      "표준편차 :  2.814249455894058\n",
      "11\t12\t14\t13\t13\t12\t11\t12\t12\t14\t11\t11\t"
     ]
    }
   ],
   "source": [
    "#11. 동전 한 개와 주사위 한 개를 동시에 100번 던져서 동전이 앞면이 나오고 주사위의 눈이 5가 나오는 횟수를 \n",
    "# 출력하는 그 작업을 50번 해서 횟수가 50개가 출력되게\n",
    "# [조건 2] 50번 횟수를 list객체인 변수 a에 저장 후 출력한다. 길이도 구하시오\n",
    "# [조건 3] 조건 2의 값의 평균을 구해라\n",
    "# [조건 4] 위의 리스트 객체의 값을 하나씩 리턴받기(특정 값만)\n",
    "import random\n",
    "coin = ['앞면','뒷면']\n",
    "dice = [1,2,3,4,5,6]\n",
    "\n",
    "a=[] # 조건2\n",
    "\n",
    "for j in range(1,51):\n",
    "    cnt=0\n",
    "    for i in range(1,101):\n",
    "        result_dice = random.choice(dice)\n",
    "        result_coin = random.choice(coin)\n",
    "        if result_coin == '앞면' and result_dice==5:\n",
    "            cnt+=1\n",
    "    a.append(cnt)\n",
    "print(a, len(a))\n",
    "print('평균     : ',np.mean(a))\n",
    "print('분산     : ',np.var(a))\n",
    "print('표준편차 : ',np.std(a))\n",
    "\n",
    "for res in a:\n",
    "    if res > 10 and res < 20:\n",
    "        print(res,end='\\t')"
   ]
  },
  {
   "cell_type": "code",
   "execution_count": 115,
   "metadata": {},
   "outputs": [
    {
     "name": "stdout",
     "output_type": "stream",
     "text": [
      "평균     :  136.66\n",
      "분산     :  23.782399999999985\n",
      "표준편차 :  4.876720209321013\n"
     ]
    }
   ],
   "source": [
    "#12 . 초등학생 키 10개가 들어있는 tall이스트의 요소 10개를 \n",
    "# 10000개로 증가시켜서 talll10000 리스트에 담고 출력\n",
    "\n",
    "tall = [129.3, 130.2, 132.5, 134.7, 136.3, 137.8, 138.1, 140.2, 142.3, 145.2]\n",
    "tall10000 = tall*10000\n",
    "# 12-1 위 모집단의 평균, 분산, 표준편차를 구해보자\n",
    "print('평균     : ',np.mean(tall10000))\n",
    "print('분산     : ',np.var(tall10000))\n",
    "print('표준편차 : ',np.std(tall10000))"
   ]
  },
  {
   "cell_type": "code",
   "execution_count": 116,
   "metadata": {},
   "outputs": [
    {
     "name": "stdout",
     "output_type": "stream",
     "text": [
      "[138.1, 142.3, 130.2, 130.2, 134.7, 134.7, 137.8, 140.2, 138.1, 134.7, 140.2, 142.3, 130.2, 130.2, 134.7, 129.3, 142.3, 138.1, 140.2, 140.2]\n"
     ]
    }
   ],
   "source": [
    "# 12-2 위의 모집단에서 랜덤으로 표본 20개 추출해서 리스트로 담기\n",
    "list_tall=[]\n",
    "for i in range(1,21):\n",
    "    list_tall.append(random.choice(tall10000))\n",
    "print(list_tall)"
   ]
  },
  {
   "cell_type": "code",
   "execution_count": 121,
   "metadata": {},
   "outputs": [
    {
     "data": {
      "text/plain": [
       "0.001"
      ]
     },
     "execution_count": 121,
     "metadata": {},
     "output_type": "execute_result"
    },
    {
     "data": {
      "text/plain": [
       "1.000"
      ]
     },
     "execution_count": 121,
     "metadata": {},
     "output_type": "execute_result"
    },
    {
     "data": {
      "text/plain": [
       "array([-0.312,  0.812, -1.713, ...,  1.684, -0.8  , -0.122])"
      ]
     },
     "execution_count": 121,
     "metadata": {},
     "output_type": "execute_result"
    },
    {
     "data": {
      "text/plain": [
       "1000000"
      ]
     },
     "execution_count": 121,
     "metadata": {},
     "output_type": "execute_result"
    }
   ],
   "source": [
    "# 13 모평균이 30 이고, 모표준편차가 7인 모집단을 구성해보자\n",
    "# 가우시안 정규분포로 나타내기\n",
    "avg=np.mean(np.random.randn(N))\n",
    "std=np.std(np.random.randn(N))\n",
    "N=1000000\n",
    "avg\n",
    "std\n",
    "mogipdan = np.random.randn(N) * std + avg # 가우시안 정규분포에 준하는 숫자들이 난수들 숫자만큼 생성된다\n",
    "mogipdan\n",
    "len(mogipdan)"
   ]
  },
  {
   "cell_type": "code",
   "execution_count": 128,
   "metadata": {},
   "outputs": [
    {
     "data": {
      "text/plain": [
       "array([16.056, 33.045, 38.353, 39.201, 33.281, 25.631, 24.378, 26.209,\n",
       "       34.805, 37.37 , 21.694, 26.642, 32.721, 25.912, 32.257, 31.357,\n",
       "       37.193, 37.283, 38.665, 27.286, 33.497, 18.304, 29.365, 21.605,\n",
       "       33.762, 30.507, 16.909, 26.548, 23.087, 23.039, 34.356, 33.25 ,\n",
       "       34.065, 38.407, 36.073, 30.561, 22.763, 37.52 , 37.742, 22.183,\n",
       "       24.758, 17.461, 32.62 , 34.937, 42.8  , 35.272, 24.682, 15.886,\n",
       "       34.554])"
      ]
     },
     "execution_count": 128,
     "metadata": {},
     "output_type": "execute_result"
    },
    {
     "name": "stdout",
     "output_type": "stream",
     "text": [
      "표본평균 :  29.915446302809297\n"
     ]
    }
   ],
   "source": [
    "# 14 3 모평균이 30 이고, 모표준편차가 7인 모집단에서 표본 49개 추출\n",
    "# 표본의 평균\n",
    "avg=30\n",
    "std=7\n",
    "N=1000000\n",
    "\n",
    "mogipdan = np.random.randn(N) * std + avg \n",
    "표본=np.random.choice(mogipdan,49) #표본 49개\n",
    "표본\n",
    "print('표본평균 : ',np.mean(표본))"
   ]
  },
  {
   "cell_type": "code",
   "execution_count": 139,
   "metadata": {},
   "outputs": [
    {
     "data": {
      "text/plain": [
       "10000"
      ]
     },
     "execution_count": 139,
     "metadata": {},
     "output_type": "execute_result"
    },
    {
     "data": {
      "text/plain": [
       "148.522"
      ]
     },
     "execution_count": 139,
     "metadata": {},
     "output_type": "execute_result"
    }
   ],
   "source": [
    "# 15 . 서울시 초등학생 백만명의 키를 모집단으로 구성\n",
    "# [조건 1] 평균 키가 148.5이고 표준편차가 30인 모집단\n",
    "# [조건 2] 모집단에서 100명 표본으로 추출하고 100명의 평균키를 리스트 a에 입력하는 작업을 10000번 수행\n",
    "# [조건 3] a 객체에 10000개의 표본의 평균키가 대입되도록 하자\n",
    "avg=148.5\n",
    "std=30\n",
    "N=1000000\n",
    "a=[]\n",
    "mogipdan = np.random.randn(N) * std + avg \n",
    "for i in range(1,10001):\n",
    "    표본=np.random.choice(mogipdan,100) #표본 49개\n",
    "    a.append(np.mean(표본))\n",
    "len(a)\n",
    "a=np.mean(a)\n",
    "a"
   ]
  },
  {
   "cell_type": "code",
   "execution_count": 149,
   "metadata": {},
   "outputs": [
    {
     "name": "stdout",
     "output_type": "stream",
     "text": [
      "[2.462e-03 2.465e-03 2.467e-03 ... 6.655e-05 6.646e-05 6.638e-05]\n"
     ]
    },
    {
     "data": {
      "text/plain": [
       "[<matplotlib.lines.Line2D at 0x1a7a0f21190>]"
      ]
     },
     "execution_count": 149,
     "metadata": {},
     "output_type": "execute_result"
    },
    {
     "data": {
      "text/plain": [
       "<matplotlib.collections.PolyCollection at 0x1a7a0f21520>"
      ]
     },
     "execution_count": 149,
     "metadata": {},
     "output_type": "execute_result"
    },
    {
     "data": {
      "image/png": "[encoded data removed]",
      "text/plain": [
       "<Figure size 432x288 with 1 Axes>"
      ]
     },
     "metadata": {
      "needs_background": "light"
     },
     "output_type": "display_data"
    }
   ],
   "source": [
    "# 15 풀이\n",
    "import numpy as np\n",
    "from scipy.stats import norm\n",
    "avg=148.5\n",
    "std=30\n",
    "N=1000000\n",
    "mogipdan = np.random.randn(N) * std + avg \n",
    "a=[]\n",
    "\n",
    "for i in range(1,10001):\n",
    "    result=np.random.choice(mogipdan,100).mean() #표본 49개\n",
    "    a.append(result)\n",
    "\n",
    "x = np.arange(140, 160, 0.001) #140~ 160까지 0.001간격으로 숫자를 생성\n",
    "y = norm.pdf( x, np.mean(a), np.std(a))\n",
    "#  초등학생 키의 표본평균값들에 대한 확률 밀도 함수값이 출력\n",
    "\n",
    "print(y)\n",
    "plt.plot(x,y,color='blue')\n",
    "plt.fill_between(x,y,interpolate=True, color=\"skyblue\", alpha=0.7)\n",
    "plt.show()"
   ]
  },
  {
   "cell_type": "code",
   "execution_count": null,
   "metadata": {},
   "outputs": [],
   "source": []
  }
 ],
 "metadata": {
  "kernelspec": {
   "display_name": "Python 3 (ipykernel)",
   "language": "python",
   "name": "python3"
  },
  "language_info": {
   "codemirror_mode": {
    "name": "ipython",
    "version": 3
   },
   "file_extension": ".py",
   "mimetype": "text/x-python",
   "name": "python",
   "nbconvert_exporter": "python",
   "pygments_lexer": "ipython3",
   "version": "3.9.12"
  },
  "toc": {
   "nav_menu": {},
   "number_sections": true,
   "sideBar": true,
   "skip_h1_title": false,
   "toc_cell": false,
   "toc_position": {},
   "toc_section_display": "block",
   "toc_window_display": false
  }
 },
 "nbformat": 4,
 "nbformat_minor": 2
}
