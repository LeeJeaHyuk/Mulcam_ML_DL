{
 "cells": [
  {
   "cell_type": "markdown",
   "id": "9a464bf7",
   "metadata": {},
   "source": [
    "### 정규화 선형회귀\n",
    "- 선형회귀 계수(가중치)에 대한 제약조건을 추가함으로 모델이 과적합하는 것을 막는 것\n",
    "- 과적합되면 모델의 가중치가 증가하므로 가중치를 제한한다\n",
    "- 과대적합 high variance ( 예측합들이 전반적어로 서로 흩어져 있으면 결과의 분산이 높다\n",
    "- 과소적합 high bias (예측합들이 타겟값과 전반적으로 멀리 떨어져 있으면 편향이 높다\n",
    "\n",
    "- trade off : \n",
    "    - 편향과 분산이 한쪽이 증가하면 다른쪽이 감소\n",
    "    - 한쪽이 증가할때 다른 한쪽도 증가\n",
    "    - 모델학습을 할 때 모델이 정교(복잡)해지면 편향이 감소해서 전체 오차가 줄어든다\n",
    "    - 어느 시점부터는 모델이 계속 학습을 하면서 점점 복잡해지는 순간이 오면 분산이 커지면서 모델의 전체 오차가 증가한다\n",
    "    - 정규화는 분산을 낮추어 과적합을 막는 방법이고, trade off 는 관계로 인해서 분산을 낮추는 대신 편향을 높아지는 것을 말한다\n",
    "    \n",
    "정리  \n",
    "과적합-> trade off 확인-> 정규화(분산 낮추기)   "
   ]
  },
  {
   "cell_type": "markdown",
   "id": "63593fdc",
   "metadata": {},
   "source": [
    "### Ridge : 선형 회귀의 비용함수에 가중치들의 제곱합을 최소화 하는 제약조건을 추가"
   ]
  },
  {
   "cell_type": "markdown",
   "id": "013f516b",
   "metadata": {},
   "source": [
    "데이터 로드 -> 모델생성과 학습 -> 모델 예측 및 평가\n",
    "\n",
    "exam) 보스턴 집값을 예측하는 연습용 데이터를 선형회귀 실습해보자"
   ]
  },
  {
   "cell_type": "code",
   "execution_count": 7,
   "id": "23f9f831",
   "metadata": {},
   "outputs": [
    {
     "name": "stderr",
     "output_type": "stream",
     "text": [
      "C:\\Anaconda3\\lib\\site-packages\\sklearn\\utils\\deprecation.py:87: FutureWarning: Function load_boston is deprecated; `load_boston` is deprecated in 1.0 and will be removed in 1.2.\n",
      "\n",
      "    The Boston housing prices dataset has an ethical problem. You can refer to\n",
      "    the documentation of this function for further details.\n",
      "\n",
      "    The scikit-learn maintainers therefore strongly discourage the use of this\n",
      "    dataset unless the purpose of the code is to study and educate about\n",
      "    ethical issues in data science and machine learning.\n",
      "\n",
      "    In this special case, you can fetch the dataset from the original\n",
      "    source::\n",
      "\n",
      "        import pandas as pd\n",
      "        import numpy as np\n",
      "\n",
      "\n",
      "        data_url = \"http://lib.stat.cmu.edu/datasets/boston\"\n",
      "        raw_df = pd.read_csv(data_url, sep=\"\\s+\", skiprows=22, header=None)\n",
      "        data = np.hstack([raw_df.values[::2, :], raw_df.values[1::2, :2]])\n",
      "        target = raw_df.values[1::2, 2]\n",
      "\n",
      "    Alternative datasets include the California housing dataset (i.e.\n",
      "    :func:`~sklearn.datasets.fetch_california_housing`) and the Ames housing\n",
      "    dataset. You can load the datasets as follows::\n",
      "\n",
      "        from sklearn.datasets import fetch_california_housing\n",
      "        housing = fetch_california_housing()\n",
      "\n",
      "    for the California housing dataset and::\n",
      "\n",
      "        from sklearn.datasets import fetch_openml\n",
      "        housing = fetch_openml(name=\"house_prices\", as_frame=True)\n",
      "\n",
      "    for the Ames housing dataset.\n",
      "    \n",
      "  warnings.warn(msg, category=FutureWarning)\n"
     ]
    }
   ],
   "source": [
    "#q1) 데이터 로드\n",
    "from sklearn.datasets import load_boston\n",
    "from sklearn.model_selection import train_test_split\n",
    "data = load_boston()\n",
    "X_train, X_test, y_train, y_test = train_test_split(data.data, data.target, random_state=42)"
   ]
  },
  {
   "cell_type": "code",
   "execution_count": 12,
   "id": "0a5a26f3",
   "metadata": {},
   "outputs": [
    {
     "data": {
      "text/plain": [
       "Ridge()"
      ]
     },
     "execution_count": 12,
     "metadata": {},
     "output_type": "execute_result"
    }
   ],
   "source": [
    "#q2) 모델생성과 학습\n",
    "from sklearn.linear_model import Ridge\n",
    "# 하이퍼파라미터가 없다 OLS 방식이다\n",
    "# 선형 회귀 모델 -> Ridge, Lasso -> 경사하강법으로 최적화  -> 학습율에 하이퍼파라미터 옵셥이 있다\n",
    "\n",
    "model = Ridge(alpha=1.0) # 모델 생성\n",
    "model.fit(X_train, y_train)"
   ]
  },
  {
   "cell_type": "code",
   "execution_count": 13,
   "id": "68e84d74",
   "metadata": {},
   "outputs": [
    {
     "name": "stdout",
     "output_type": "stream",
     "text": [
      "정확도 :  0.6789748327846078\n"
     ]
    }
   ],
   "source": [
    "#q3) 모델 예측 및 평가\n",
    "score = model.score(X_test, y_test)\n",
    "print(\"정확도 : \", score)"
   ]
  },
  {
   "cell_type": "code",
   "execution_count": 14,
   "id": "3d7f0bcd",
   "metadata": {},
   "outputs": [
    {
     "name": "stdout",
     "output_type": "stream",
     "text": [
      "weight : \n",
      " [-0.12383039  0.03139178  0.01767668  2.54277179 -8.77249222  4.37980204\n",
      " -0.01537349 -1.29086084  0.24406848 -0.01082435 -0.83346553  0.01348642\n",
      " -0.53435396]\n",
      "bias : \n",
      " 24.87837047296951\n"
     ]
    }
   ],
   "source": [
    "#q4) 선형회귀모델은 계수, 절편을 모델의 속성으로 가진다 \n",
    "# 계수는 feature에 대한 weight 이다 -> feature가 예측에 중요한 역할을 하게 된다.\n",
    "coefficient = model.coef_\n",
    "intercept = model.intercept_\n",
    "print(\"weight : \\n\", coefficient)\n",
    "print(\"bias : \\n\", intercept)"
   ]
  },
  {
   "cell_type": "code",
   "execution_count": null,
   "id": "41ba42fb",
   "metadata": {},
   "outputs": [],
   "source": []
  },
  {
   "cell_type": "code",
   "execution_count": null,
   "id": "f68b0850",
   "metadata": {},
   "outputs": [],
   "source": []
  }
 ],
 "metadata": {
  "kernelspec": {
   "display_name": "Python 3 (ipykernel)",
   "language": "python",
   "name": "python3"
  },
  "language_info": {
   "codemirror_mode": {
    "name": "ipython",
    "version": 3
   },
   "file_extension": ".py",
   "mimetype": "text/x-python",
   "name": "python",
   "nbconvert_exporter": "python",
   "pygments_lexer": "ipython3",
   "version": "3.9.12"
  }
 },
 "nbformat": 4,
 "nbformat_minor": 5
}
