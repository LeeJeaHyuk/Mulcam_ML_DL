{
 "cells": [
  {
   "cell_type": "code",
   "execution_count": null,
   "id": "a13584ba",
   "metadata": {},
   "outputs": [],
   "source": []
  },
  {
   "cell_type": "markdown",
   "id": "dc203edf",
   "metadata": {},
   "source": [
    " 머신러닝  : 기계학습  \n",
    "        \"The  field of study that  gives computers the ability to learn without being explicitly programmed \". \n",
    "       : 사람이 명시적으로  행동을 지시하지 않고 컴퓨터에게 학습 능력을 주는 것      \n",
    "\n",
    "       - 빅데이터를 통해서  규칙을 학습하게 하는 방식 \n",
    "\n",
    "       -  기계 모형이 학습하는 방법(methods)을 따라 데이터로 부터 규칙(rule)을 학습 하는 것  \n",
    "              > 학습한 규칙  = 표현  = 예측 방정식  = 예측 함수  = 근사 함수  \n",
    "\n",
    "       -  머신 러닝의 종류\n",
    "               --> 지도학습   :  정답(올바른 결과 )주고  데이터를 기계에 학습 시키는 방법  \n",
    "                     회귀 (데이터를 입력하면 출력으로 숫자를 반환 하는 방법 :예측 _ 주가 예측) \n",
    "                     분류 (데이터를 입력하면 출력으로 데이터의 속성이나 종류를 반환 하는 방법 : 라벨링 _ 메일스팸감지)\n",
    "\n",
    "              ---> 비지도학습  : 정답을 줄수 없는  방대한 데이터로 부터 자동적으로 산출한 특징량으로 부터\n",
    "                        구조나, 경향, 법칙 등을  이용한 기계에 학습 시키는 방법 \n",
    "                         클러스터링 (데이터를 입력할 때 해당 데이터의 그룹화 결과를 반환 하는 방법)\n",
    "\n",
    "              ---> 강화학습   : 스스로 시행 착오을 일으켜서 최적의 행동을 찾는 학습으로 최근의 목표를\n",
    "                             달성하고 보상을 주는 것으로 향상하는 방법. \n",
    "\n",
    "   ML이  부족한 이유 ? /ML, DL 선택 기준\n",
    "     -규칙  복잡성 :   찾고자 하는 규칙이 단순한가 ?  ->  머신러닝 방식이 적합  \n",
    "                           찾고자 하는 규칙의 복잡한가? ->  딥러닝 적합  \n",
    "\n",
    "    - 데이터 복잡성\n",
    "                   규칙 학습에 쓰이는 데이터가 단순한가 ?  ->  머신러닝 방식이 적합  \n",
    "                    규칙 학습에 쓰이는 데이터가 복잡한가? ->  딥러닝 적합  \n",
    "\n",
    "\n",
    "\n",
    "\n",
    "\n",
    "ML의 알고리즘을 이용한  메소드    \n",
    "  https://scikit-learn.org/stable/model_selection.html#model-selection\n",
    "   \n",
    "\n",
    "   - 회귀 \n",
    "          1) 선형 회귀 : 선형 회귀란, 데이터의 분포가 있을 때, 그 데이터에 제일많이  적용되는 직선을 구하는 분석 방법의 일종. \n",
    "                           회귀 문제를 해결하는 가장 간단한 모델로  매출 예측이나 보험회사의 리스크 평가 등의 \n",
    "                            비즈니스 이용을 비롯해 스포츠 분석이나 환경 과학 등 다분야에서 활용\n",
    "\n",
    "          2) 로지스틱 회귀  : 분류 문제를 해결하는 모델, 여러 변수에서 특정 이벤트가 발생할 확률을 예측,\n",
    "                                     사건의 발생률을 예측하는 것이 좋기 때문에, 로지스틱 회귀는 미지의 병을 발견하거나,\n",
    "                                      기상 관측 데이터로부터의 토사 재해 발생 예측 등에 활용\n",
    "\n",
    " \n",
    " \n",
    "\n",
    "  -  분류알고리즘  :    데이터 분포를 분류   ->   데이터를 분류하는 구분선 또는 구분면을 찾아서 분류 (결정경계 decision boundary ) \n",
    "                               1) SVM ( support  vector  machine, 지지도 벡터 기계 )  \n",
    "                                \n",
    "                                - 데이터 점을 새로운 고차원 공간에 배치  \n",
    "                                \n",
    "                                - 핵 함수( kernel function )을 통해서  데이터 점들간의 간극이 가장 큰(여유도가 가장 큰) \n",
    "                                 초 평면을  탐색  \n",
    "                                \n",
    "                                -  해당 초평면을 기준으로 데이터 점들을 분류  \n",
    "                                \n",
    "                                SVM 장 단점  \n",
    "                                장점  :  간단한 분류 문제를 푸는데 적합  \n",
    "                                단점 :  대규모 데이터 처리 불가.   이미지 처리 분류 부적합  \n",
    "                        \n",
    "                                \n",
    "                                2) 결정 트리  (decision tree)출현  / 랜덤 포레스트 \n",
    "                                 - 나무 모양으로 순서에 따라 결정을 반복 \n",
    "                                  -2010년 대부터 커널 메소드 보다 더 인기를 끌었다. \n",
    "                                  -2014년도 대세가 된다. \n",
    "                 \n",
    "                                3) 그래디언트 부스팅 머신  \n",
    "                                  - 여러 결정트리를 순서대로 배치해 경사도를 증폭\n",
    "                                   - 랜덤 포레스트가 병렬처리라면 이방법은 순차 처리이다. \n",
    "                                   -  XGBoot를 경진 대회에서 자주 사용하게 됬다.  \n",
    "\n",
    "                                4) 나이브 베이즈\n",
    "                                  - 분류 문제를 풀기 위한 모델로, 확률론의 정리인 베이즈의 정리알고리즘 적용\n",
    "                                 - 계산량이 적고 처리가 빠르기 때문에 대규모 데이터에도 사용\n",
    "                                 - 텍스트 분류, 메일 스팸, 비 스팸 판정등 사용\n",
    "\n",
    "\n",
    " 클러스터\n",
    "\n",
    "1) k-means clustering : 데이터를 성질이 가까운 분류끼리 그룹으로 나누는 방법, 클러스터링의 가장 쉬운 기술로 빅 데이터를 분석할 때 자주 사용되는 가장 중요한 기술\n",
    "\n",
    "2) k-nearest neighbor(KNN) : 패턴 인식에 자주 사용되며, 특징 공간에서 가장 가까운 훈련 예에 기초한 분류 방법, 지연 학습으로 분류\n",
    "\n",
    " \n",
    "\n",
    "transformer _변환기  \n",
    "       :차원축소 , 이진화 , 요인분석, 레이블인코딩 , latent Dirichlet allocation ,   선형 판별분석,  \n",
    "        척도구성 (scaling),  비음수 행렬분해, 정규화(normalizing) ,  원핫 인코딩, 주성분 분석, imputing, vectorizing,\n",
    "        sigular value decomposition 등등  ->   특징공학 (feature  engineering)의 관심사   \n",
    "        \n"
   ]
  },
  {
   "cell_type": "markdown",
   "id": "11a58d49",
   "metadata": {},
   "source": [
    "### Q1) 통계 변수를 학습 후 Linear Regression 을 학습해 보자.\n",
    "\n",
    "| 평균기온 | 아이스크림 쇼핑 클릭량 |\n",
    "| --- | --- |\n",
    "| 5 | 15 |\n",
    "| 10 | 25 |\n",
    "| 15 | 35 |\n",
    "| 20 | ? |"
   ]
  },
  {
   "cell_type": "code",
   "execution_count": 3,
   "id": "02e8f433",
   "metadata": {},
   "outputs": [
    {
     "data": {
      "image/png": "[encoded data removed]",
      "text/plain": [
       "<Figure size 432x288 with 1 Axes>"
      ]
     },
     "metadata": {
      "needs_background": "light"
     },
     "output_type": "display_data"
    }
   ],
   "source": [
    "# 1-1 실측 데이터를 가지고 선형을 그려보자\n",
    "import numpy as np\n",
    "import matplotlib.pyplot as plt\n",
    "\n",
    "temp = np.array([5,10,15])\n",
    "ice = np.array([15,25,35])\n",
    "\n",
    "plt.plot(temp,ice)\n",
    "plt.scatter(temp,ice)\n",
    "plt.grid()\n",
    "plt.show()"
   ]
  },
  {
   "cell_type": "markdown",
   "id": "8d213ab9",
   "metadata": {},
   "source": [
    "### Q2) 실측 데이터를 이용해서 공식을 만들어서 데이터를 시각화\n",
    "### f1_x = 2*X+5\n",
    "\n",
    " 평균기온 | 아이스크림 쇼핑 클릭량 \n",
    " --- | --- \n",
    " 5 | 16 \n",
    " 10 | 23 \n",
    " 15 | 31 \n",
    " 20 | 50 "
   ]
  },
  {
   "cell_type": "code",
   "execution_count": 23,
   "id": "27e57119",
   "metadata": {},
   "outputs": [
    {
     "data": {
      "text/plain": [
       "array([15, 25, 35, 45])"
      ]
     },
     "execution_count": 23,
     "metadata": {},
     "output_type": "execute_result"
    }
   ],
   "source": [
    "#2-1 실측 데이터로 공식을 유추해서 만들고 평균 기온에 따른 클릭량 데이터를 적용해서\n",
    "#오차를 확인\n",
    "X = np.array([5,10,15,20]) # 평균 기온\n",
    "y = np.array([16,23,31,50]) # 쇼핑 클릭량\n",
    "\n",
    "f1_X = 2*X+5 #예측값\n",
    "f1_X"
   ]
  },
  {
   "cell_type": "code",
   "execution_count": 24,
   "id": "4e411bfc",
   "metadata": {},
   "outputs": [
    {
     "name": "stdout",
     "output_type": "stream",
     "text": [
      "오차 [ 1 -2 -4  5]\n",
      "오차의 합 0\n"
     ]
    }
   ],
   "source": [
    "#2-2 오차(f1_error) = 실제값 - 예측값 \n",
    "#    오차(f1_error) = y      - f1(X)\n",
    "f1_error = y-f1_X\n",
    "print('오차',f1_error)\n",
    "print('오차의 합', np.sum(f1_error))"
   ]
  },
  {
   "cell_type": "markdown",
   "id": "4d456efc",
   "metadata": {},
   "source": [
    " 입력변수 | 실제값 | 예측값 | 오차\n",
    " --- | --- |--- | --- |\n",
    " 5 | 16 |15 | 1 \n",
    " 10 | 23 |25 | -2\n",
    " 15 | 31 |35 | -4 \n",
    " 20 | 50 |34 | 5 "
   ]
  },
  {
   "cell_type": "code",
   "execution_count": 25,
   "id": "9bdfda1b",
   "metadata": {},
   "outputs": [
    {
     "data": {
      "text/plain": [
       "[<matplotlib.lines.Line2D at 0x1f2600eaa60>]"
      ]
     },
     "execution_count": 25,
     "metadata": {},
     "output_type": "execute_result"
    },
    {
     "data": {
      "image/png": "[encoded data removed]",
      "text/plain": [
       "<Figure size 432x288 with 1 Axes>"
      ]
     },
     "metadata": {
      "needs_background": "light"
     },
     "output_type": "display_data"
    }
   ],
   "source": [
    "# 2-3  입력변수 | 실제값 | 예측값 | 오차 그래프 그리기\n",
    "plt.plot(X, f1_X) # 예측치의 직선 방정식"
   ]
  },
  {
   "cell_type": "code",
   "execution_count": 32,
   "id": "9e42ddc3",
   "metadata": {},
   "outputs": [
    {
     "name": "stdout",
     "output_type": "stream",
     "text": [
      "x1 y1 [5 5] [15 16]\n",
      "x1 y1 [10 10] [25 23]\n",
      "x1 y1 [15 15] [35 31]\n",
      "x1 y1 [20 20] [45 50]\n"
     ]
    },
    {
     "data": {
      "image/png": "[encoded data removed]",
      "text/plain": [
       "<Figure size 432x288 with 1 Axes>"
      ]
     },
     "metadata": {
      "needs_background": "light"
     },
     "output_type": "display_data"
    }
   ],
   "source": [
    "for i in range(len(X)):\n",
    "    x1=np.array([X[i],X[i]])\n",
    "    y1=np.array([f1_X[i],y[i]])\n",
    "    print('x1 y1',x1,y1)    \n",
    "    plt.plot(x1,y1,marker='o')"
   ]
  },
  {
   "cell_type": "code",
   "execution_count": 28,
   "id": "567b6b82",
   "metadata": {},
   "outputs": [
    {
     "data": {
      "image/png": "[encoded data removed]",
      "text/plain": [
       "<Figure size 432x288 with 1 Axes>"
      ]
     },
     "metadata": {
      "needs_background": "light"
     },
     "output_type": "display_data"
    }
   ],
   "source": [
    "# 2-4 오차 그리기\n",
    "plt.plot(X, f1_X)\n",
    "for i in range(len(X)):\n",
    "    x1=np.array([X[i],X[i]]) #온도\n",
    "    y1=np.array([f1_X[i],y[i]])# 예측 실제값\n",
    "    plt.plot(x1,y1,marker='o')\n",
    "plt.grid()\n",
    "plt.show()"
   ]
  },
  {
   "cell_type": "code",
   "execution_count": null,
   "id": "44d71d9c",
   "metadata": {},
   "outputs": [],
   "source": []
  }
 ],
 "metadata": {
  "kernelspec": {
   "display_name": "Python 3 (ipykernel)",
   "language": "python",
   "name": "python3"
  },
  "language_info": {
   "codemirror_mode": {
    "name": "ipython",
    "version": 3
   },
   "file_extension": ".py",
   "mimetype": "text/x-python",
   "name": "python",
   "nbconvert_exporter": "python",
   "pygments_lexer": "ipython3",
   "version": "3.9.12"
  }
 },
 "nbformat": 4,
 "nbformat_minor": 5
}
