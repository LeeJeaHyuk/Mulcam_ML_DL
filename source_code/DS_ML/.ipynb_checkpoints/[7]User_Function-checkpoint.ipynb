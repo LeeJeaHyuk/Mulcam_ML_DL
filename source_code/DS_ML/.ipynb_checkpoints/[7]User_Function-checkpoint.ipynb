{
 "cells": [
  {
   "cell_type": "code",
   "execution_count": 82,
   "id": "bbbc04b0",
   "metadata": {},
   "outputs": [
    {
     "data": {
      "text/plain": [
       "'%.3f'"
      ]
     },
     "execution_count": 82,
     "metadata": {},
     "output_type": "execute_result"
    }
   ],
   "source": [
    "import numpy as np\n",
    "from scipy.stats import *\n",
    "import pandas as pd\n",
    "import math\n",
    "import matplotlib.pyplot as plt\n",
    "import seaborn as sns\n",
    "\n",
    "%precision 3\n",
    "%matplotlib inline\n",
    "\n",
    "from IPython.core.interactiveshell import InteractiveShell\n",
    "InteractiveShell.ast_node_interactivity=\"all\"\n",
    "\n",
    "# 한글 설정\n",
    "# plt.rcParams[\"font.family\"]='gulim'\n",
    "# plt.rcParams[\"font.size\"] = 12"
   ]
  },
  {
   "cell_type": "code",
   "execution_count": 83,
   "id": "f2296779",
   "metadata": {},
   "outputs": [],
   "source": [
    "# 1) 사용자 함수를 만들어 보자\n",
    "def user_function01_sum(x,y):\n",
    "    result = x + y\n",
    "    return result"
   ]
  },
  {
   "cell_type": "code",
   "execution_count": 84,
   "id": "078dc1ac",
   "metadata": {},
   "outputs": [
    {
     "data": {
      "text/plain": [
       "0     6\n",
       "1     8\n",
       "2    10\n",
       "dtype: int64"
      ]
     },
     "execution_count": 84,
     "metadata": {},
     "output_type": "execute_result"
    }
   ],
   "source": [
    "user_function01_sum(pd.Series([2,4,6]),4)"
   ]
  },
  {
   "cell_type": "code",
   "execution_count": 85,
   "id": "f098845b",
   "metadata": {},
   "outputs": [],
   "source": [
    "# 2) 객체 간 리턴형 메소드를 호출해서 연산하는 구조를 만들어 보자\n",
    "def user_fun02_sum(x,y):\n",
    "    result = x.sum()+y\n",
    "    return result"
   ]
  },
  {
   "cell_type": "code",
   "execution_count": 86,
   "id": "7b945e30",
   "metadata": {},
   "outputs": [
    {
     "data": {
      "text/plain": [
       "16"
      ]
     },
     "execution_count": 86,
     "metadata": {},
     "output_type": "execute_result"
    }
   ],
   "source": [
    "user_fun02_sum(pd.Series([2,4,6]),4)"
   ]
  },
  {
   "cell_type": "code",
   "execution_count": 87,
   "id": "91d12745",
   "metadata": {},
   "outputs": [],
   "source": [
    "# 3) 라이브러리가 가지고 있는 내장함수를 이용해서 사용자 함수를 만들어 보기\n",
    "def udf_mean01(x):\n",
    "    result = round(x.mean(), 3) # 매개인자로 사용자 값을 받아서 내장함수를 통해 연산\n",
    "    return result "
   ]
  },
  {
   "cell_type": "code",
   "execution_count": 88,
   "id": "9a745f2b",
   "metadata": {},
   "outputs": [
    {
     "data": {
      "text/plain": [
       "3.964"
      ]
     },
     "execution_count": 88,
     "metadata": {},
     "output_type": "execute_result"
    }
   ],
   "source": [
    "udf_mean01(pd.Series([2, 4, 6, 1.2, 4.5, 10, 0.05]))"
   ]
  },
  {
   "cell_type": "code",
   "execution_count": 89,
   "id": "662f5645",
   "metadata": {},
   "outputs": [],
   "source": [
    "# 4 라이브러리가 가지고 있는 내장함수를 이용해서 사용자 함수를 만들어 보기 자리수 지정\n",
    "def udf_mean01(x, digit=5):\n",
    "    result = round(x.mean(), digit) # 매개인자로 사용자 값을 받아서 내장함수를 통해 연산\n",
    "    return result "
   ]
  },
  {
   "cell_type": "code",
   "execution_count": 90,
   "id": "5154791b",
   "metadata": {},
   "outputs": [
    {
     "data": {
      "text/plain": [
       "3.964"
      ]
     },
     "execution_count": 90,
     "metadata": {},
     "output_type": "execute_result"
    }
   ],
   "source": [
    "udf_mean01(pd.Series([2, 4, 6, 1.2, 4.5, 10, 0.05]))"
   ]
  },
  {
   "cell_type": "code",
   "execution_count": 91,
   "id": "55efccdd",
   "metadata": {},
   "outputs": [],
   "source": [
    "# 5 입력 객체의 원소를 모두 곱한 후 그 원소를 더한 다음 제곱근을 취하는 사용자 정의 함수를 만들기\n",
    "# [3,5,9,20] 출력값 udf_01\n",
    "def udf_01(x):\n",
    "    result = np.sqrt(x.prod()+x)\n",
    "    return result\n",
    "\n",
    "def udf_011(x):\n",
    "    result = np.sqrt(x.sum())\n",
    "    return result\n",
    "\n",
    "def udf_012(x):\n",
    "    temp = [i*i for i in x]\n",
    "    result = np.sqrt(sum(temp))\n",
    "    return result\n",
    "\n",
    "def udf_013(x):\n",
    "    result = x.pow(2).sum()**0.5\n",
    "    return result \n",
    "\n",
    "def udf_014(x):\n",
    "    result = (x**2).sum()**0.5\n",
    "    return result "
   ]
  },
  {
   "cell_type": "code",
   "execution_count": 92,
   "id": "27b7ce0d",
   "metadata": {},
   "outputs": [
    {
     "data": {
      "text/plain": [
       "0    51.990384\n",
       "1    52.009614\n",
       "2    52.048055\n",
       "3    52.153619\n",
       "dtype: float64"
      ]
     },
     "execution_count": 92,
     "metadata": {},
     "output_type": "execute_result"
    },
    {
     "data": {
      "text/plain": [
       "6.083"
      ]
     },
     "execution_count": 92,
     "metadata": {},
     "output_type": "execute_result"
    },
    {
     "data": {
      "text/plain": [
       "22.694"
      ]
     },
     "execution_count": 92,
     "metadata": {},
     "output_type": "execute_result"
    },
    {
     "data": {
      "text/plain": [
       "22.694"
      ]
     },
     "execution_count": 92,
     "metadata": {},
     "output_type": "execute_result"
    },
    {
     "data": {
      "text/plain": [
       "22.694"
      ]
     },
     "execution_count": 92,
     "metadata": {},
     "output_type": "execute_result"
    }
   ],
   "source": [
    "udf_01(pd.Series([3,5,9,20]))\n",
    "udf_011(pd.Series([3,5,9,20]))\n",
    "udf_012(pd.Series([3,5,9,20]))\n",
    "udf_013(pd.Series([3,5,9,20]))\n",
    "udf_014(pd.Series([3,5,9,20]))"
   ]
  },
  {
   "cell_type": "code",
   "execution_count": 93,
   "id": "139e8b25",
   "metadata": {},
   "outputs": [],
   "source": [
    "# 6 입력 객체의 원소를 모두 제곱한 후 그 원소를 더한 다음 제곱근을 취하는 사용자 정의 함수를 만들기\n",
    "# [3,5,9,20] 출력값 udf_02\n",
    "def udf_02(x):\n",
    "    result = np.sqrt(x^2+x)\n",
    "    return result"
   ]
  },
  {
   "cell_type": "code",
   "execution_count": 94,
   "id": "4f0c49dc",
   "metadata": {},
   "outputs": [
    {
     "data": {
      "text/plain": [
       "0    2.449490\n",
       "1    1.414214\n",
       "2    1.414214\n",
       "3    1.414214\n",
       "dtype: float64"
      ]
     },
     "execution_count": 94,
     "metadata": {},
     "output_type": "execute_result"
    }
   ],
   "source": [
    "udf_02(pd.Series([3,5,9,20]))"
   ]
  },
  {
   "cell_type": "code",
   "execution_count": 95,
   "id": "0a33c7ce",
   "metadata": {},
   "outputs": [],
   "source": [
    "# 7 표준화 사용자 함수를 만들고 [-4, 5 , 7, 9]을 입력한 경우 7은 얼마나 리턴되는지 확인\n",
    "# udf_03\n",
    "def udf_03(x):\n",
    "    result = (x-x.mean())/x.std()\n",
    "    return result"
   ]
  },
  {
   "cell_type": "code",
   "execution_count": 96,
   "id": "109aca81",
   "metadata": {},
   "outputs": [
    {
     "data": {
      "text/plain": [
       "0   -1.437957\n",
       "1    0.130723\n",
       "2    0.479319\n",
       "3    0.827915\n",
       "dtype: float64"
      ]
     },
     "execution_count": 96,
     "metadata": {},
     "output_type": "execute_result"
    }
   ],
   "source": [
    "udf_03(pd.Series([-4, 5, 7, 9]))"
   ]
  },
  {
   "cell_type": "code",
   "execution_count": 97,
   "id": "835485f0",
   "metadata": {},
   "outputs": [],
   "source": [
    "# 8  MinMax 정규화 사용자 함수를 만들고 [-4, 5 , 7, 9]을 입력한 경우 7은 얼마나 리턴되는지 확인\n",
    "# udf_04\n",
    "def udf_04(x):\n",
    "    result = (x-x.min())/(x.max() -x.min())\n",
    "    return result"
   ]
  },
  {
   "cell_type": "code",
   "execution_count": 98,
   "id": "7dac831e",
   "metadata": {},
   "outputs": [
    {
     "data": {
      "text/plain": [
       "0    0.000000\n",
       "1    0.692308\n",
       "2    0.846154\n",
       "3    1.000000\n",
       "dtype: float64"
      ]
     },
     "execution_count": 98,
     "metadata": {},
     "output_type": "execute_result"
    }
   ],
   "source": [
    "udf_04(pd.Series([-4, 5, 7, 9]))"
   ]
  },
  {
   "cell_type": "markdown",
   "id": "ac10cc28",
   "metadata": {},
   "source": [
    "pd.Series -> sum(), min(), max(), mean(), std(), skew()_왜도, kurt()_첨도,  \n",
    "unique()*고유값, idxmax() _ 최대값의 위치 , isin([1,2])* 포함 유무 검사  \n",
    "- pd.DataFrame -> 중복된 연산 및 crosstab() _ 두변수를 조합하여 살펴 볼때 사용  \n",
    "    normalize=True일 경우 1,0 값을 할당 후 정규화 할수 있다.  \n",
    "\n",
    "https://www.kaggle.com/competitions/bike-sharing-demand/data  \n",
    "datetime - hourly date + timestamp (자전거 대여 시간대)  \n",
    "season - 1 = spring, 2 = summer, 3 = fall, 4 = winter  \n",
    "holiday - whether the day is considered a holiday (공휴일)  \n",
    "workingday - whether the day is neither a weekend nor holiday (주말 공휴일제외 나머지)  \n",
    "weather - 1: Clear, Few clouds, Partly cloudy, Partly cloudy (맑음)  \n",
    "2: Mist + Cloudy, Mist + Broken clouds, Mist + Few clouds, Mist (구름약간, 안개)  \n",
    "3: Light Snow, Light Rain + Thunderstorm + Scattered clouds, Light Rain + Scattered clouds (비)  \n",
    "4: Heavy Rain + Ice Pallets + Thunderstorm + Mist, Snow + Fog (악천후)  \n",
    "temp - temperature in Celsius (섭씨 기온)  \n",
    "atemp - \"feels like\" temperature in Celsius (체감 온도)  \n",
    "humidity - relative humidity (상대적 습도)  \n",
    "windspeed - wind speed (풍속)  \n",
    "casual - number of non-registered user rentals initiated (일일권 자전거 대여수)  \n",
    "registered - number of registered user rentals initiated (정기권 이용자 자전거 대여수)  \n",
    "count - number of total rentals  "
   ]
  },
  {
   "cell_type": "markdown",
   "id": "2e4bb5f1",
   "metadata": {},
   "source": [
    "### 표본 추출\n",
    " - Sysyematic sampling(계통 추출) : 첫 표본을 무작위로 추출 간격(K)만큼 떨어진 곳에 데이터 추출\n",
    " - Cluster sampling (군집 추출)   : 소수의 군집으로 분할하고 일정 수의 소집단을 임의 추출한다\n",
    " - pandas -sample() : 단순 추출, n_표본개수, frac는 비율, random_state는 seed \n",
    "          -groupby()\n",
    " \n",
    " - sklearn - train_test_split() : 입력 프레임 데이터를 배열의 두 세트 (학습, 평가)로 나눈다\n",
    "             train_size, test_size = 개수, 비율을 입력하게 되면 표본 개수 조절\n",
    " "
   ]
  },
  {
   "cell_type": "code",
   "execution_count": 101,
   "id": "c48ba7d1",
   "metadata": {},
   "outputs": [
    {
     "data": {
      "text/html": [
       "<div>\n",
       "<style scoped>\n",
       "    .dataframe tbody tr th:only-of-type {\n",
       "        vertical-align: middle;\n",
       "    }\n",
       "\n",
       "    .dataframe tbody tr th {\n",
       "        vertical-align: top;\n",
       "    }\n",
       "\n",
       "    .dataframe thead th {\n",
       "        text-align: right;\n",
       "    }\n",
       "</style>\n",
       "<table border=\"1\" class=\"dataframe\">\n",
       "  <thead>\n",
       "    <tr style=\"text-align: right;\">\n",
       "      <th></th>\n",
       "      <th>datetime</th>\n",
       "      <th>season</th>\n",
       "      <th>holiday</th>\n",
       "      <th>workingday</th>\n",
       "      <th>weather</th>\n",
       "      <th>temp</th>\n",
       "      <th>atemp</th>\n",
       "      <th>humidity</th>\n",
       "      <th>windspeed</th>\n",
       "      <th>casual</th>\n",
       "      <th>registered</th>\n",
       "      <th>count</th>\n",
       "    </tr>\n",
       "  </thead>\n",
       "  <tbody>\n",
       "    <tr>\n",
       "      <th>0</th>\n",
       "      <td>2011-01-01 00:00:00</td>\n",
       "      <td>1</td>\n",
       "      <td>0</td>\n",
       "      <td>0</td>\n",
       "      <td>1</td>\n",
       "      <td>9.84</td>\n",
       "      <td>14.395</td>\n",
       "      <td>81</td>\n",
       "      <td>0.0</td>\n",
       "      <td>3</td>\n",
       "      <td>13</td>\n",
       "      <td>16</td>\n",
       "    </tr>\n",
       "    <tr>\n",
       "      <th>1</th>\n",
       "      <td>2011-01-01 01:00:00</td>\n",
       "      <td>1</td>\n",
       "      <td>0</td>\n",
       "      <td>0</td>\n",
       "      <td>1</td>\n",
       "      <td>9.02</td>\n",
       "      <td>13.635</td>\n",
       "      <td>80</td>\n",
       "      <td>0.0</td>\n",
       "      <td>8</td>\n",
       "      <td>32</td>\n",
       "      <td>40</td>\n",
       "    </tr>\n",
       "    <tr>\n",
       "      <th>2</th>\n",
       "      <td>2011-01-01 02:00:00</td>\n",
       "      <td>1</td>\n",
       "      <td>0</td>\n",
       "      <td>0</td>\n",
       "      <td>1</td>\n",
       "      <td>9.02</td>\n",
       "      <td>13.635</td>\n",
       "      <td>80</td>\n",
       "      <td>0.0</td>\n",
       "      <td>5</td>\n",
       "      <td>27</td>\n",
       "      <td>32</td>\n",
       "    </tr>\n",
       "    <tr>\n",
       "      <th>3</th>\n",
       "      <td>2011-01-01 03:00:00</td>\n",
       "      <td>1</td>\n",
       "      <td>0</td>\n",
       "      <td>0</td>\n",
       "      <td>1</td>\n",
       "      <td>9.84</td>\n",
       "      <td>14.395</td>\n",
       "      <td>75</td>\n",
       "      <td>0.0</td>\n",
       "      <td>3</td>\n",
       "      <td>10</td>\n",
       "      <td>13</td>\n",
       "    </tr>\n",
       "    <tr>\n",
       "      <th>4</th>\n",
       "      <td>2011-01-01 04:00:00</td>\n",
       "      <td>1</td>\n",
       "      <td>0</td>\n",
       "      <td>0</td>\n",
       "      <td>1</td>\n",
       "      <td>9.84</td>\n",
       "      <td>14.395</td>\n",
       "      <td>75</td>\n",
       "      <td>0.0</td>\n",
       "      <td>0</td>\n",
       "      <td>1</td>\n",
       "      <td>1</td>\n",
       "    </tr>\n",
       "  </tbody>\n",
       "</table>\n",
       "</div>"
      ],
      "text/plain": [
       "              datetime  season  holiday  workingday  weather  temp   atemp  \\\n",
       "0  2011-01-01 00:00:00       1        0           0        1  9.84  14.395   \n",
       "1  2011-01-01 01:00:00       1        0           0        1  9.02  13.635   \n",
       "2  2011-01-01 02:00:00       1        0           0        1  9.02  13.635   \n",
       "3  2011-01-01 03:00:00       1        0           0        1  9.84  14.395   \n",
       "4  2011-01-01 04:00:00       1        0           0        1  9.84  14.395   \n",
       "\n",
       "   humidity  windspeed  casual  registered  count  \n",
       "0        81        0.0       3          13     16  \n",
       "1        80        0.0       8          32     40  \n",
       "2        80        0.0       5          27     32  \n",
       "3        75        0.0       3          10     13  \n",
       "4        75        0.0       0           1      1  "
      ]
     },
     "execution_count": 101,
     "metadata": {},
     "output_type": "execute_result"
    }
   ],
   "source": [
    "# 9) 데이터 로드 bike.csv 로드해서 상위 5개 출력\n",
    "df = pd.read_csv('../../ML_DATA/bike.csv')\n",
    "df.head()\n"
   ]
  },
  {
   "cell_type": "code",
   "execution_count": 106,
   "id": "567ba4e7",
   "metadata": {},
   "outputs": [
    {
     "data": {
      "text/plain": [
       "(134, 12)"
      ]
     },
     "execution_count": 106,
     "metadata": {},
     "output_type": "execute_result"
    }
   ],
   "source": [
    "# 10) bike 데이터의 1.23% 추출한 행은 몇 개 인가 _sample()\n",
    "res = df.sample(frac = 0.0123, random_state=7)\n",
    "res.shape #134개"
   ]
  },
  {
   "cell_type": "code",
   "execution_count": 118,
   "id": "2996db60",
   "metadata": {},
   "outputs": [
    {
     "data": {
      "text/plain": [
       "(544,)"
      ]
     },
     "execution_count": 118,
     "metadata": {},
     "output_type": "execute_result"
    },
    {
     "data": {
      "text/html": [
       "<div>\n",
       "<style scoped>\n",
       "    .dataframe tbody tr th:only-of-type {\n",
       "        vertical-align: middle;\n",
       "    }\n",
       "\n",
       "    .dataframe tbody tr th {\n",
       "        vertical-align: top;\n",
       "    }\n",
       "\n",
       "    .dataframe thead th {\n",
       "        text-align: right;\n",
       "    }\n",
       "</style>\n",
       "<table border=\"1\" class=\"dataframe\">\n",
       "  <thead>\n",
       "    <tr style=\"text-align: right;\">\n",
       "      <th></th>\n",
       "      <th>datetime</th>\n",
       "      <th>season</th>\n",
       "      <th>holiday</th>\n",
       "      <th>workingday</th>\n",
       "      <th>weather</th>\n",
       "      <th>temp</th>\n",
       "      <th>atemp</th>\n",
       "      <th>humidity</th>\n",
       "      <th>windspeed</th>\n",
       "      <th>casual</th>\n",
       "      <th>registered</th>\n",
       "      <th>count</th>\n",
       "    </tr>\n",
       "  </thead>\n",
       "  <tbody>\n",
       "    <tr>\n",
       "      <th>1061</th>\n",
       "      <td>2011-03-08 18:00:00</td>\n",
       "      <td>1</td>\n",
       "      <td>0</td>\n",
       "      <td>1</td>\n",
       "      <td>1</td>\n",
       "      <td>13.94</td>\n",
       "      <td>16.665</td>\n",
       "      <td>27</td>\n",
       "      <td>12.9980</td>\n",
       "      <td>21</td>\n",
       "      <td>214</td>\n",
       "      <td>235</td>\n",
       "    </tr>\n",
       "    <tr>\n",
       "      <th>235</th>\n",
       "      <td>2011-01-11 02:00:00</td>\n",
       "      <td>1</td>\n",
       "      <td>0</td>\n",
       "      <td>1</td>\n",
       "      <td>2</td>\n",
       "      <td>6.56</td>\n",
       "      <td>7.575</td>\n",
       "      <td>55</td>\n",
       "      <td>12.9980</td>\n",
       "      <td>0</td>\n",
       "      <td>3</td>\n",
       "      <td>3</td>\n",
       "    </tr>\n",
       "    <tr>\n",
       "      <th>1096</th>\n",
       "      <td>2011-03-10 07:00:00</td>\n",
       "      <td>1</td>\n",
       "      <td>0</td>\n",
       "      <td>1</td>\n",
       "      <td>3</td>\n",
       "      <td>15.58</td>\n",
       "      <td>19.695</td>\n",
       "      <td>0</td>\n",
       "      <td>15.0013</td>\n",
       "      <td>1</td>\n",
       "      <td>36</td>\n",
       "      <td>37</td>\n",
       "    </tr>\n",
       "    <tr>\n",
       "      <th>905</th>\n",
       "      <td>2011-03-02 04:00:00</td>\n",
       "      <td>1</td>\n",
       "      <td>0</td>\n",
       "      <td>1</td>\n",
       "      <td>1</td>\n",
       "      <td>8.20</td>\n",
       "      <td>10.605</td>\n",
       "      <td>75</td>\n",
       "      <td>8.9981</td>\n",
       "      <td>1</td>\n",
       "      <td>0</td>\n",
       "      <td>1</td>\n",
       "    </tr>\n",
       "    <tr>\n",
       "      <th>960</th>\n",
       "      <td>2011-03-04 11:00:00</td>\n",
       "      <td>1</td>\n",
       "      <td>0</td>\n",
       "      <td>1</td>\n",
       "      <td>1</td>\n",
       "      <td>11.48</td>\n",
       "      <td>13.635</td>\n",
       "      <td>52</td>\n",
       "      <td>15.0013</td>\n",
       "      <td>16</td>\n",
       "      <td>73</td>\n",
       "      <td>89</td>\n",
       "    </tr>\n",
       "    <tr>\n",
       "      <th>...</th>\n",
       "      <td>...</td>\n",
       "      <td>...</td>\n",
       "      <td>...</td>\n",
       "      <td>...</td>\n",
       "      <td>...</td>\n",
       "      <td>...</td>\n",
       "      <td>...</td>\n",
       "      <td>...</td>\n",
       "      <td>...</td>\n",
       "      <td>...</td>\n",
       "      <td>...</td>\n",
       "      <td>...</td>\n",
       "    </tr>\n",
       "    <tr>\n",
       "      <th>4326</th>\n",
       "      <td>2011-10-12 07:00:00</td>\n",
       "      <td>4</td>\n",
       "      <td>0</td>\n",
       "      <td>1</td>\n",
       "      <td>2</td>\n",
       "      <td>22.14</td>\n",
       "      <td>25.760</td>\n",
       "      <td>88</td>\n",
       "      <td>26.0027</td>\n",
       "      <td>15</td>\n",
       "      <td>244</td>\n",
       "      <td>259</td>\n",
       "    </tr>\n",
       "    <tr>\n",
       "      <th>9867</th>\n",
       "      <td>2012-10-15 12:00:00</td>\n",
       "      <td>4</td>\n",
       "      <td>0</td>\n",
       "      <td>1</td>\n",
       "      <td>3</td>\n",
       "      <td>24.60</td>\n",
       "      <td>28.790</td>\n",
       "      <td>78</td>\n",
       "      <td>22.0028</td>\n",
       "      <td>73</td>\n",
       "      <td>211</td>\n",
       "      <td>284</td>\n",
       "    </tr>\n",
       "    <tr>\n",
       "      <th>10030</th>\n",
       "      <td>2012-11-03 07:00:00</td>\n",
       "      <td>4</td>\n",
       "      <td>0</td>\n",
       "      <td>0</td>\n",
       "      <td>2</td>\n",
       "      <td>13.12</td>\n",
       "      <td>15.150</td>\n",
       "      <td>49</td>\n",
       "      <td>16.9979</td>\n",
       "      <td>1</td>\n",
       "      <td>58</td>\n",
       "      <td>59</td>\n",
       "    </tr>\n",
       "    <tr>\n",
       "      <th>10571</th>\n",
       "      <td>2012-12-06 21:00:00</td>\n",
       "      <td>4</td>\n",
       "      <td>0</td>\n",
       "      <td>1</td>\n",
       "      <td>2</td>\n",
       "      <td>9.84</td>\n",
       "      <td>12.120</td>\n",
       "      <td>60</td>\n",
       "      <td>8.9981</td>\n",
       "      <td>7</td>\n",
       "      <td>184</td>\n",
       "      <td>191</td>\n",
       "    </tr>\n",
       "    <tr>\n",
       "      <th>5188</th>\n",
       "      <td>2011-12-10 06:00:00</td>\n",
       "      <td>4</td>\n",
       "      <td>0</td>\n",
       "      <td>0</td>\n",
       "      <td>1</td>\n",
       "      <td>9.84</td>\n",
       "      <td>12.880</td>\n",
       "      <td>65</td>\n",
       "      <td>7.0015</td>\n",
       "      <td>1</td>\n",
       "      <td>10</td>\n",
       "      <td>11</td>\n",
       "    </tr>\n",
       "  </tbody>\n",
       "</table>\n",
       "<p>545 rows × 12 columns</p>\n",
       "</div>"
      ],
      "text/plain": [
       "                  datetime  season  holiday  workingday  weather   temp  \\\n",
       "1061   2011-03-08 18:00:00       1        0           1        1  13.94   \n",
       "235    2011-01-11 02:00:00       1        0           1        2   6.56   \n",
       "1096   2011-03-10 07:00:00       1        0           1        3  15.58   \n",
       "905    2011-03-02 04:00:00       1        0           1        1   8.20   \n",
       "960    2011-03-04 11:00:00       1        0           1        1  11.48   \n",
       "...                    ...     ...      ...         ...      ...    ...   \n",
       "4326   2011-10-12 07:00:00       4        0           1        2  22.14   \n",
       "9867   2012-10-15 12:00:00       4        0           1        3  24.60   \n",
       "10030  2012-11-03 07:00:00       4        0           0        2  13.12   \n",
       "10571  2012-12-06 21:00:00       4        0           1        2   9.84   \n",
       "5188   2011-12-10 06:00:00       4        0           0        1   9.84   \n",
       "\n",
       "        atemp  humidity  windspeed  casual  registered  count  \n",
       "1061   16.665        27    12.9980      21         214    235  \n",
       "235     7.575        55    12.9980       0           3      3  \n",
       "1096   19.695         0    15.0013       1          36     37  \n",
       "905    10.605        75     8.9981       1           0      1  \n",
       "960    13.635        52    15.0013      16          73     89  \n",
       "...       ...       ...        ...     ...         ...    ...  \n",
       "4326   25.760        88    26.0027      15         244    259  \n",
       "9867   28.790        78    22.0028      73         211    284  \n",
       "10030  15.150        49    16.9979       1          58     59  \n",
       "10571  12.120        60     8.9981       7         184    191  \n",
       "5188   12.880        65     7.0015       1          10     11  \n",
       "\n",
       "[545 rows x 12 columns]"
      ]
     },
     "execution_count": 118,
     "metadata": {},
     "output_type": "execute_result"
    }
   ],
   "source": [
    "# 11) season 기준 5% 추출\n",
    "res01 = df['season'].sample(frac = 0.05, random_state=7)\n",
    "res02 = df.groupby(by=[\"season\"], dropna=False).sample(frac = 0.05, random_state=1, replace = True)\n",
    "res01.shape\n",
    "res02"
   ]
  },
  {
   "cell_type": "code",
   "execution_count": 124,
   "id": "4b55da3d",
   "metadata": {},
   "outputs": [
    {
     "data": {
      "text/plain": [
       "41.000"
      ]
     },
     "execution_count": 124,
     "metadata": {},
     "output_type": "execute_result"
    },
    {
     "data": {
      "text/plain": [
       "39.360"
      ]
     },
     "execution_count": 124,
     "metadata": {},
     "output_type": "execute_result"
    }
   ],
   "source": [
    "# 12) sklearn train_test_split() 을 사용해서 8:2로 분류하고 최고 온도 \n",
    "from sklearn.model_selection import train_test_split\n",
    "X_train, X_test = \\\n",
    "train_test_split(df, test_size=0.2, random_state=123)\n",
    "\n",
    "X_train['temp'].max()\n",
    "X_test['temp'].max()\n"
   ]
  },
  {
   "cell_type": "code",
   "execution_count": 149,
   "id": "f36c6b3b",
   "metadata": {},
   "outputs": [
    {
     "data": {
      "text/plain": [
       "3.509"
      ]
     },
     "execution_count": 149,
     "metadata": {},
     "output_type": "execute_result"
    }
   ],
   "source": [
    "# 13) temp와 atemp 변수 차이의 절댓값 평균\n",
    "def user01 (df):\n",
    "    result = abs(df['temp']-df['atemp']).mean()    \n",
    "    return result \n",
    "\n",
    "user01(df)"
   ]
  },
  {
   "cell_type": "code",
   "execution_count": 154,
   "id": "13ea0217",
   "metadata": {},
   "outputs": [
    {
     "name": "stdout",
     "output_type": "stream",
     "text": [
      "<class 'pandas.core.frame.DataFrame'>\n",
      "RangeIndex: 10886 entries, 0 to 10885\n",
      "Data columns (total 13 columns):\n",
      " #   Column      Non-Null Count  Dtype         \n",
      "---  ------      --------------  -----         \n",
      " 0   datetime    10886 non-null  datetime64[ns]\n",
      " 1   season      10886 non-null  int64         \n",
      " 2   holiday     10886 non-null  int64         \n",
      " 3   workingday  10886 non-null  int64         \n",
      " 4   weather     10886 non-null  int64         \n",
      " 5   temp        10886 non-null  float64       \n",
      " 6   atemp       10886 non-null  float64       \n",
      " 7   humidity    10886 non-null  int64         \n",
      " 8   windspeed   10886 non-null  float64       \n",
      " 9   casual      10886 non-null  int64         \n",
      " 10  registered  10886 non-null  int64         \n",
      " 11  count       10886 non-null  int64         \n",
      " 12  date        10886 non-null  object        \n",
      "dtypes: datetime64[ns](1), float64(3), int64(8), object(1)\n",
      "memory usage: 1.1+ MB\n"
     ]
    },
    {
     "data": {
      "text/html": [
       "<div>\n",
       "<style scoped>\n",
       "    .dataframe tbody tr th:only-of-type {\n",
       "        vertical-align: middle;\n",
       "    }\n",
       "\n",
       "    .dataframe tbody tr th {\n",
       "        vertical-align: top;\n",
       "    }\n",
       "\n",
       "    .dataframe thead th {\n",
       "        text-align: right;\n",
       "    }\n",
       "</style>\n",
       "<table border=\"1\" class=\"dataframe\">\n",
       "  <thead>\n",
       "    <tr style=\"text-align: right;\">\n",
       "      <th></th>\n",
       "      <th>datetime</th>\n",
       "      <th>season</th>\n",
       "      <th>holiday</th>\n",
       "      <th>workingday</th>\n",
       "      <th>weather</th>\n",
       "      <th>temp</th>\n",
       "      <th>atemp</th>\n",
       "      <th>humidity</th>\n",
       "      <th>windspeed</th>\n",
       "      <th>casual</th>\n",
       "      <th>registered</th>\n",
       "      <th>count</th>\n",
       "      <th>date</th>\n",
       "    </tr>\n",
       "  </thead>\n",
       "  <tbody>\n",
       "    <tr>\n",
       "      <th>0</th>\n",
       "      <td>2011-01-01 00:00:00</td>\n",
       "      <td>1</td>\n",
       "      <td>0</td>\n",
       "      <td>0</td>\n",
       "      <td>1</td>\n",
       "      <td>9.84</td>\n",
       "      <td>14.395</td>\n",
       "      <td>81</td>\n",
       "      <td>0.0</td>\n",
       "      <td>3</td>\n",
       "      <td>13</td>\n",
       "      <td>16</td>\n",
       "      <td>2011-01-01</td>\n",
       "    </tr>\n",
       "    <tr>\n",
       "      <th>1</th>\n",
       "      <td>2011-01-01 01:00:00</td>\n",
       "      <td>1</td>\n",
       "      <td>0</td>\n",
       "      <td>0</td>\n",
       "      <td>1</td>\n",
       "      <td>9.02</td>\n",
       "      <td>13.635</td>\n",
       "      <td>80</td>\n",
       "      <td>0.0</td>\n",
       "      <td>8</td>\n",
       "      <td>32</td>\n",
       "      <td>40</td>\n",
       "      <td>2011-01-01</td>\n",
       "    </tr>\n",
       "    <tr>\n",
       "      <th>2</th>\n",
       "      <td>2011-01-01 02:00:00</td>\n",
       "      <td>1</td>\n",
       "      <td>0</td>\n",
       "      <td>0</td>\n",
       "      <td>1</td>\n",
       "      <td>9.02</td>\n",
       "      <td>13.635</td>\n",
       "      <td>80</td>\n",
       "      <td>0.0</td>\n",
       "      <td>5</td>\n",
       "      <td>27</td>\n",
       "      <td>32</td>\n",
       "      <td>2011-01-01</td>\n",
       "    </tr>\n",
       "    <tr>\n",
       "      <th>3</th>\n",
       "      <td>2011-01-01 03:00:00</td>\n",
       "      <td>1</td>\n",
       "      <td>0</td>\n",
       "      <td>0</td>\n",
       "      <td>1</td>\n",
       "      <td>9.84</td>\n",
       "      <td>14.395</td>\n",
       "      <td>75</td>\n",
       "      <td>0.0</td>\n",
       "      <td>3</td>\n",
       "      <td>10</td>\n",
       "      <td>13</td>\n",
       "      <td>2011-01-01</td>\n",
       "    </tr>\n",
       "    <tr>\n",
       "      <th>4</th>\n",
       "      <td>2011-01-01 04:00:00</td>\n",
       "      <td>1</td>\n",
       "      <td>0</td>\n",
       "      <td>0</td>\n",
       "      <td>1</td>\n",
       "      <td>9.84</td>\n",
       "      <td>14.395</td>\n",
       "      <td>75</td>\n",
       "      <td>0.0</td>\n",
       "      <td>0</td>\n",
       "      <td>1</td>\n",
       "      <td>1</td>\n",
       "      <td>2011-01-01</td>\n",
       "    </tr>\n",
       "  </tbody>\n",
       "</table>\n",
       "</div>"
      ],
      "text/plain": [
       "             datetime  season  holiday  workingday  weather  temp   atemp  \\\n",
       "0 2011-01-01 00:00:00       1        0           0        1  9.84  14.395   \n",
       "1 2011-01-01 01:00:00       1        0           0        1  9.02  13.635   \n",
       "2 2011-01-01 02:00:00       1        0           0        1  9.02  13.635   \n",
       "3 2011-01-01 03:00:00       1        0           0        1  9.84  14.395   \n",
       "4 2011-01-01 04:00:00       1        0           0        1  9.84  14.395   \n",
       "\n",
       "   humidity  windspeed  casual  registered  count        date  \n",
       "0        81        0.0       3          13     16  2011-01-01  \n",
       "1        80        0.0       8          32     40  2011-01-01  \n",
       "2        80        0.0       5          27     32  2011-01-01  \n",
       "3        75        0.0       3          10     13  2011-01-01  \n",
       "4        75        0.0       0           1      1  2011-01-01  "
      ]
     },
     "execution_count": 154,
     "metadata": {},
     "output_type": "execute_result"
    },
    {
     "data": {
      "text/plain": [
       "date\n",
       "2011-01-01    47\n",
       "2011-01-02    20\n",
       "2011-01-03    14\n",
       "2011-01-04    18\n",
       "2011-01-05    12\n",
       "Name: casual, dtype: int64"
      ]
     },
     "execution_count": 154,
     "metadata": {},
     "output_type": "execute_result"
    }
   ],
   "source": [
    "# 14) casual(일일권 사용자 자전거 대여) 최대값이 25가 넘은 날은 총 몇일인가\n",
    "df.info() # 데이터 타입 확인하면 object로 나옮 -> datetime으로 바꾸어준다\n",
    "df['datetime'] = pd.to_datetime(df['datetime'])\n",
    "df['date']=df['datetime'].dt.date\n",
    "df.head()\n",
    "df_agg=df.groupby('date')['casual'].max()\n",
    "df_agg.head()\n"
   ]
  },
  {
   "cell_type": "code",
   "execution_count": 158,
   "id": "f43706f7",
   "metadata": {},
   "outputs": [],
   "source": [
    "# df01 = df[df['casual'] > 25]['datetime']\n",
    "# df01.groupby('datetime')\n"
   ]
  },
  {
   "cell_type": "code",
   "execution_count": 163,
   "id": "b94d9a10",
   "metadata": {},
   "outputs": [
    {
     "data": {
      "text/plain": [
       "date\n",
       "2011-01-01    47\n",
       "2011-01-15    33\n",
       "2011-01-16    35\n",
       "2011-02-06    52\n",
       "2011-02-12    47\n",
       "Name: casual, dtype: int64"
      ]
     },
     "execution_count": 163,
     "metadata": {},
     "output_type": "execute_result"
    },
    {
     "data": {
      "text/plain": [
       "384"
      ]
     },
     "execution_count": 163,
     "metadata": {},
     "output_type": "execute_result"
    }
   ],
   "source": [
    "# 14-1) 최대값이 25가 넘는 날은 몇일 -> 384일\n",
    "df_agg_res = df_agg[df_agg > 25]\n",
    "df_agg_res.head()\n",
    "len(df_agg_res)"
   ]
  },
  {
   "cell_type": "code",
   "execution_count": 178,
   "id": "397c898a",
   "metadata": {},
   "outputs": [
    {
     "data": {
      "text/html": [
       "<div>\n",
       "<style scoped>\n",
       "    .dataframe tbody tr th:only-of-type {\n",
       "        vertical-align: middle;\n",
       "    }\n",
       "\n",
       "    .dataframe tbody tr th {\n",
       "        vertical-align: top;\n",
       "    }\n",
       "\n",
       "    .dataframe thead th {\n",
       "        text-align: right;\n",
       "    }\n",
       "</style>\n",
       "<table border=\"1\" class=\"dataframe\">\n",
       "  <thead>\n",
       "    <tr style=\"text-align: right;\">\n",
       "      <th></th>\n",
       "      <th>date</th>\n",
       "      <th>casual</th>\n",
       "    </tr>\n",
       "  </thead>\n",
       "  <tbody>\n",
       "    <tr>\n",
       "      <th>0</th>\n",
       "      <td>2011-01-01</td>\n",
       "      <td>47</td>\n",
       "    </tr>\n",
       "    <tr>\n",
       "      <th>1</th>\n",
       "      <td>2011-01-02</td>\n",
       "      <td>20</td>\n",
       "    </tr>\n",
       "    <tr>\n",
       "      <th>2</th>\n",
       "      <td>2011-01-03</td>\n",
       "      <td>14</td>\n",
       "    </tr>\n",
       "    <tr>\n",
       "      <th>3</th>\n",
       "      <td>2011-01-04</td>\n",
       "      <td>18</td>\n",
       "    </tr>\n",
       "    <tr>\n",
       "      <th>4</th>\n",
       "      <td>2011-01-05</td>\n",
       "      <td>12</td>\n",
       "    </tr>\n",
       "  </tbody>\n",
       "</table>\n",
       "</div>"
      ],
      "text/plain": [
       "         date  casual\n",
       "0  2011-01-01      47\n",
       "1  2011-01-02      20\n",
       "2  2011-01-03      14\n",
       "3  2011-01-04      18\n",
       "4  2011-01-05      12"
      ]
     },
     "execution_count": 178,
     "metadata": {},
     "output_type": "execute_result"
    }
   ],
   "source": [
    "# 14-2) \n",
    "df_agg_res02 = df.groupby('date')['casual'].max().reset_index()\n",
    "df_agg_res02.head()"
   ]
  },
  {
   "cell_type": "code",
   "execution_count": 190,
   "id": "81b9d7cf",
   "metadata": {},
   "outputs": [
    {
     "data": {
      "text/html": [
       "<div>\n",
       "<style scoped>\n",
       "    .dataframe tbody tr th:only-of-type {\n",
       "        vertical-align: middle;\n",
       "    }\n",
       "\n",
       "    .dataframe tbody tr th {\n",
       "        vertical-align: top;\n",
       "    }\n",
       "\n",
       "    .dataframe thead th {\n",
       "        text-align: right;\n",
       "    }\n",
       "</style>\n",
       "<table border=\"1\" class=\"dataframe\">\n",
       "  <thead>\n",
       "    <tr style=\"text-align: right;\">\n",
       "      <th></th>\n",
       "      <th>hour</th>\n",
       "      <th>registered</th>\n",
       "    </tr>\n",
       "  </thead>\n",
       "  <tbody>\n",
       "    <tr>\n",
       "      <th>0</th>\n",
       "      <td>0</td>\n",
       "      <td>44.826374</td>\n",
       "    </tr>\n",
       "    <tr>\n",
       "      <th>1</th>\n",
       "      <td>1</td>\n",
       "      <td>27.345815</td>\n",
       "    </tr>\n",
       "    <tr>\n",
       "      <th>2</th>\n",
       "      <td>2</td>\n",
       "      <td>18.080357</td>\n",
       "    </tr>\n",
       "    <tr>\n",
       "      <th>3</th>\n",
       "      <td>3</td>\n",
       "      <td>9.076212</td>\n",
       "    </tr>\n",
       "    <tr>\n",
       "      <th>4</th>\n",
       "      <td>4</td>\n",
       "      <td>5.144796</td>\n",
       "    </tr>\n",
       "  </tbody>\n",
       "</table>\n",
       "</div>"
      ],
      "text/plain": [
       "   hour  registered\n",
       "0     0   44.826374\n",
       "1     1   27.345815\n",
       "2     2   18.080357\n",
       "3     3    9.076212\n",
       "4     4    5.144796"
      ]
     },
     "execution_count": 190,
     "metadata": {},
     "output_type": "execute_result"
    },
    {
     "data": {
      "text/html": [
       "<div>\n",
       "<style scoped>\n",
       "    .dataframe tbody tr th:only-of-type {\n",
       "        vertical-align: middle;\n",
       "    }\n",
       "\n",
       "    .dataframe tbody tr th {\n",
       "        vertical-align: top;\n",
       "    }\n",
       "\n",
       "    .dataframe thead th {\n",
       "        text-align: right;\n",
       "    }\n",
       "</style>\n",
       "<table border=\"1\" class=\"dataframe\">\n",
       "  <thead>\n",
       "    <tr style=\"text-align: right;\">\n",
       "      <th></th>\n",
       "      <th>hour</th>\n",
       "      <th>registered</th>\n",
       "    </tr>\n",
       "  </thead>\n",
       "  <tbody>\n",
       "    <tr>\n",
       "      <th>17</th>\n",
       "      <td>17</td>\n",
       "      <td>393.324561</td>\n",
       "    </tr>\n",
       "  </tbody>\n",
       "</table>\n",
       "</div>"
      ],
      "text/plain": [
       "    hour  registered\n",
       "17    17  393.324561"
      ]
     },
     "execution_count": 190,
     "metadata": {},
     "output_type": "execute_result"
    },
    {
     "data": {
      "text/plain": [
       "hour           17.000000\n",
       "registered    393.324561\n",
       "Name: 17, dtype: float64"
      ]
     },
     "execution_count": 190,
     "metadata": {},
     "output_type": "execute_result"
    },
    {
     "data": {
      "text/plain": [
       "hour           23.000000\n",
       "registered    393.324561\n",
       "dtype: float64"
      ]
     },
     "execution_count": 190,
     "metadata": {},
     "output_type": "execute_result"
    }
   ],
   "source": [
    "# 15) 시간대별 registered (정규권) 평균을 산출했을 때 가장 큰 시간은\n",
    "# datetime으로 시간정보를 추출, mean()으로 시간별 평균을 구하면 된다.\n",
    "\n",
    "# reset_index() : 기존의 index를 초기화한다 -> 0~row 개수만큼 할당\n",
    "# set_index()   : 특정 변수를 인덱스로 지정할 경우 사용하는 메서드\n",
    "# 데이터 병합 시계열 분해\n",
    "\n",
    "#concat() axis =1 컬럼방향으로 병합 # 줄 또는 행으로 이어 붙이기\n",
    "\n",
    "# merge() : 데이터 프레임을 변수기준으로 병합 = join\n",
    "\n",
    "\n",
    "\n",
    "df['hour'] = df['datetime'].dt.hour\n",
    "# df.head()\n",
    "df_hour = df.groupby('hour')['registered'].mean().reset_index()\n",
    "df_hour.head()\n",
    "\n",
    "df_hour.loc[df_hour['registered']==df_hour['registered'].max(),] # 테이블로 확인\n",
    "df_hour.loc[df_hour['registered'].idxmax()]\n",
    "df_hour.max()"
   ]
  },
  {
   "cell_type": "code",
   "execution_count": 191,
   "id": "5ffe5cbd",
   "metadata": {},
   "outputs": [],
   "source": [
    "#16) join_data_group_menber.csv = A\n",
    "# join_data_group_menber_room.csv = B\n",
    "\n",
    "#LeftJoin을 했을 경우 생성되는 결측행의 개수 "
   ]
  },
  {
   "cell_type": "code",
   "execution_count": 193,
   "id": "ef555c4f",
   "metadata": {},
   "outputs": [],
   "source": [
    "# 17 bike의 여름과 겨울의 시간대에 registered 평균을 비교할 때 가장 차이가 많이 나는 시각은"
   ]
  },
  {
   "cell_type": "code",
   "execution_count": 196,
   "id": "426d0ca3",
   "metadata": {},
   "outputs": [],
   "source": [
    "# 18) 비가 온 날에 30도가 넘는 시각의count 평균\n",
    "# humidity의 최대값이 100인 날을 비가 온 날로 간주한다\n",
    "# 일자별 humidity의 최대값을 산출하여 각 일자의 강우여부를 확인한다\n",
    "# 해당 데이터를 기준 데이터에 join하여 정보를 추가하고\n",
    "# 기온과 강우여부 두 기준으로 필터링 한 후 count()의 평균을 구한다"
   ]
  },
  {
   "cell_type": "code",
   "execution_count": 197,
   "id": "5fdd9b43",
   "metadata": {},
   "outputs": [],
   "source": [
    "# 19) bike.csv 파일에서 workingday가 아니면서 holiday가 아닌 날의 비율은\n",
    "# crosstab()"
   ]
  },
  {
   "cell_type": "code",
   "execution_count": null,
   "id": "6e2f01a7",
   "metadata": {},
   "outputs": [],
   "source": [
    "# 20 ) diamonds.csv 가장 많은 데이터가 있는 세공 수준과 색상조합을 순서대로 출력하면 \n",
    "# Ideal, G\n",
    "#[조건] 세공 수준이 있는 cut 변수와 색상이 color 변수를 각각 crosstab()로 지정 후 melt()함수사용\n",
    "# pandas - melt() _ wide form 데이터 프레임을 long form 자료 구조로 변환하는 메소드 \n",
    "# id_vars 인자에 기준이 되는 변수를 지정한다"
   ]
  },
  {
   "cell_type": "code",
   "execution_count": 195,
   "id": "30b283d5",
   "metadata": {},
   "outputs": [
    {
     "data": {
      "text/html": [
       "<div>\n",
       "<style scoped>\n",
       "    .dataframe tbody tr th:only-of-type {\n",
       "        vertical-align: middle;\n",
       "    }\n",
       "\n",
       "    .dataframe tbody tr th {\n",
       "        vertical-align: top;\n",
       "    }\n",
       "\n",
       "    .dataframe thead th {\n",
       "        text-align: right;\n",
       "    }\n",
       "</style>\n",
       "<table border=\"1\" class=\"dataframe\">\n",
       "  <thead>\n",
       "    <tr style=\"text-align: right;\">\n",
       "      <th></th>\n",
       "      <th>datetime</th>\n",
       "      <th>season</th>\n",
       "      <th>holiday</th>\n",
       "      <th>workingday</th>\n",
       "      <th>weather</th>\n",
       "      <th>temp</th>\n",
       "      <th>atemp</th>\n",
       "      <th>humidity</th>\n",
       "      <th>windspeed</th>\n",
       "      <th>casual</th>\n",
       "      <th>registered</th>\n",
       "      <th>count</th>\n",
       "      <th>date</th>\n",
       "      <th>hour</th>\n",
       "    </tr>\n",
       "  </thead>\n",
       "  <tbody>\n",
       "    <tr>\n",
       "      <th>0</th>\n",
       "      <td>2011-01-01 00:00:00</td>\n",
       "      <td>1</td>\n",
       "      <td>0</td>\n",
       "      <td>0</td>\n",
       "      <td>1</td>\n",
       "      <td>9.84</td>\n",
       "      <td>14.395</td>\n",
       "      <td>81</td>\n",
       "      <td>0.0000</td>\n",
       "      <td>3</td>\n",
       "      <td>13</td>\n",
       "      <td>16</td>\n",
       "      <td>2011-01-01</td>\n",
       "      <td>0</td>\n",
       "    </tr>\n",
       "    <tr>\n",
       "      <th>1</th>\n",
       "      <td>2011-01-01 01:00:00</td>\n",
       "      <td>1</td>\n",
       "      <td>0</td>\n",
       "      <td>0</td>\n",
       "      <td>1</td>\n",
       "      <td>9.02</td>\n",
       "      <td>13.635</td>\n",
       "      <td>80</td>\n",
       "      <td>0.0000</td>\n",
       "      <td>8</td>\n",
       "      <td>32</td>\n",
       "      <td>40</td>\n",
       "      <td>2011-01-01</td>\n",
       "      <td>1</td>\n",
       "    </tr>\n",
       "    <tr>\n",
       "      <th>2</th>\n",
       "      <td>2011-01-01 02:00:00</td>\n",
       "      <td>1</td>\n",
       "      <td>0</td>\n",
       "      <td>0</td>\n",
       "      <td>1</td>\n",
       "      <td>9.02</td>\n",
       "      <td>13.635</td>\n",
       "      <td>80</td>\n",
       "      <td>0.0000</td>\n",
       "      <td>5</td>\n",
       "      <td>27</td>\n",
       "      <td>32</td>\n",
       "      <td>2011-01-01</td>\n",
       "      <td>2</td>\n",
       "    </tr>\n",
       "    <tr>\n",
       "      <th>3</th>\n",
       "      <td>2011-01-01 03:00:00</td>\n",
       "      <td>1</td>\n",
       "      <td>0</td>\n",
       "      <td>0</td>\n",
       "      <td>1</td>\n",
       "      <td>9.84</td>\n",
       "      <td>14.395</td>\n",
       "      <td>75</td>\n",
       "      <td>0.0000</td>\n",
       "      <td>3</td>\n",
       "      <td>10</td>\n",
       "      <td>13</td>\n",
       "      <td>2011-01-01</td>\n",
       "      <td>3</td>\n",
       "    </tr>\n",
       "    <tr>\n",
       "      <th>4</th>\n",
       "      <td>2011-01-01 04:00:00</td>\n",
       "      <td>1</td>\n",
       "      <td>0</td>\n",
       "      <td>0</td>\n",
       "      <td>1</td>\n",
       "      <td>9.84</td>\n",
       "      <td>14.395</td>\n",
       "      <td>75</td>\n",
       "      <td>0.0000</td>\n",
       "      <td>0</td>\n",
       "      <td>1</td>\n",
       "      <td>1</td>\n",
       "      <td>2011-01-01</td>\n",
       "      <td>4</td>\n",
       "    </tr>\n",
       "    <tr>\n",
       "      <th>...</th>\n",
       "      <td>...</td>\n",
       "      <td>...</td>\n",
       "      <td>...</td>\n",
       "      <td>...</td>\n",
       "      <td>...</td>\n",
       "      <td>...</td>\n",
       "      <td>...</td>\n",
       "      <td>...</td>\n",
       "      <td>...</td>\n",
       "      <td>...</td>\n",
       "      <td>...</td>\n",
       "      <td>...</td>\n",
       "      <td>...</td>\n",
       "      <td>...</td>\n",
       "    </tr>\n",
       "    <tr>\n",
       "      <th>10881</th>\n",
       "      <td>2012-12-19 19:00:00</td>\n",
       "      <td>4</td>\n",
       "      <td>0</td>\n",
       "      <td>1</td>\n",
       "      <td>1</td>\n",
       "      <td>15.58</td>\n",
       "      <td>19.695</td>\n",
       "      <td>50</td>\n",
       "      <td>26.0027</td>\n",
       "      <td>7</td>\n",
       "      <td>329</td>\n",
       "      <td>336</td>\n",
       "      <td>2012-12-19</td>\n",
       "      <td>19</td>\n",
       "    </tr>\n",
       "    <tr>\n",
       "      <th>10882</th>\n",
       "      <td>2012-12-19 20:00:00</td>\n",
       "      <td>4</td>\n",
       "      <td>0</td>\n",
       "      <td>1</td>\n",
       "      <td>1</td>\n",
       "      <td>14.76</td>\n",
       "      <td>17.425</td>\n",
       "      <td>57</td>\n",
       "      <td>15.0013</td>\n",
       "      <td>10</td>\n",
       "      <td>231</td>\n",
       "      <td>241</td>\n",
       "      <td>2012-12-19</td>\n",
       "      <td>20</td>\n",
       "    </tr>\n",
       "    <tr>\n",
       "      <th>10883</th>\n",
       "      <td>2012-12-19 21:00:00</td>\n",
       "      <td>4</td>\n",
       "      <td>0</td>\n",
       "      <td>1</td>\n",
       "      <td>1</td>\n",
       "      <td>13.94</td>\n",
       "      <td>15.910</td>\n",
       "      <td>61</td>\n",
       "      <td>15.0013</td>\n",
       "      <td>4</td>\n",
       "      <td>164</td>\n",
       "      <td>168</td>\n",
       "      <td>2012-12-19</td>\n",
       "      <td>21</td>\n",
       "    </tr>\n",
       "    <tr>\n",
       "      <th>10884</th>\n",
       "      <td>2012-12-19 22:00:00</td>\n",
       "      <td>4</td>\n",
       "      <td>0</td>\n",
       "      <td>1</td>\n",
       "      <td>1</td>\n",
       "      <td>13.94</td>\n",
       "      <td>17.425</td>\n",
       "      <td>61</td>\n",
       "      <td>6.0032</td>\n",
       "      <td>12</td>\n",
       "      <td>117</td>\n",
       "      <td>129</td>\n",
       "      <td>2012-12-19</td>\n",
       "      <td>22</td>\n",
       "    </tr>\n",
       "    <tr>\n",
       "      <th>10885</th>\n",
       "      <td>2012-12-19 23:00:00</td>\n",
       "      <td>4</td>\n",
       "      <td>0</td>\n",
       "      <td>1</td>\n",
       "      <td>1</td>\n",
       "      <td>13.12</td>\n",
       "      <td>16.665</td>\n",
       "      <td>66</td>\n",
       "      <td>8.9981</td>\n",
       "      <td>4</td>\n",
       "      <td>84</td>\n",
       "      <td>88</td>\n",
       "      <td>2012-12-19</td>\n",
       "      <td>23</td>\n",
       "    </tr>\n",
       "  </tbody>\n",
       "</table>\n",
       "<p>10886 rows × 14 columns</p>\n",
       "</div>"
      ],
      "text/plain": [
       "                 datetime  season  holiday  workingday  weather   temp  \\\n",
       "0     2011-01-01 00:00:00       1        0           0        1   9.84   \n",
       "1     2011-01-01 01:00:00       1        0           0        1   9.02   \n",
       "2     2011-01-01 02:00:00       1        0           0        1   9.02   \n",
       "3     2011-01-01 03:00:00       1        0           0        1   9.84   \n",
       "4     2011-01-01 04:00:00       1        0           0        1   9.84   \n",
       "...                   ...     ...      ...         ...      ...    ...   \n",
       "10881 2012-12-19 19:00:00       4        0           1        1  15.58   \n",
       "10882 2012-12-19 20:00:00       4        0           1        1  14.76   \n",
       "10883 2012-12-19 21:00:00       4        0           1        1  13.94   \n",
       "10884 2012-12-19 22:00:00       4        0           1        1  13.94   \n",
       "10885 2012-12-19 23:00:00       4        0           1        1  13.12   \n",
       "\n",
       "        atemp  humidity  windspeed  casual  registered  count        date  \\\n",
       "0      14.395        81     0.0000       3          13     16  2011-01-01   \n",
       "1      13.635        80     0.0000       8          32     40  2011-01-01   \n",
       "2      13.635        80     0.0000       5          27     32  2011-01-01   \n",
       "3      14.395        75     0.0000       3          10     13  2011-01-01   \n",
       "4      14.395        75     0.0000       0           1      1  2011-01-01   \n",
       "...       ...       ...        ...     ...         ...    ...         ...   \n",
       "10881  19.695        50    26.0027       7         329    336  2012-12-19   \n",
       "10882  17.425        57    15.0013      10         231    241  2012-12-19   \n",
       "10883  15.910        61    15.0013       4         164    168  2012-12-19   \n",
       "10884  17.425        61     6.0032      12         117    129  2012-12-19   \n",
       "10885  16.665        66     8.9981       4          84     88  2012-12-19   \n",
       "\n",
       "       hour  \n",
       "0         0  \n",
       "1         1  \n",
       "2         2  \n",
       "3         3  \n",
       "4         4  \n",
       "...     ...  \n",
       "10881    19  \n",
       "10882    20  \n",
       "10883    21  \n",
       "10884    22  \n",
       "10885    23  \n",
       "\n",
       "[10886 rows x 14 columns]"
      ]
     },
     "execution_count": 195,
     "metadata": {},
     "output_type": "execute_result"
    }
   ],
   "source": [
    "df"
   ]
  },
  {
   "cell_type": "markdown",
   "id": "b0d3d886",
   "metadata": {},
   "source": [
    "# "
   ]
  }
 ],
 "metadata": {
  "kernelspec": {
   "display_name": "Python 3 (ipykernel)",
   "language": "python",
   "name": "python3"
  },
  "language_info": {
   "codemirror_mode": {
    "name": "ipython",
    "version": 3
   },
   "file_extension": ".py",
   "mimetype": "text/x-python",
   "name": "python",
   "nbconvert_exporter": "python",
   "pygments_lexer": "ipython3",
   "version": "3.9.12"
  }
 },
 "nbformat": 4,
 "nbformat_minor": 5
}
