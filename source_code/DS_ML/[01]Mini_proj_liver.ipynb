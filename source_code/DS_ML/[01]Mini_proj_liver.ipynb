{
 "cells": [
  {
   "cell_type": "markdown",
   "id": "8a0a5971",
   "metadata": {},
   "source": [
    "- gender 성별\n",
    "- age 나이\n",
    "- height 키\n",
    "- weight 몸무게\n",
    "- eyesight(left, right) 왼쪽 시력, 오른쪽 시력\n",
    "- hearing(left, right) 왼쪽 청력, 오른쪽 청력\n",
    "\n",
    "- systolic 최고혈압(대동맥 내로 보내지는 심실 수축기의 혈압)\n",
    "- relaxation 최저혈압\n",
    "- fasting blood sugar 공복혈당\n",
    "- Cholesterol 총 콜레스테롤\n",
    "- triglyceride 중성지방\n",
    "- HDL 고밀도지단백 (콜레스테롤)\n",
    "- LDL 저밀도지단백 (콜레스테롤)\n",
    "- hemoglobin 헤모글로빈 수치\n",
    "- Urine protein 단백뇨\n",
    "- serum creatinine 혈액 또는 소변에서 크레아티닌 양 측정 - *신장*관련\n",
    "\n",
    "- AST 아스파르테이트 아미노 전달효소 *간*\n",
    "- ALT 알라닌 아미노 전달효소 *간* \n",
    "    - AST, ALT의 정상 범위 ~40, 경도 40~ 200, 중등도 200~400, 중증 400~\n",
    "- Gtp 감마 Gtp간 기능 검사 *알코올 관련*\n",
    "    - 정상 ~50, 가벼운 증가 51~100, 중간정도의 증가 101~200, 고도의 증가 201~500, 초고도 증가 500~\n",
    "    - 술 마시지 않는 사람도 높게 나올 수 있다.\n",
    "    \n",
    "- oral 구강검사 여부\n",
    "- dental caries 충치 갯수\n",
    "- tartar 치석존재여부"
   ]
  },
  {
   "cell_type": "code",
   "execution_count": 1,
   "id": "2f92eacf",
   "metadata": {},
   "outputs": [],
   "source": [
    "from sklearn.model_selection import train_test_split\n",
    "from sklearn import metrics\n",
    "from sklearn.ensemble import RandomForestClassifier\n",
    "\n",
    "import seaborn as sns\n",
    "import pandas as pd\n",
    "import numpy as np\n",
    "import matplotlib.pyplot as plt"
   ]
  },
  {
   "cell_type": "code",
   "execution_count": 2,
   "id": "6e7e9384",
   "metadata": {},
   "outputs": [],
   "source": [
    "from IPython.core.interactiveshell import InteractiveShell\n",
    "InteractiveShell.ast_node_interactivity=\"all\""
   ]
  },
  {
   "cell_type": "code",
   "execution_count": 3,
   "id": "9a1ec6bb",
   "metadata": {},
   "outputs": [
    {
     "data": {
      "text/plain": [
       "(55692, 27)"
      ]
     },
     "execution_count": 3,
     "metadata": {},
     "output_type": "execute_result"
    }
   ],
   "source": [
    "df = pd.read_csv('C:/ds_work/ML_DATA/smoking.csv')\n",
    "df.shape  # (55693, 27)"
   ]
  },
  {
   "cell_type": "code",
   "execution_count": 4,
   "id": "c7913993",
   "metadata": {},
   "outputs": [],
   "source": [
    "# 범주형 데이터 변환\n",
    "df = df.replace({'N':0,'Y':1,'F':0,'M':1, })\n",
    "gender = {'F': 0, 'M': 1}\n",
    "oral = {'N': 0, 'T': 1}\n",
    "tartar = {'N': 0, 'T': 1}\n",
    "# df 전체 float형으로 바꾸기\n",
    "df = df.astype(float)"
   ]
  },
  {
   "cell_type": "code",
   "execution_count": 7,
   "id": "83451674",
   "metadata": {},
   "outputs": [],
   "source": [
    "### 기본 특성 데이터프레임 ###\n",
    "\n",
    "df_basic = df.iloc[:, 1:9]\n",
    "target = df.loc[:, 'smoking']\n",
    "# basic"
   ]
  },
  {
   "cell_type": "code",
   "execution_count": 8,
   "id": "09e7b5a7",
   "metadata": {},
   "outputs": [
    {
     "data": {
      "text/html": [
       "<div>\n",
       "<style scoped>\n",
       "    .dataframe tbody tr th:only-of-type {\n",
       "        vertical-align: middle;\n",
       "    }\n",
       "\n",
       "    .dataframe tbody tr th {\n",
       "        vertical-align: top;\n",
       "    }\n",
       "\n",
       "    .dataframe thead th {\n",
       "        text-align: right;\n",
       "    }\n",
       "</style>\n",
       "<table border=\"1\" class=\"dataframe\">\n",
       "  <thead>\n",
       "    <tr style=\"text-align: right;\">\n",
       "      <th></th>\n",
       "      <th>Urine protein</th>\n",
       "      <th>serum creatinine</th>\n",
       "      <th>smoking</th>\n",
       "    </tr>\n",
       "  </thead>\n",
       "  <tbody>\n",
       "    <tr>\n",
       "      <th>0</th>\n",
       "      <td>1.0</td>\n",
       "      <td>0.7</td>\n",
       "      <td>0.0</td>\n",
       "    </tr>\n",
       "    <tr>\n",
       "      <th>1</th>\n",
       "      <td>1.0</td>\n",
       "      <td>0.6</td>\n",
       "      <td>0.0</td>\n",
       "    </tr>\n",
       "    <tr>\n",
       "      <th>2</th>\n",
       "      <td>1.0</td>\n",
       "      <td>1.0</td>\n",
       "      <td>1.0</td>\n",
       "    </tr>\n",
       "    <tr>\n",
       "      <th>3</th>\n",
       "      <td>1.0</td>\n",
       "      <td>1.0</td>\n",
       "      <td>0.0</td>\n",
       "    </tr>\n",
       "    <tr>\n",
       "      <th>4</th>\n",
       "      <td>1.0</td>\n",
       "      <td>0.6</td>\n",
       "      <td>0.0</td>\n",
       "    </tr>\n",
       "    <tr>\n",
       "      <th>...</th>\n",
       "      <td>...</td>\n",
       "      <td>...</td>\n",
       "      <td>...</td>\n",
       "    </tr>\n",
       "    <tr>\n",
       "      <th>55687</th>\n",
       "      <td>1.0</td>\n",
       "      <td>0.6</td>\n",
       "      <td>0.0</td>\n",
       "    </tr>\n",
       "    <tr>\n",
       "      <th>55688</th>\n",
       "      <td>1.0</td>\n",
       "      <td>0.9</td>\n",
       "      <td>0.0</td>\n",
       "    </tr>\n",
       "    <tr>\n",
       "      <th>55689</th>\n",
       "      <td>1.0</td>\n",
       "      <td>0.5</td>\n",
       "      <td>0.0</td>\n",
       "    </tr>\n",
       "    <tr>\n",
       "      <th>55690</th>\n",
       "      <td>1.0</td>\n",
       "      <td>0.7</td>\n",
       "      <td>0.0</td>\n",
       "    </tr>\n",
       "    <tr>\n",
       "      <th>55691</th>\n",
       "      <td>1.0</td>\n",
       "      <td>0.8</td>\n",
       "      <td>1.0</td>\n",
       "    </tr>\n",
       "  </tbody>\n",
       "</table>\n",
       "<p>55692 rows × 3 columns</p>\n",
       "</div>"
      ],
      "text/plain": [
       "       Urine protein  serum creatinine  smoking\n",
       "0                1.0               0.7      0.0\n",
       "1                1.0               0.6      0.0\n",
       "2                1.0               1.0      1.0\n",
       "3                1.0               1.0      0.0\n",
       "4                1.0               0.6      0.0\n",
       "...              ...               ...      ...\n",
       "55687            1.0               0.6      0.0\n",
       "55688            1.0               0.9      0.0\n",
       "55689            1.0               0.5      0.0\n",
       "55690            1.0               0.7      0.0\n",
       "55691            1.0               0.8      1.0\n",
       "\n",
       "[55692 rows x 3 columns]"
      ]
     },
     "execution_count": 8,
     "metadata": {},
     "output_type": "execute_result"
    }
   ],
   "source": [
    "### 간 데이터프레임 ###\n",
    "\n",
    "df_li = df.iloc[:, 18:20]\n",
    "liver = pd.concat([df_li, target], axis = 1)\n",
    "liver"
   ]
  },
  {
   "cell_type": "code",
   "execution_count": 6,
   "id": "e7fbe61a",
   "metadata": {},
   "outputs": [],
   "source": [
    "from sklearn.model_selection import train_test_split\n",
    "X_train, X_test, y_train, y_test = \\\n",
    "train_test_split(df.iloc[:,:-1],df.iloc[:,-1], test_size=0.2, random_state=42)"
   ]
  },
  {
   "cell_type": "code",
   "execution_count": 5,
   "id": "c809fb79",
   "metadata": {},
   "outputs": [],
   "source": [
    "### 기본 특성 데이터프레임 ###\n",
    "\n",
    "df_basic = df.iloc[:, 1:9]\n",
    "target = df.loc[:, 'smoking']\n",
    "# basic\n",
    "\n",
    "### 심혈관 및 호흡 데이터프레임 ###\n",
    "\n",
    "df_bl = df.iloc[:, 10:18]\n",
    "blood = pd.concat([df_bl, target], axis = 1)\n",
    "# blood\n",
    "\n",
    "### 간 데이터프레임 ###\n",
    "\n",
    "df_li = df.iloc[:, 18:20]\n",
    "liver = pd.concat([df_li, target], axis = 1)\n",
    "# liver\n",
    "\n",
    "### 신장 데이터프레임 ###\n",
    "\n",
    "df_kid = df.iloc[:, 20:23]\n",
    "kidney = pd.concat([df_kid, target], axis = 1)\n",
    "# kidney\n",
    "\n",
    "### 구강 데이터프레임 ###\n",
    "\n",
    "df_or = df.iloc[:, 23:26]\n",
    "oral = pd.concat([df_or, target], axis = 1)\n",
    "# oral"
   ]
  },
  {
   "cell_type": "markdown",
   "id": "8ec19625",
   "metadata": {},
   "source": [
    "### 3. 훈련01 : 전체 모델 구현으로 정확도 확인"
   ]
  },
  {
   "cell_type": "markdown",
   "id": "b602f754",
   "metadata": {},
   "source": [
    "#### DecisionTreeClassifier"
   ]
  },
  {
   "cell_type": "code",
   "execution_count": 7,
   "id": "15bec77b",
   "metadata": {},
   "outputs": [
    {
     "data": {
      "text/plain": [
       "DecisionTreeClassifier()"
      ]
     },
     "execution_count": 7,
     "metadata": {},
     "output_type": "execute_result"
    },
    {
     "data": {
      "text/plain": [
       "0.7629948828440614"
      ]
     },
     "execution_count": 7,
     "metadata": {},
     "output_type": "execute_result"
    },
    {
     "name": "stdout",
     "output_type": "stream",
     "text": [
      "confusion_matrix : \n",
      " [[5698 1329]\n",
      " [1311 2801]]\n"
     ]
    },
    {
     "data": {
      "text/plain": [
       "<AxesSubplot:title={'center':'Confusion Matrix'}, xlabel='Predicted label', ylabel='True label'>"
      ]
     },
     "execution_count": 7,
     "metadata": {},
     "output_type": "execute_result"
    },
    {
     "data": {
      "image/png": "[encoded data removed]",
      "text/plain": [
       "<Figure size 576x432 with 2 Axes>"
      ]
     },
     "metadata": {
      "needs_background": "light"
     },
     "output_type": "display_data"
    }
   ],
   "source": [
    "from sklearn.tree import DecisionTreeClassifier\n",
    "from sklearn.metrics import accuracy_score\n",
    "\n",
    "model = DecisionTreeClassifier()\n",
    "model.fit(X_train,y_train)\n",
    "\n",
    "pred = model.predict(X_test)\n",
    "acc = accuracy_score(y_test,pred)\n",
    "acc\n",
    "\n",
    "from sklearn.metrics import confusion_matrix\n",
    "import scikitplot as skplt\n",
    "\n",
    "pred = model.predict(X_test)\n",
    "# 실제 , 예측\n",
    "cm = confusion_matrix(y_test, pred)\n",
    "print('confusion_matrix : \\n', cm)\n",
    "\n",
    "skplt.metrics.plot_confusion_matrix(y_test,pred,figsize=(8,6))\n",
    "plt.show()"
   ]
  },
  {
   "cell_type": "markdown",
   "id": "462073ec",
   "metadata": {},
   "source": [
    "#### RandomForestClassifier"
   ]
  },
  {
   "cell_type": "code",
   "execution_count": 8,
   "id": "8076c95e",
   "metadata": {},
   "outputs": [
    {
     "data": {
      "text/plain": [
       "RandomForestClassifier()"
      ]
     },
     "execution_count": 8,
     "metadata": {},
     "output_type": "execute_result"
    },
    {
     "data": {
      "text/plain": [
       "0.8278121913995871"
      ]
     },
     "execution_count": 8,
     "metadata": {},
     "output_type": "execute_result"
    },
    {
     "name": "stdout",
     "output_type": "stream",
     "text": [
      "confusion_matrix : \n",
      " [[5968 1059]\n",
      " [ 859 3253]]\n"
     ]
    },
    {
     "data": {
      "text/plain": [
       "<AxesSubplot:title={'center':'Confusion Matrix'}, xlabel='Predicted label', ylabel='True label'>"
      ]
     },
     "execution_count": 8,
     "metadata": {},
     "output_type": "execute_result"
    },
    {
     "data": {
      "image/png": "[encoded data removed]",
      "text/plain": [
       "<Figure size 576x432 with 2 Axes>"
      ]
     },
     "metadata": {
      "needs_background": "light"
     },
     "output_type": "display_data"
    }
   ],
   "source": [
    "from sklearn.ensemble import RandomForestClassifier\n",
    "from sklearn.metrics import accuracy_score\n",
    "\n",
    "model = RandomForestClassifier()\n",
    "model.fit(X_train,y_train)\n",
    "\n",
    "pred = model.predict(X_test)\n",
    "acc = accuracy_score(y_test,pred)\n",
    "acc\n",
    "\n",
    "from sklearn.metrics import confusion_matrix\n",
    "import scikitplot as skplt\n",
    "\n",
    "pred = model.predict(X_test)\n",
    "# 실제 , 예측\n",
    "cm = confusion_matrix(y_test, pred)\n",
    "print('confusion_matrix : \\n', cm)\n",
    "\n",
    "skplt.metrics.plot_confusion_matrix(y_test,pred,figsize=(8,6))\n",
    "plt.show()"
   ]
  },
  {
   "cell_type": "markdown",
   "id": "e2a703d5",
   "metadata": {},
   "source": [
    "### XGBoost"
   ]
  },
  {
   "cell_type": "code",
   "execution_count": 9,
   "id": "b0927eb3",
   "metadata": {},
   "outputs": [
    {
     "name": "stdout",
     "output_type": "stream",
     "text": [
      "[0]\tvalidation_0-logloss:0.60204\n",
      "[1]\tvalidation_0-logloss:0.55155\n",
      "[2]\tvalidation_0-logloss:0.52129\n",
      "[3]\tvalidation_0-logloss:0.50219\n",
      "[4]\tvalidation_0-logloss:0.48866\n",
      "[5]\tvalidation_0-logloss:0.47948\n",
      "[6]\tvalidation_0-logloss:0.47325\n",
      "[7]\tvalidation_0-logloss:0.46904\n",
      "[8]\tvalidation_0-logloss:0.46608\n",
      "[9]\tvalidation_0-logloss:0.46377\n",
      "[10]\tvalidation_0-logloss:0.46181\n",
      "[11]\tvalidation_0-logloss:0.46037\n",
      "[12]\tvalidation_0-logloss:0.45932\n",
      "[13]\tvalidation_0-logloss:0.45876\n",
      "[14]\tvalidation_0-logloss:0.45796\n",
      "[15]\tvalidation_0-logloss:0.45725\n",
      "[16]\tvalidation_0-logloss:0.45668\n",
      "[17]\tvalidation_0-logloss:0.45585\n",
      "[18]\tvalidation_0-logloss:0.45543\n",
      "[19]\tvalidation_0-logloss:0.45497\n",
      "[20]\tvalidation_0-logloss:0.45475\n",
      "[21]\tvalidation_0-logloss:0.45414\n",
      "[22]\tvalidation_0-logloss:0.45399\n",
      "[23]\tvalidation_0-logloss:0.45374\n",
      "[24]\tvalidation_0-logloss:0.45341\n",
      "[25]\tvalidation_0-logloss:0.45322\n",
      "[26]\tvalidation_0-logloss:0.45299\n",
      "[27]\tvalidation_0-logloss:0.45251\n",
      "[28]\tvalidation_0-logloss:0.45238\n",
      "[29]\tvalidation_0-logloss:0.45213\n",
      "[30]\tvalidation_0-logloss:0.45168\n",
      "[31]\tvalidation_0-logloss:0.45167\n",
      "[32]\tvalidation_0-logloss:0.45139\n",
      "[33]\tvalidation_0-logloss:0.45115\n",
      "[34]\tvalidation_0-logloss:0.45113\n",
      "[35]\tvalidation_0-logloss:0.45114\n",
      "[36]\tvalidation_0-logloss:0.45057\n",
      "[37]\tvalidation_0-logloss:0.45058\n",
      "[38]\tvalidation_0-logloss:0.45053\n",
      "[39]\tvalidation_0-logloss:0.44989\n",
      "[40]\tvalidation_0-logloss:0.44992\n",
      "[41]\tvalidation_0-logloss:0.44963\n",
      "[42]\tvalidation_0-logloss:0.44903\n",
      "[43]\tvalidation_0-logloss:0.44888\n",
      "[44]\tvalidation_0-logloss:0.44859\n",
      "[45]\tvalidation_0-logloss:0.44835\n",
      "[46]\tvalidation_0-logloss:0.44845\n",
      "[47]\tvalidation_0-logloss:0.44844\n",
      "[48]\tvalidation_0-logloss:0.44860\n",
      "[49]\tvalidation_0-logloss:0.44863\n",
      "[50]\tvalidation_0-logloss:0.44863\n",
      "[51]\tvalidation_0-logloss:0.44865\n",
      "[52]\tvalidation_0-logloss:0.44865\n",
      "[53]\tvalidation_0-logloss:0.44830\n",
      "[54]\tvalidation_0-logloss:0.44859\n",
      "[55]\tvalidation_0-logloss:0.44821\n",
      "[56]\tvalidation_0-logloss:0.44793\n",
      "[57]\tvalidation_0-logloss:0.44817\n",
      "[58]\tvalidation_0-logloss:0.44801\n",
      "[59]\tvalidation_0-logloss:0.44796\n",
      "[60]\tvalidation_0-logloss:0.44790\n",
      "[61]\tvalidation_0-logloss:0.44796\n",
      "[62]\tvalidation_0-logloss:0.44787\n",
      "[63]\tvalidation_0-logloss:0.44784\n",
      "[64]\tvalidation_0-logloss:0.44777\n",
      "[65]\tvalidation_0-logloss:0.44774\n",
      "[66]\tvalidation_0-logloss:0.44758\n",
      "[67]\tvalidation_0-logloss:0.44750\n",
      "[68]\tvalidation_0-logloss:0.44758\n",
      "[69]\tvalidation_0-logloss:0.44748\n",
      "[70]\tvalidation_0-logloss:0.44739\n",
      "[71]\tvalidation_0-logloss:0.44738\n",
      "[72]\tvalidation_0-logloss:0.44685\n",
      "[73]\tvalidation_0-logloss:0.44631\n",
      "[74]\tvalidation_0-logloss:0.44651\n",
      "[75]\tvalidation_0-logloss:0.44626\n",
      "[76]\tvalidation_0-logloss:0.44608\n",
      "[77]\tvalidation_0-logloss:0.44617\n",
      "[78]\tvalidation_0-logloss:0.44623\n",
      "[79]\tvalidation_0-logloss:0.44604\n",
      "[80]\tvalidation_0-logloss:0.44544\n",
      "[81]\tvalidation_0-logloss:0.44517\n",
      "[82]\tvalidation_0-logloss:0.44513\n",
      "[83]\tvalidation_0-logloss:0.44471\n",
      "[84]\tvalidation_0-logloss:0.44468\n",
      "[85]\tvalidation_0-logloss:0.44440\n",
      "[86]\tvalidation_0-logloss:0.44442\n",
      "[87]\tvalidation_0-logloss:0.44430\n",
      "[88]\tvalidation_0-logloss:0.44396\n",
      "[89]\tvalidation_0-logloss:0.44410\n",
      "[90]\tvalidation_0-logloss:0.44386\n",
      "[91]\tvalidation_0-logloss:0.44371\n",
      "[92]\tvalidation_0-logloss:0.44362\n",
      "[93]\tvalidation_0-logloss:0.44343\n",
      "[94]\tvalidation_0-logloss:0.44341\n",
      "[95]\tvalidation_0-logloss:0.44341\n",
      "[96]\tvalidation_0-logloss:0.44319\n",
      "[97]\tvalidation_0-logloss:0.44309\n",
      "[98]\tvalidation_0-logloss:0.44308\n",
      "[99]\tvalidation_0-logloss:0.44273\n"
     ]
    },
    {
     "data": {
      "text/plain": [
       "XGBClassifier(base_score=0.5, booster='gbtree', callbacks=None,\n",
       "              colsample_bylevel=1, colsample_bynode=1, colsample_bytree=1,\n",
       "              early_stopping_rounds=10, enable_categorical=False,\n",
       "              eval_metric=None, feature_types=None, gamma=0, gpu_id=-1,\n",
       "              grow_policy='depthwise', importance_type=None,\n",
       "              interaction_constraints='', learning_rate=0.300000012,\n",
       "              max_bin=256, max_cat_threshold=64, max_cat_to_onehot=4,\n",
       "              max_delta_step=0, max_depth=6, max_leaves=0, min_child_weight=1,\n",
       "              missing=nan, monotone_constraints='()', n_estimators=100,\n",
       "              n_jobs=0, num_parallel_tree=1, predictor='auto', random_state=0, ...)"
      ]
     },
     "execution_count": 9,
     "metadata": {},
     "output_type": "execute_result"
    },
    {
     "data": {
      "text/plain": [
       "0.7782565759942545"
      ]
     },
     "execution_count": 9,
     "metadata": {},
     "output_type": "execute_result"
    },
    {
     "name": "stdout",
     "output_type": "stream",
     "text": [
      "confusion_matrix : \n",
      " [[5725 1302]\n",
      " [1168 2944]]\n"
     ]
    },
    {
     "data": {
      "text/plain": [
       "<AxesSubplot:title={'center':'Confusion Matrix'}, xlabel='Predicted label', ylabel='True label'>"
      ]
     },
     "execution_count": 9,
     "metadata": {},
     "output_type": "execute_result"
    },
    {
     "data": {
      "image/png": "[encoded data removed]",
      "text/plain": [
       "<Figure size 576x432 with 2 Axes>"
      ]
     },
     "metadata": {
      "needs_background": "light"
     },
     "output_type": "display_data"
    }
   ],
   "source": [
    "import xgboost as xgb\n",
    "import pandas as pd\n",
    "import seaborn as sns\n",
    "from xgboost import XGBClassifier\n",
    "from sklearn.metrics import accuracy_score\n",
    "\n",
    "model = xgb.XGBClassifier(early_stopping_rounds=10)\n",
    "eval_set = [(X_test, y_test)]\n",
    "model.fit(X_train, y_train, eval_set=eval_set)#, verbose=True\n",
    "\n",
    "pred = model.predict(X_test)\n",
    "acc = accuracy_score(y_test,pred)\n",
    "acc\n",
    "\n",
    "from sklearn.metrics import confusion_matrix\n",
    "import scikitplot as skplt\n",
    "\n",
    "pred = model.predict(X_test)\n",
    "# 실제 , 예측\n",
    "cm = confusion_matrix(y_test, pred)\n",
    "print('confusion_matrix : \\n', cm)\n",
    "\n",
    "skplt.metrics.plot_confusion_matrix(y_test,pred,figsize=(8,6))\n",
    "plt.show()"
   ]
  },
  {
   "cell_type": "code",
   "execution_count": 10,
   "id": "a88397be",
   "metadata": {},
   "outputs": [
    {
     "name": "stdout",
     "output_type": "stream",
     "text": [
      "99\n",
      "0.4427296433494823\n"
     ]
    },
    {
     "data": {
      "text/plain": [
       "0.44272964488104294"
      ]
     },
     "execution_count": 10,
     "metadata": {},
     "output_type": "execute_result"
    },
    {
     "data": {
      "text/plain": [
       "array([0.00426044, 0.8394392 , 0.01212047, 0.00586408, 0.00541682,\n",
       "       0.0057042 , 0.00469223, 0.00379801, 0.00536723, 0.00401257,\n",
       "       0.00521885, 0.00487424, 0.00482933, 0.00532099, 0.00725594,\n",
       "       0.00564713, 0.00542283, 0.0054879 , 0.004886  , 0.00651039,\n",
       "       0.00606318, 0.00651765, 0.01426078, 0.        , 0.0138058 ,\n",
       "       0.01322366], dtype=float32)"
      ]
     },
     "execution_count": 10,
     "metadata": {},
     "output_type": "execute_result"
    },
    {
     "data": {
      "text/plain": [
       "<BarContainer object of 26 artists>"
      ]
     },
     "execution_count": 10,
     "metadata": {},
     "output_type": "execute_result"
    },
    {
     "data": {
      "image/png": "[encoded data removed]",
      "text/plain": [
       "<Figure size 432x288 with 1 Axes>"
      ]
     },
     "metadata": {
      "needs_background": "light"
     },
     "output_type": "display_data"
    }
   ],
   "source": [
    "# best_iteration\n",
    "print(model.best_iteration)\n",
    "print(model.best_score)\n",
    "\n",
    "from sklearn import metrics\n",
    "y_pred = model.predict_proba(X_test)\n",
    "metrics.log_loss(y_test, y_pred)\n",
    "\n",
    "# feature_importances_\n",
    "import matplotlib.pyplot as plt \n",
    "model.feature_importances_\n",
    "plt.barh(df.iloc[:,:-1].columns, model.feature_importances_)"
   ]
  },
  {
   "cell_type": "markdown",
   "id": "7d6268f4",
   "metadata": {},
   "source": [
    "### LGBMClassifier"
   ]
  },
  {
   "cell_type": "code",
   "execution_count": 11,
   "id": "e834087a",
   "metadata": {},
   "outputs": [
    {
     "name": "stdout",
     "output_type": "stream",
     "text": [
      "[1]\tvalid_0's binary_logloss: 0.629699\n",
      "Training until validation scores don't improve for 10 rounds\n",
      "[2]\tvalid_0's binary_logloss: 0.606\n",
      "[3]\tvalid_0's binary_logloss: 0.585945\n",
      "[4]\tvalid_0's binary_logloss: 0.569196\n",
      "[5]\tvalid_0's binary_logloss: 0.555091\n",
      "[6]\tvalid_0's binary_logloss: 0.542841\n",
      "[7]\tvalid_0's binary_logloss: 0.532537\n",
      "[8]\tvalid_0's binary_logloss: 0.523629\n",
      "[9]\tvalid_0's binary_logloss: 0.515708\n",
      "[10]\tvalid_0's binary_logloss: 0.509227\n",
      "[11]\tvalid_0's binary_logloss: 0.503602\n",
      "[12]\tvalid_0's binary_logloss: 0.498581\n",
      "[13]\tvalid_0's binary_logloss: 0.494121\n",
      "[14]\tvalid_0's binary_logloss: 0.490857\n",
      "[15]\tvalid_0's binary_logloss: 0.487633\n",
      "[16]\tvalid_0's binary_logloss: 0.48436\n",
      "[17]\tvalid_0's binary_logloss: 0.481807\n",
      "[18]\tvalid_0's binary_logloss: 0.47944\n",
      "[19]\tvalid_0's binary_logloss: 0.477462\n",
      "[20]\tvalid_0's binary_logloss: 0.475313\n",
      "[21]\tvalid_0's binary_logloss: 0.474085\n",
      "[22]\tvalid_0's binary_logloss: 0.472616\n",
      "[23]\tvalid_0's binary_logloss: 0.471005\n",
      "[24]\tvalid_0's binary_logloss: 0.470127\n",
      "[25]\tvalid_0's binary_logloss: 0.469117\n",
      "[26]\tvalid_0's binary_logloss: 0.468324\n",
      "[27]\tvalid_0's binary_logloss: 0.467686\n",
      "[28]\tvalid_0's binary_logloss: 0.466934\n",
      "[29]\tvalid_0's binary_logloss: 0.466111\n",
      "[30]\tvalid_0's binary_logloss: 0.465748\n",
      "[31]\tvalid_0's binary_logloss: 0.465143\n",
      "[32]\tvalid_0's binary_logloss: 0.464725\n",
      "[33]\tvalid_0's binary_logloss: 0.464104\n",
      "[34]\tvalid_0's binary_logloss: 0.463647\n",
      "[35]\tvalid_0's binary_logloss: 0.463238\n",
      "[36]\tvalid_0's binary_logloss: 0.462701\n",
      "[37]\tvalid_0's binary_logloss: 0.462165\n",
      "[38]\tvalid_0's binary_logloss: 0.461941\n",
      "[39]\tvalid_0's binary_logloss: 0.461749\n",
      "[40]\tvalid_0's binary_logloss: 0.461549\n",
      "[41]\tvalid_0's binary_logloss: 0.461209\n",
      "[42]\tvalid_0's binary_logloss: 0.460988\n",
      "[43]\tvalid_0's binary_logloss: 0.460532\n",
      "[44]\tvalid_0's binary_logloss: 0.460406\n",
      "[45]\tvalid_0's binary_logloss: 0.460051\n",
      "[46]\tvalid_0's binary_logloss: 0.45979\n",
      "[47]\tvalid_0's binary_logloss: 0.45972\n",
      "[48]\tvalid_0's binary_logloss: 0.459291\n",
      "[49]\tvalid_0's binary_logloss: 0.458961\n",
      "[50]\tvalid_0's binary_logloss: 0.458701\n",
      "[51]\tvalid_0's binary_logloss: 0.458582\n",
      "[52]\tvalid_0's binary_logloss: 0.458468\n",
      "[53]\tvalid_0's binary_logloss: 0.458406\n",
      "[54]\tvalid_0's binary_logloss: 0.458442\n",
      "[55]\tvalid_0's binary_logloss: 0.458234\n",
      "[56]\tvalid_0's binary_logloss: 0.458163\n",
      "[57]\tvalid_0's binary_logloss: 0.457946\n",
      "[58]\tvalid_0's binary_logloss: 0.457871\n",
      "[59]\tvalid_0's binary_logloss: 0.457607\n",
      "[60]\tvalid_0's binary_logloss: 0.457414\n",
      "[61]\tvalid_0's binary_logloss: 0.457431\n",
      "[62]\tvalid_0's binary_logloss: 0.457267\n",
      "[63]\tvalid_0's binary_logloss: 0.457223\n",
      "[64]\tvalid_0's binary_logloss: 0.457062\n",
      "[65]\tvalid_0's binary_logloss: 0.456942\n",
      "[66]\tvalid_0's binary_logloss: 0.457067\n",
      "[67]\tvalid_0's binary_logloss: 0.457106\n",
      "[68]\tvalid_0's binary_logloss: 0.456842\n",
      "[69]\tvalid_0's binary_logloss: 0.456708\n",
      "[70]\tvalid_0's binary_logloss: 0.456647\n",
      "[71]\tvalid_0's binary_logloss: 0.456409\n",
      "[72]\tvalid_0's binary_logloss: 0.456436\n",
      "[73]\tvalid_0's binary_logloss: 0.456428\n",
      "[74]\tvalid_0's binary_logloss: 0.456254\n",
      "[75]\tvalid_0's binary_logloss: 0.456224\n",
      "[76]\tvalid_0's binary_logloss: 0.456095\n",
      "[77]\tvalid_0's binary_logloss: 0.456142\n",
      "[78]\tvalid_0's binary_logloss: 0.456075\n",
      "[79]\tvalid_0's binary_logloss: 0.455786\n",
      "[80]\tvalid_0's binary_logloss: 0.455776\n",
      "[81]\tvalid_0's binary_logloss: 0.455656\n",
      "[82]\tvalid_0's binary_logloss: 0.455697\n",
      "[83]\tvalid_0's binary_logloss: 0.455673\n",
      "[84]\tvalid_0's binary_logloss: 0.45568\n",
      "[85]\tvalid_0's binary_logloss: 0.455812\n",
      "[86]\tvalid_0's binary_logloss: 0.455872\n",
      "[87]\tvalid_0's binary_logloss: 0.455852\n",
      "[88]\tvalid_0's binary_logloss: 0.455787\n",
      "[89]\tvalid_0's binary_logloss: 0.455813\n",
      "[90]\tvalid_0's binary_logloss: 0.456011\n",
      "[91]\tvalid_0's binary_logloss: 0.456267\n",
      "Early stopping, best iteration is:\n",
      "[81]\tvalid_0's binary_logloss: 0.455656\n"
     ]
    },
    {
     "data": {
      "text/plain": [
       "LGBMClassifier(boosting_type='goss', max_depth=5, random_state=0)"
      ]
     },
     "execution_count": 11,
     "metadata": {},
     "output_type": "execute_result"
    },
    {
     "data": {
      "text/plain": [
       "0.7609300655355059"
      ]
     },
     "execution_count": 11,
     "metadata": {},
     "output_type": "execute_result"
    },
    {
     "name": "stdout",
     "output_type": "stream",
     "text": [
      "confusion_matrix : \n",
      " [[5559 1468]\n",
      " [1195 2917]]\n"
     ]
    },
    {
     "data": {
      "text/plain": [
       "<AxesSubplot:title={'center':'Confusion Matrix'}, xlabel='Predicted label', ylabel='True label'>"
      ]
     },
     "execution_count": 11,
     "metadata": {},
     "output_type": "execute_result"
    },
    {
     "data": {
      "image/png": "[encoded data removed]",
      "text/plain": [
       "<Figure size 576x432 with 2 Axes>"
      ]
     },
     "metadata": {
      "needs_background": "light"
     },
     "output_type": "display_data"
    }
   ],
   "source": [
    "import lightgbm as lgb # 분류 회귀 다 됨\n",
    "model = lgb.LGBMClassifier(boosting_type='goss',max_depth=5, random_state=0)\n",
    "eval_set = [(X_test, y_test)]\n",
    "callbacks = []  # 리스트 객체 사용자함수를 담을 곳\n",
    "callbacks.append(lgb.early_stopping(stopping_rounds=10)) # 부스팅 반복 횟수 제어\n",
    "callbacks.append(lgb.log_evaluation())\n",
    "model.fit(X_train, y_train, eval_set=eval_set, callbacks=callbacks)\n",
    "\n",
    "pred = model.predict(X_test)\n",
    "acc = accuracy_score(y_test,pred)\n",
    "acc\n",
    "\n",
    "from sklearn.metrics import confusion_matrix\n",
    "import scikitplot as skplt\n",
    "\n",
    "pred = model.predict(X_test)\n",
    "# 실제 , 예측\n",
    "cm = confusion_matrix(y_test, pred)\n",
    "print('confusion_matrix : \\n', cm)\n",
    "\n",
    "skplt.metrics.plot_confusion_matrix(y_test,pred,figsize=(8,6))\n",
    "plt.show()"
   ]
  },
  {
   "cell_type": "code",
   "execution_count": 12,
   "id": "29caa8e5",
   "metadata": {},
   "outputs": [
    {
     "name": "stdout",
     "output_type": "stream",
     "text": [
      "81\n",
      "defaultdict(<class 'collections.OrderedDict'>, {'valid_0': OrderedDict([('binary_logloss', 0.4556555797276234)])})\n"
     ]
    }
   ],
   "source": [
    "print(model.best_iteration_)\n",
    "print(model.best_score_)"
   ]
  },
  {
   "cell_type": "code",
   "execution_count": 13,
   "id": "8e66feb6",
   "metadata": {},
   "outputs": [
    {
     "data": {
      "text/plain": [
       "0.4556555797276236"
      ]
     },
     "execution_count": 13,
     "metadata": {},
     "output_type": "execute_result"
    }
   ],
   "source": [
    "from sklearn import metrics\n",
    "y_pred = model.predict_proba(X_test)\n",
    "metrics.log_loss(y_test, y_pred)"
   ]
  },
  {
   "cell_type": "code",
   "execution_count": 14,
   "id": "d75338bd",
   "metadata": {},
   "outputs": [
    {
     "data": {
      "text/plain": [
       "<AxesSubplot:title={'center':'Metric during training'}, xlabel='Iterations', ylabel='binary_logloss'>"
      ]
     },
     "execution_count": 14,
     "metadata": {},
     "output_type": "execute_result"
    },
    {
     "data": {
      "image/png": "[encoded data removed]",
      "text/plain": [
       "<Figure size 432x288 with 1 Axes>"
      ]
     },
     "metadata": {
      "needs_background": "light"
     },
     "output_type": "display_data"
    }
   ],
   "source": [
    "lgb.plot_metric(model)"
   ]
  },
  {
   "cell_type": "code",
   "execution_count": 15,
   "id": "a9c8f9ad",
   "metadata": {},
   "outputs": [
    {
     "data": {
      "text/plain": [
       "<AxesSubplot:title={'center':'Feature importance'}, xlabel='Feature importance', ylabel='Features'>"
      ]
     },
     "execution_count": 15,
     "metadata": {},
     "output_type": "execute_result"
    },
    {
     "data": {
      "image/png": "[encoded data removed]",
      "text/plain": [
       "<Figure size 432x288 with 1 Axes>"
      ]
     },
     "metadata": {
      "needs_background": "light"
     },
     "output_type": "display_data"
    }
   ],
   "source": [
    "lgb.plot_importance(model)"
   ]
  },
  {
   "cell_type": "markdown",
   "id": "bb8db083",
   "metadata": {},
   "source": [
    "### Logistic Regression"
   ]
  },
  {
   "cell_type": "code",
   "execution_count": 16,
   "id": "d2481f6d",
   "metadata": {},
   "outputs": [
    {
     "data": {
      "text/plain": [
       "LogisticRegression(max_iter=10000)"
      ]
     },
     "execution_count": 16,
     "metadata": {},
     "output_type": "execute_result"
    },
    {
     "data": {
      "text/plain": [
       "['MINIproject']"
      ]
     },
     "execution_count": 16,
     "metadata": {},
     "output_type": "execute_result"
    },
    {
     "data": {
      "text/plain": [
       "0.7075141395098303"
      ]
     },
     "execution_count": 16,
     "metadata": {},
     "output_type": "execute_result"
    },
    {
     "data": {
      "text/plain": [
       "0.7075141395098303"
      ]
     },
     "execution_count": 16,
     "metadata": {},
     "output_type": "execute_result"
    },
    {
     "name": "stdout",
     "output_type": "stream",
     "text": [
      "confusion_matrix : \n",
      " [[5559 1468]\n",
      " [1195 2917]]\n"
     ]
    },
    {
     "data": {
      "text/plain": [
       "<AxesSubplot:title={'center':'Confusion Matrix'}, xlabel='Predicted label', ylabel='True label'>"
      ]
     },
     "execution_count": 16,
     "metadata": {},
     "output_type": "execute_result"
    },
    {
     "data": {
      "image/png": "[encoded data removed]",
      "text/plain": [
       "<Figure size 576x432 with 2 Axes>"
      ]
     },
     "metadata": {
      "needs_background": "light"
     },
     "output_type": "display_data"
    }
   ],
   "source": [
    "#Logistic Regression\n",
    "from sklearn.linear_model import LogisticRegression\n",
    "model2 = LogisticRegression(max_iter = 10000)\n",
    "\n",
    "model2.fit(X_train,y_train)\n",
    "\n",
    "import joblib\n",
    "joblib.dump(model2, 'MINIproject')\n",
    "\n",
    "model2.score(X_test,y_test)\n",
    "pred_2 = model2.predict(X_test)\n",
    "acc2 = accuracy_score(y_test,pred_2)\n",
    "acc2\n",
    "\n",
    "# 실제 , 예측\n",
    "cm_2 = confusion_matrix(y_test, pred)\n",
    "print('confusion_matrix : \\n', cm_2)\n",
    "\n",
    "skplt.metrics.plot_confusion_matrix(y_test,pred_2,figsize=(8,6))\n",
    "plt.show()"
   ]
  },
  {
   "cell_type": "markdown",
   "id": "80cb08d4",
   "metadata": {},
   "source": [
    "### Support Vector Machine"
   ]
  },
  {
   "cell_type": "code",
   "execution_count": 17,
   "id": "079802af",
   "metadata": {},
   "outputs": [
    {
     "data": {
      "text/plain": [
       "SVC()"
      ]
     },
     "execution_count": 17,
     "metadata": {},
     "output_type": "execute_result"
    },
    {
     "data": {
      "text/plain": [
       "0.6308465750965078"
      ]
     },
     "execution_count": 17,
     "metadata": {},
     "output_type": "execute_result"
    },
    {
     "name": "stdout",
     "output_type": "stream",
     "text": [
      "confusion_matrix : \n",
      " [[7027    0]\n",
      " [4112    0]]\n"
     ]
    },
    {
     "data": {
      "text/plain": [
       "<AxesSubplot:title={'center':'Confusion Matrix'}, xlabel='Predicted label', ylabel='True label'>"
      ]
     },
     "execution_count": 17,
     "metadata": {},
     "output_type": "execute_result"
    },
    {
     "data": {
      "image/png": "[encoded data removed]",
      "text/plain": [
       "<Figure size 576x432 with 2 Axes>"
      ]
     },
     "metadata": {
      "needs_background": "light"
     },
     "output_type": "display_data"
    }
   ],
   "source": [
    "### 모델 - svm ###\n",
    "\n",
    "from sklearn import svm\n",
    "from sklearn.metrics import accuracy_score\n",
    "\n",
    "\n",
    "model = svm.SVC()\n",
    "model.fit(X_train, y_train)\n",
    "pred = model.predict(X_test)\n",
    "acc = accuracy_score(y_test, pred) \n",
    "acc \n",
    "\n",
    "from sklearn.metrics import confusion_matrix \n",
    "import scikitplot as skplt \n",
    "pred = model.predict(X_test) # 실제 , 예측 \n",
    "cm = confusion_matrix(y_test, pred) \n",
    "print('confusion_matrix : \\n', cm) \n",
    "skplt.metrics.plot_confusion_matrix(y_test,pred,figsize=(8,6)) \n",
    "plt.show()"
   ]
  },
  {
   "cell_type": "markdown",
   "id": "7f064952",
   "metadata": {},
   "source": [
    "### 4. 훈련02 : 표준화, 정규화"
   ]
  },
  {
   "cell_type": "code",
   "execution_count": null,
   "id": "05fb1ba1",
   "metadata": {},
   "outputs": [],
   "source": [
    "from sklearn.preprocessing import StandardScaler\n",
    "stdsc = StandardScaler()\n",
    "\n",
    "x_train_std = stdsc.fit_transform(X_train)\n",
    "x_test_std = stdsc.transform(X_test)\n",
    "\n",
    "print(\"x_train_std mean :\", x_train_std.mean())\n",
    "print(\"x_train_std mean :\", x_train_std.mean())"
   ]
  }
 ],
 "metadata": {
  "kernelspec": {
   "display_name": "Python 3 (ipykernel)",
   "language": "python",
   "name": "python3"
  },
  "language_info": {
   "codemirror_mode": {
    "name": "ipython",
    "version": 3
   },
   "file_extension": ".py",
   "mimetype": "text/x-python",
   "name": "python",
   "nbconvert_exporter": "python",
   "pygments_lexer": "ipython3",
   "version": "3.9.12"
  }
 },
 "nbformat": 4,
 "nbformat_minor": 5
}
