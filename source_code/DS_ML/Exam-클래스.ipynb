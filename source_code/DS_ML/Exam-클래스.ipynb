{
 "cells": [
  {
   "cell_type": "markdown",
   "id": "c9155ab3",
   "metadata": {},
   "source": [
    "### 클래스(Class)"
   ]
  },
  {
   "cell_type": "markdown",
   "id": "e85ec8cc",
   "metadata": {},
   "source": [
    "* 파이썬 클래스 관련 용어\n",
    "(1) 클래스(class) : class 문으로 정의하며, 멤버와 메서드를 가지는 객체이다, 새로운 이름 공간을 갖는 단위\n",
    "(2) 클래스 객체(class object) : 클래스와 같은 의미\n",
    "\n",
    "(3) 클래스 인스턴스  : 클래스를 호출하여 생성된 객체  \n",
    "(4) 클래스 인스턴스 객체 : 클래스 인스턴스와 같은 의미\n",
    "\n",
    "(5) 멤버 : 클래스 혹은 클래스 인스턴스 공간에 정의 된 변수\n",
    "(6) 메서드 : 클래스 공간에 정의된 함수, def 사용\n",
    "(7) 속성(Attribute) : 멤버와 메서드 전체를 가리킨다\n",
    "\n",
    "(8) 상속 : 상위 클래스의 속성과 행동을 그대로 받아들이고 추가로 필요한 기능"
   ]
  },
  {
   "cell_type": "code",
   "execution_count": 1,
   "id": "49b2be00",
   "metadata": {},
   "outputs": [
    {
     "name": "stdout",
     "output_type": "stream",
     "text": [
      "<class '__main__.Simple'>\n",
      "<__main__.Simple object at 0x0000023372F67F70>\n",
      "<__main__.Simple object at 0x0000023372F678B0>\n"
     ]
    }
   ],
   "source": [
    "# class 클래스 이름 :\n",
    "#        속성 .... \n",
    "\n",
    "# 클래스 생성\n",
    "class Simple:\n",
    "    pass\n",
    "\n",
    "print(Simple)\n",
    "\n",
    "# 인스턴스의 생성\n",
    "s1 = Simple()\n",
    "print(s1)\n",
    "\n",
    "s2 = Simple()\n",
    "print(s2)\n",
    "\n",
    "# 인스턴스의 삭제(소멸) : 파이썬에서는 종료시 자동으로 소멸\n",
    "del s1\n",
    "# print(s1)  # NameError "
   ]
  },
  {
   "cell_type": "code",
   "execution_count": 2,
   "id": "75bc0706",
   "metadata": {},
   "outputs": [
    {
     "name": "stdout",
     "output_type": "stream",
     "text": [
      "100\n",
      "[1, 2, 3, 4]\n",
      "Hi\n",
      "300\n",
      "300\n",
      "500\n",
      "300\n",
      "300\n",
      "700\n",
      "500\n",
      "300\n"
     ]
    }
   ],
   "source": [
    "# 멤버 접근 : 클래스 멤버와 인스턴스 멤버\n",
    "\n",
    "# (1) 클래스 멤버\n",
    "class MyClass:\n",
    "    cl_mem = 100         # 클래스 멤버\n",
    "    cl_list = [1,2,3,4]  # 클래스 멤버\n",
    "    a = 'Hi'             # 클래스 멤버\n",
    "\n",
    "# 클래스 객체를 통해서 접근    \n",
    "print(MyClass.cl_mem)\n",
    "print(MyClass.cl_list)\n",
    "print(MyClass.a)    \n",
    "\n",
    "# 변경\n",
    "MyClass.cl_mem = 300\n",
    "print(MyClass.cl_mem)\n",
    "\n",
    "# 인스턴스 객체를 통해서 접근\n",
    "m1 = MyClass()   #  인스턴스의 생성\n",
    "print(m1.cl_mem)\n",
    "m1.cl_mem = 500\n",
    "print(m1.cl_mem)       # 500\n",
    "print(MyClass.cl_mem)  # 300\n",
    "\n",
    "m2 = MyClass()   #  인스턴스의 생성\n",
    "print(m2.cl_mem)\n",
    "m2.cl_mem = 700\n",
    "print(m2.cl_mem)       # 700\n",
    "print(m1.cl_mem)       # 500\n",
    "print(MyClass.cl_mem)  # 300"
   ]
  },
  {
   "cell_type": "code",
   "execution_count": null,
   "id": "414cfaed",
   "metadata": {},
   "outputs": [],
   "source": [
    "# (2) 인스턴스 멤버의 구현과 접근 : 클래스의 메서드 내에 구현한 멤버\n",
    "\n",
    "# 생성자 메서드의 구현\n",
    "class MyClass2:\n",
    "    def __init__(self,a,b): # 생성자 메서드,인스턴스 객체를 생성할 때 자동으로 호출, 인스턴스 멤버 초기화\n",
    "                            # 변수명을 self 대신 다른 이름으로 써도 가능하다 \n",
    "                            # self는 파이썬 내장 예약어는 아님\n",
    "        print('MyClass2 생성자가 호출됨')\n",
    "        print('__init__ :',self,a,b)\n",
    "        \n",
    "m1 = MyClass2(10,20)    # 인스턴스 생성    \n",
    "print('m1:       ',m1)  "
   ]
  },
  {
   "cell_type": "code",
   "execution_count": null,
   "id": "2cfdec4f",
   "metadata": {},
   "outputs": [],
   "source": [
    "# 인스턴스 멤버의 생성과 초기화 : 생성자 메서드에 구현\n",
    "class MyClass2:\n",
    "    def __init__(self,var1): # 생성자 메서드, 인스턴스 메서드, 첫인자는 인스턴스 자신\n",
    "        print('MyClass2 생성자가 호출됨')\n",
    "        self.in_mem = 0        # 인스턴스 멤버\n",
    "        self.in_list = [0]     # 인스턴스 멤버\n",
    "        self.a = var1          # 인스턴스 멤버\n",
    "\n",
    "m1 = MyClass2(50)    # 인스턴스의 생성\n",
    "print(m1.in_mem)     # 인스턴스의 멤버의 접근, 인스턴스를 통해서 접근가능\n",
    "print(m1.a)\n",
    "m1.in_mem = 1        # 인스턴스 멤버의 값을 변경\n",
    "m1.a = 80\n",
    "print(m1.in_mem)     # 1 \n",
    "print(m1.a)          # 80\n",
    "\n",
    "m2 = MyClass2('Hi')   # 인스턴스의 생성\n",
    "print(m2.in_mem)      # 0 \n",
    "print(m2.a)           # 'Hi'\n",
    "\n",
    "print(m1.in_mem)     # 1 \n",
    "print(m1.a)          # 80"
   ]
  },
  {
   "cell_type": "code",
   "execution_count": null,
   "id": "3033114e",
   "metadata": {},
   "outputs": [],
   "source": [
    "# 인스턴스 메서드의 구현 : 생성된 인스턴스를 통해서 호출이 가능\n",
    "class MyClass2:\n",
    "    def __init__(self,var1): # 생성자 메서드, 인스턴스 메서드, 첫인자는 인스턴스 자신\n",
    "        print('MyClass2 생성자가 호출됨')\n",
    "        self.in_mem = 0        #인스턴스 멤버 초기화\n",
    "        self.in_list = [0]    \n",
    "        self.a = var1         \n",
    "        \n",
    "    def set(self,var1,var2):  # 초기화가 되어있는 멤버변수의 값 전달 및 변경하는 메서드\n",
    "        print('set 메서드가 호출됨')\n",
    "        self.in_mem = var1     # 인스턴스 멤버 변경\n",
    "        self.a = var2         \n",
    "        \n",
    "    def get(self):    #리턴하기위한 메서드\n",
    "        print('get 메서드가 호출됨')\n",
    "        return self.in_mem,self.a\n",
    "    \n",
    "    def __del__(self):  # 소멸자 명시\n",
    "        print('MyClass2 소멸자가 호출됨')\n",
    "        \n",
    "m1 = MyClass2(0)  \n",
    "print(m1.in_mem,m1.a)  \n",
    "\n",
    "m1.set(30,40)    \n",
    "print(m1.in_mem,m1.a)   \n",
    "\n",
    "a,b = m1.get()    \n",
    "print(a,b)             \n",
    "\n",
    "del m1            "
   ]
  },
  {
   "cell_type": "code",
   "execution_count": null,
   "id": "a7cdade5",
   "metadata": {},
   "outputs": [],
   "source": [
    "# 파이썬 클래스의 메서드\n",
    "# (1) 일반 메서드(인스턴스 메서드)  : self인자로 시작\n",
    "# (2) 정적 메서드(static method)  # @staticmethod , 인스턴스를 만들지 않아도 호출 가능\n",
    "# (3) 클래스 메서드(class method) # @classmethod  , 인스턴스를 만들지 않아도 호출 가능, 첫 인자가 클래스 객체"
   ]
  },
  {
   "cell_type": "code",
   "execution_count": 3,
   "id": "b8105948",
   "metadata": {},
   "outputs": [
    {
     "data": {
      "text/plain": [
       "30"
      ]
     },
     "execution_count": 3,
     "metadata": {},
     "output_type": "execute_result"
    }
   ],
   "source": [
    "# (1) 일반 메서드(인스턴스 메서드) : 인스턴스 객체를 통하여 접근, 메서드의 첫인수로 self를 사용\n",
    "class MyClass:\n",
    "    def add(self,a,b):\n",
    "        return a + b\n",
    "m1 = MyClass() \n",
    "m1.add(10,20)"
   ]
  },
  {
   "cell_type": "code",
   "execution_count": 4,
   "id": "52ca5926",
   "metadata": {},
   "outputs": [
    {
     "name": "stdout",
     "output_type": "stream",
     "text": [
      "30\n",
      "80\n"
     ]
    }
   ],
   "source": [
    "# (2) 정적 메서드(static method)  : 장식자 @staticmethod를 메서드 앞에 반드시 사용\n",
    "#                                  인스턴스를 만들지 않아도 호출 가능,메서드의 첫인수로 self를 받지 않는다\n",
    "class MyClass:\n",
    "    @staticmethod\n",
    "    def add(a,b):         # 정적 메서드\n",
    "        return a + b\n",
    "    \n",
    "print(MyClass.add(10,20)) # 인스턴스 객체 없이 클래스를 통하여 직접 호출\n",
    "\n",
    "m1 = MyClass()\n",
    "print(m1.add(30,50))      # 인스턴스 객체를 통하여 호출 가능"
   ]
  },
  {
   "cell_type": "code",
   "execution_count": 6,
   "id": "b48bcae6",
   "metadata": {},
   "outputs": [
    {
     "name": "stdout",
     "output_type": "stream",
     "text": [
      "(30, '클래스멤버')\n",
      "(80, '클래스멤버')\n"
     ]
    }
   ],
   "source": [
    "# (3) 클래스 메서드(class method) : 장식자  @classmethod 를 메서드 앞에 반드시 사용\n",
    "#                              인스턴스를 만들지 않아도 호출 가능, 첫 인자가 클래스 객체\n",
    "class MyClass:\n",
    "    cl_mem = '클래스멤버'\n",
    "    @classmethod\n",
    "    def add(cls,a,b):         # 클래스 메서드,  클래스 멤버와 같이 사용, cls는 클래스 객체\n",
    "        return a + b,cls.cl_mem\n",
    "    \n",
    "print(MyClass.add(10,20)) # 인스턴스 객체 없이 클래스를 통하여 직접 호출\n",
    "\n",
    "m1 = MyClass()\n",
    "print(m1.add(30,50))      # 인스턴스 객체를 통하여 호출 가능"
   ]
  },
  {
   "cell_type": "markdown",
   "id": "31484911",
   "metadata": {},
   "source": [
    "### 클래스 상속"
   ]
  },
  {
   "cell_type": "markdown",
   "id": "3e5cbdfb",
   "metadata": {},
   "source": [
    "#### 클래스 A에서 상속된 클래스 B가 있다고 할때, \n",
    "#### 클래스 A를 기반(Base) 클래스, 부모(Parent) 클래스 또는 상위(Super) 클래스라고 하며, \n",
    "#### 클래스 B를 파생(Derived) 클래스, 자식(Child) 클래스 또는 하위(Sub) 클래스라 한다.m"
   ]
  },
  {
   "cell_type": "code",
   "execution_count": 7,
   "id": "14b40372",
   "metadata": {},
   "outputs": [],
   "source": [
    "# 부모(상위,super,base) 클래스\n",
    "class Person:\n",
    "    def __init__(self,name,phone=None):\n",
    "        self.name = name               \n",
    "        self.phone = phone              \n",
    "        \n",
    "    def get_info(self):                \n",
    "        return self.name,self.phone"
   ]
  },
  {
   "cell_type": "code",
   "execution_count": 8,
   "id": "70c33230",
   "metadata": {},
   "outputs": [
    {
     "name": "stdout",
     "output_type": "stream",
     "text": [
      "('홍길동', '010-1234-1234')\n",
      "홍길동 010-1234-1234\n",
      "(<class 'object'>,)\n"
     ]
    }
   ],
   "source": [
    "p = Person('홍길동','010-1234-1234')   \n",
    "print(p.get_info())                    \n",
    "print(p.name,p.phone)                   \n",
    "print(Person.__bases__)                \n",
    "                       "
   ]
  },
  {
   "cell_type": "code",
   "execution_count": 9,
   "id": "3c1a8781",
   "metadata": {},
   "outputs": [],
   "source": [
    "# 자식(하위) 클래스\n",
    "class Employee(Person):   # 상속받은 부모클래스를 괄호안에 표현\n",
    "    def __init__(self,name,phone,position,salary): # 생성자\n",
    "        # Person.__init__(self,name,phone)\n",
    "        super().__init__(name,phone)  # 부모 클래스의 생성자를 호출\n",
    "        self.position = position\n",
    "        self.salary = salary \n",
    "        \n",
    "    def get_info(self):\n",
    "        ret = super().get_info()\n",
    "        return ret,self.position,self.salary\n",
    "\n",
    "#  super() 메서드 : 현재 클래스의 상위(부모) 클래스를 얻어 낸다      "
   ]
  },
  {
   "cell_type": "code",
   "execution_count": 10,
   "id": "13888154",
   "metadata": {},
   "outputs": [
    {
     "name": "stdout",
     "output_type": "stream",
     "text": [
      "(('김', '1111'), '과장', 500)\n"
     ]
    }
   ],
   "source": [
    "m1 = Employee('김','1111','과장',500)\n",
    "print(m1.get_info())"
   ]
  },
  {
   "cell_type": "code",
   "execution_count": null,
   "id": "224ff384",
   "metadata": {},
   "outputs": [],
   "source": []
  }
 ],
 "metadata": {
  "kernelspec": {
   "display_name": "Python 3 (ipykernel)",
   "language": "python",
   "name": "python3"
  },
  "language_info": {
   "codemirror_mode": {
    "name": "ipython",
    "version": 3
   },
   "file_extension": ".py",
   "mimetype": "text/x-python",
   "name": "python",
   "nbconvert_exporter": "python",
   "pygments_lexer": "ipython3",
   "version": "3.9.12"
  }
 },
 "nbformat": 4,
 "nbformat_minor": 5
}
