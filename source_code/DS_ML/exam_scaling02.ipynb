{
 "cells": [
  {
   "cell_type": "code",
   "execution_count": 76,
   "id": "180f469a",
   "metadata": {},
   "outputs": [],
   "source": [
    "import numpy as np\n",
    "from scipy.stats import *\n",
    "import pandas as pd\n",
    "import math\n",
    "import csv\n",
    "from sklearn.model_selection import train_test_split\n",
    "import matplotlib.pyplot as plt\n",
    "\n",
    "data = pd.read_csv('../../data/test.csv', sep=\",\",encoding = 'euc-kr')"
   ]
  },
  {
   "cell_type": "code",
   "execution_count": 77,
   "id": "4e8b3a46",
   "metadata": {},
   "outputs": [],
   "source": [
    "from IPython.core.interactiveshell import InteractiveShell\n",
    "InteractiveShell.ast_node_interactivity=\"all\""
   ]
  },
  {
   "cell_type": "code",
   "execution_count": 78,
   "id": "9f3b75f1",
   "metadata": {},
   "outputs": [],
   "source": [
    "pd_score = pd.DataFrame(data=data.to_numpy(), columns = ['kor','eng','math','grade'])\n",
    "score = pd_score.convert_dtypes()"
   ]
  },
  {
   "cell_type": "code",
   "execution_count": 79,
   "id": "a0b1e689",
   "metadata": {},
   "outputs": [
    {
     "data": {
      "text/plain": [
       "array([0, 1, 0, 1, 1, 2, 0, 2, 2, 2, 1, 1, 0, 1, 1, 2, 2, 2, 1, 2, 1, 0,\n",
       "       1, 1, 2, 0, 2, 2, 2, 1, 1, 0, 1, 1, 2, 2, 2, 1, 1, 2, 0, 2, 2, 2,\n",
       "       1, 1, 0, 1, 1, 2, 2, 2, 1, 2])"
      ]
     },
     "execution_count": 79,
     "metadata": {},
     "output_type": "execute_result"
    },
    {
     "data": {
      "text/plain": [
       "{0: 'A', 1: 'B', 2: 'C'}"
      ]
     },
     "execution_count": 79,
     "metadata": {},
     "output_type": "execute_result"
    }
   ],
   "source": [
    "from sklearn.preprocessing import LabelEncoder\n",
    "\n",
    "encoder = LabelEncoder()\n",
    "y=score['grade']\n",
    "y = encoder.fit_transform(y)\n",
    "y_mapping = {index: label for index, label in enumerate(encoder.classes_)}\n",
    "y\n",
    "y_mapping"
   ]
  },
  {
   "cell_type": "code",
   "execution_count": 64,
   "id": "0ee80089",
   "metadata": {},
   "outputs": [
    {
     "data": {
      "text/plain": [
       "(54,)"
      ]
     },
     "execution_count": 64,
     "metadata": {},
     "output_type": "execute_result"
    },
    {
     "data": {
      "text/plain": [
       "0     81\n",
       "2     81\n",
       "6     81\n",
       "12    81\n",
       "21    81\n",
       "25    81\n",
       "31    81\n",
       "40    81\n",
       "46    81\n",
       "Name: eng, dtype: Int64"
      ]
     },
     "execution_count": 64,
     "metadata": {},
     "output_type": "execute_result"
    }
   ],
   "source": [
    "score['eng'].shape\n",
    "score['eng'][score['grade']=='A']"
   ]
  },
  {
   "cell_type": "code",
   "execution_count": 66,
   "id": "99f16135",
   "metadata": {
    "scrolled": true
   },
   "outputs": [
    {
     "data": {
      "text/plain": [
       "<matplotlib.collections.PathCollection at 0x1e9582d0ee0>"
      ]
     },
     "execution_count": 66,
     "metadata": {},
     "output_type": "execute_result"
    },
    {
     "data": {
      "text/plain": [
       "<matplotlib.collections.PathCollection at 0x1e9581c5af0>"
      ]
     },
     "execution_count": 66,
     "metadata": {},
     "output_type": "execute_result"
    },
    {
     "data": {
      "text/plain": [
       "<matplotlib.collections.PathCollection at 0x1e9582b5d00>"
      ]
     },
     "execution_count": 66,
     "metadata": {},
     "output_type": "execute_result"
    },
    {
     "data": {
      "image/png": "[encoded data removed]",
      "text/plain": [
       "<Figure size 432x288 with 1 Axes>"
      ]
     },
     "metadata": {
      "needs_background": "light"
     },
     "output_type": "display_data"
    }
   ],
   "source": [
    "X_train, X_test, y_train, y_test = train_test_split(score[['kor','eng']],y, test_size=0.3, random_state=3)\n",
    "\n",
    "#3. 시각화\n",
    "# 가로축 x1, 세로 x2, 정답 라벨 y=품종\n",
    "plt.scatter(score['kor'][score['grade']=='A'], score['eng'][score['grade']=='A'], marker='x') # (가로, 세로축)\n",
    "plt.scatter(score['kor'][score['grade']=='B'], score['eng'][score['grade']=='B'], marker='x')\n",
    "plt.scatter(score['kor'][score['grade']=='C'], score['eng'][score['grade']=='C'], marker='x')\n",
    "plt.grid()\n",
    "plt.show()"
   ]
  },
  {
   "cell_type": "code",
   "execution_count": 67,
   "id": "12d57b74",
   "metadata": {},
   "outputs": [
    {
     "name": "stdout",
     "output_type": "stream",
     "text": [
      "1.0  ~ 0.0\n",
      "1.0  ~ 0.19999999999999996\n"
     ]
    }
   ],
   "source": [
    "from sklearn.preprocessing import MinMaxScaler\n",
    "\n",
    "scaler = MinMaxScaler()\n",
    "train_scale = scaler.fit_transform(X_train)\n",
    "test_scale = scaler.transform(X_test)\n",
    "\n",
    "print(train_scale.max(),' ~', train_scale.min()) ## 0\n",
    "print(test_scale.max(),' ~', test_scale.min()) ## 0"
   ]
  },
  {
   "cell_type": "code",
   "execution_count": 68,
   "id": "5943fe08",
   "metadata": {},
   "outputs": [
    {
     "name": "stdout",
     "output_type": "stream",
     "text": [
      "std_train_scale.mean: -1.0802169969325848e-16\n",
      "std_train_scale.std: 1.0\n",
      "std_test_scale.mean: 0.1891027754422937\n",
      "std_test_scale.std: 0.9275693635520873\n"
     ]
    }
   ],
   "source": [
    "from sklearn.preprocessing import StandardScaler\n",
    "std_scaler = StandardScaler()\n",
    "\n",
    "std_train_scale = std_scaler.fit_transform(X_train)\n",
    "std_test_scale = std_scaler.transform(X_test)\n",
    "\n",
    "print('std_train_scale.mean:',std_train_scale.mean())\n",
    "print('std_train_scale.std:',std_train_scale.std())\n",
    "\n",
    "print('std_test_scale.mean:',std_test_scale.mean())\n",
    "print('std_test_scale.std:',std_test_scale.std())"
   ]
  },
  {
   "cell_type": "code",
   "execution_count": 74,
   "id": "86b2dfe7",
   "metadata": {},
   "outputs": [
    {
     "data": {
      "text/plain": [
       "(-0.05500000000000001,\n",
       " 0.05500000000000001,\n",
       " -0.05500000000000001,\n",
       " 0.05500000000000001)"
      ]
     },
     "execution_count": 74,
     "metadata": {},
     "output_type": "execute_result"
    },
    {
     "data": {
      "text/plain": [
       "<matplotlib.collections.PathCollection at 0x1e95aefb190>"
      ]
     },
     "execution_count": 74,
     "metadata": {},
     "output_type": "execute_result"
    },
    {
     "data": {
      "text/plain": [
       "<matplotlib.collections.PathCollection at 0x1e95aefb610>"
      ]
     },
     "execution_count": 74,
     "metadata": {},
     "output_type": "execute_result"
    },
    {
     "data": {
      "text/plain": [
       "<matplotlib.collections.PathCollection at 0x1e95aefb8e0>"
      ]
     },
     "execution_count": 74,
     "metadata": {},
     "output_type": "execute_result"
    },
    {
     "data": {
      "text/plain": [
       "<matplotlib.legend.Legend at 0x1e95aefbac0>"
      ]
     },
     "execution_count": 74,
     "metadata": {},
     "output_type": "execute_result"
    },
    {
     "data": {
      "image/png": "[encoded data removed]",
      "text/plain": [
       "<Figure size 432x288 with 1 Axes>"
      ]
     },
     "metadata": {
      "needs_background": "light"
     },
     "output_type": "display_data"
    }
   ],
   "source": [
    "plt.axis('equal')\n",
    "plt.scatter(score['kor'],score['eng'], marker=\"x\", label=\"org\")\n",
    "x_norm = scaler.transform(score[['kor','eng']])\n",
    "x_std = std_scaler.transform(score[['kor','eng']])\n",
    "plt.scatter(x_std[:,0],x_std[:,1], c='red',marker=\"x\", label=\"std\")\n",
    "plt.scatter(x_norm[:,0],x_norm[:,1], c='green',marker=\"x\", label=\"norm\")\n",
    "plt.legend()\n",
    "plt.grid()\n",
    "plt.show()"
   ]
  },
  {
   "cell_type": "code",
   "execution_count": 70,
   "id": "45353b64",
   "metadata": {},
   "outputs": [
    {
     "name": "stderr",
     "output_type": "stream",
     "text": [
      "C:\\Anaconda3\\lib\\site-packages\\sklearn\\utils\\validation.py:993: DataConversionWarning: A column-vector y was passed when a 1d array was expected. Please change the shape of y to (n_samples, ), for example using ravel().\n",
      "  y = column_or_1d(y, warn=True)\n"
     ]
    },
    {
     "data": {
      "text/plain": [
       "LogisticRegression()"
      ]
     },
     "execution_count": 70,
     "metadata": {},
     "output_type": "execute_result"
    },
    {
     "name": "stdout",
     "output_type": "stream",
     "text": [
      "원본데이터 점수 : 1.0\n"
     ]
    },
    {
     "name": "stderr",
     "output_type": "stream",
     "text": [
      "C:\\Anaconda3\\lib\\site-packages\\sklearn\\utils\\validation.py:993: DataConversionWarning: A column-vector y was passed when a 1d array was expected. Please change the shape of y to (n_samples, ), for example using ravel().\n",
      "  y = column_or_1d(y, warn=True)\n"
     ]
    },
    {
     "data": {
      "text/plain": [
       "LogisticRegression()"
      ]
     },
     "execution_count": 70,
     "metadata": {},
     "output_type": "execute_result"
    },
    {
     "name": "stdout",
     "output_type": "stream",
     "text": [
      "정규화 점수 : 1.0\n"
     ]
    }
   ],
   "source": [
    "from sklearn.linear_model import LogisticRegression\n",
    "from matplotlib.colors import ListedColormap\n",
    "\n",
    "lr=LogisticRegression()\n",
    "lr_std = LogisticRegression()\n",
    "lr.fit(X_train,y_train)\n",
    "print('원본데이터 점수 :',lr.score(X_train,y_train))\n",
    "lr_std.fit(std_train_scale,y_train)\n",
    "print('정규화 점수 :',lr_std.score(std_train_scale,y_train))"
   ]
  },
  {
   "cell_type": "code",
   "execution_count": null,
   "id": "0a66d53f",
   "metadata": {},
   "outputs": [],
   "source": []
  }
 ],
 "metadata": {
  "kernelspec": {
   "display_name": "Python 3 (ipykernel)",
   "language": "python",
   "name": "python3"
  },
  "language_info": {
   "codemirror_mode": {
    "name": "ipython",
    "version": 3
   },
   "file_extension": ".py",
   "mimetype": "text/x-python",
   "name": "python",
   "nbconvert_exporter": "python",
   "pygments_lexer": "ipython3",
   "version": "3.9.12"
  }
 },
 "nbformat": 4,
 "nbformat_minor": 5
}
