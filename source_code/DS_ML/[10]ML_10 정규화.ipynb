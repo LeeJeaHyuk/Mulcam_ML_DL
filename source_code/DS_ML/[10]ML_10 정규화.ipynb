{
 "cells": [
  {
   "cell_type": "markdown",
   "id": "9a464bf7",
   "metadata": {},
   "source": [
    "### 정규화 선형회귀\n",
    "- 선형회귀 계수(가중치)에 대한 제약조건을 추가함으로 모델이 과적합하는 것을 막는 것\n",
    "- 과적합되면 모델의 가중치가 증가하므로 가중치를 제한한다\n",
    "- 과대적합 high variance ( 예측합들이 전반적어로 서로 흩어져 있으면 결과의 분산이 높다\n",
    "- 과소적합 high bias (예측합들이 타겟값과 전반적으로 멀리 떨어져 있으면 편향이 높다\n",
    "\n",
    "- trade off : \n",
    "    - 편향과 분산이 한쪽이 증가하면 다른쪽이 감소\n",
    "    - 한쪽이 증가할때 다른 한쪽도 증가\n",
    "    - 모델학습을 할 때 모델이 정교(복잡)해지면 편향이 감소해서 전체 오차가 줄어든다\n",
    "    - 어느 시점부터는 모델이 계속 학습을 하면서 점점 복잡해지는 순간이 오면 분산이 커지면서 모델의 전체 오차가 증가한다\n",
    "    - 정규화는 분산을 낮추어 과적합을 막는 방법이고, trade off 는 관계로 인해서 분산을 낮추는 대신 편향을 높아지는 것을 말한다\n",
    "    \n",
    "정리  \n",
    "과적합-> trade off 확인-> 정규화(분산 낮추기)   "
   ]
  },
  {
   "cell_type": "markdown",
   "id": "013f516b",
   "metadata": {},
   "source": [
    "데이터 로드 -> 모델생성과 학습 -> 모델 예측 및 평가\n",
    "\n",
    "exam) 보스턴 집값을 예측하는 연습용 데이터를 선형회귀 실습해보자"
   ]
  },
  {
   "cell_type": "code",
   "execution_count": 45,
   "id": "23f9f831",
   "metadata": {},
   "outputs": [],
   "source": [
    "#q1) 데이터 로드\n",
    "from sklearn.datasets import load_boston\n",
    "from sklearn.datasets import load_diabetes\n",
    "from sklearn.model_selection import train_test_split\n",
    "# data = load_boston()\n",
    "data = load_diabetes()\n",
    "X_train, X_test, y_train, y_test = train_test_split(data.data, data.target, random_state=42)"
   ]
  },
  {
   "cell_type": "markdown",
   "id": "d35bfbc9",
   "metadata": {},
   "source": [
    "### 1. Linear"
   ]
  },
  {
   "cell_type": "code",
   "execution_count": 46,
   "id": "fc5f9359",
   "metadata": {},
   "outputs": [
    {
     "name": "stdout",
     "output_type": "stream",
     "text": [
      "정확도 :  0.48490866359058016\n"
     ]
    }
   ],
   "source": [
    "#q2) 모델생성과 학습\n",
    "from sklearn.linear_model import LinearRegression\n",
    "# 하이퍼파라미터가 없다 OLS 방식이다\n",
    "# 선형 회귀 모델 -> Ridge, Lasso -> 경사하강법으로 최적화  -> 학습율에 하이퍼파라미터 옵셥이 있다\n",
    "\n",
    "LinearRegression = LinearRegression() # 모델 생성\n",
    "LinearRegression.fit(X_train, y_train)\n",
    "\n",
    "#q3) 모델 예측 및 평가\n",
    "score = LinearRegression.score(X_test, y_test)\n",
    "print(\"정확도 : \", score)\n"
   ]
  },
  {
   "cell_type": "markdown",
   "id": "63593fdc",
   "metadata": {},
   "source": [
    "### 2. Ridge : 선형 회귀의 비용함수에 가중치들의 제곱합을 최소화 하는 제약조건을 추가"
   ]
  },
  {
   "cell_type": "code",
   "execution_count": 47,
   "id": "65316eda",
   "metadata": {},
   "outputs": [
    {
     "name": "stdout",
     "output_type": "stream",
     "text": [
      "정확도 :  0.4384009113704954\n"
     ]
    }
   ],
   "source": [
    "#q2) 모델생성과 학습\n",
    "from sklearn.linear_model import Ridge\n",
    "# 하이퍼파라미터가 없다 OLS 방식이다\n",
    "# 선형 회귀 모델 -> Ridge, Lasso -> 경사하강법으로 최적화  -> 학습율에 하이퍼파라미터 옵셥이 있다\n",
    "\n",
    "Ridge = Ridge(alpha=1.0) # 모델 생성\n",
    "Ridge.fit(X_train, y_train)\n",
    "\n",
    "#q3) 모델 예측 및 평가\n",
    "score = Ridge.score(X_test, y_test)\n",
    "print(\"정확도 : \", score)\n"
   ]
  },
  {
   "cell_type": "markdown",
   "id": "9e227472",
   "metadata": {},
   "source": [
    "### 3. Lasso"
   ]
  },
  {
   "cell_type": "code",
   "execution_count": 48,
   "id": "47b3ba5f",
   "metadata": {},
   "outputs": [
    {
     "name": "stdout",
     "output_type": "stream",
     "text": [
      "정확도 :  0.37914194389255096\n"
     ]
    }
   ],
   "source": [
    "#q2) 모델생성과 학습\n",
    "from sklearn.linear_model import Lasso\n",
    "# 하이퍼파라미터가 없다 OLS 방식이다\n",
    "# 선형 회귀 모델 -> Ridge, Lasso -> 경사하강법으로 최적화  -> 학습율에 하이퍼파라미터 옵셥이 있다\n",
    "\n",
    "Lasso = Lasso(alpha=1.0) # 모델 생성\n",
    "Lasso.fit(X_train, y_train)\n",
    "\n",
    "#q3) 모델 예측 및 평가\n",
    "score = Lasso.score(X_test, y_test)\n",
    "print(\"정확도 : \", score)\n"
   ]
  },
  {
   "cell_type": "markdown",
   "id": "711cbf05",
   "metadata": {},
   "source": [
    "### 4. ElasticNet"
   ]
  },
  {
   "cell_type": "code",
   "execution_count": 49,
   "id": "71c1aeb8",
   "metadata": {},
   "outputs": [
    {
     "name": "stdout",
     "output_type": "stream",
     "text": [
      "정확도 :  -0.004438373013188945\n"
     ]
    }
   ],
   "source": [
    "#q2) 모델생성과 학습\n",
    "from sklearn.linear_model import ElasticNet\n",
    "# 하이퍼파라미터가 없다 OLS 방식이다\n",
    "# 선형 회귀 모델 -> Ridge, Lasso -> 경사하강법으로 최적화  -> 학습율에 하이퍼파라미터 옵셥이 있다\n",
    "\n",
    "ElasticNet = ElasticNet(alpha=1.0) # 모델 생성\n",
    "ElasticNet.fit(X_train, y_train)\n",
    "\n",
    "#q3) 모델 예측 및 평가\n",
    "score = ElasticNet.score(X_test, y_test)\n",
    "print(\"정확도 : \", score)\n"
   ]
  },
  {
   "cell_type": "code",
   "execution_count": 52,
   "id": "629c9b66",
   "metadata": {},
   "outputs": [
    {
     "name": "stdout",
     "output_type": "stream",
     "text": [
      "정규화 선형회귀 모델별 가중치(계수) 비교\n"
     ]
    },
    {
     "data": {
      "text/html": [
       "<div>\n",
       "<style scoped>\n",
       "    .dataframe tbody tr th:only-of-type {\n",
       "        vertical-align: middle;\n",
       "    }\n",
       "\n",
       "    .dataframe tbody tr th {\n",
       "        vertical-align: top;\n",
       "    }\n",
       "\n",
       "    .dataframe thead th {\n",
       "        text-align: right;\n",
       "    }\n",
       "</style>\n",
       "<table border=\"1\" class=\"dataframe\">\n",
       "  <thead>\n",
       "    <tr style=\"text-align: right;\">\n",
       "      <th></th>\n",
       "      <th>age</th>\n",
       "      <th>sex</th>\n",
       "      <th>bmi</th>\n",
       "      <th>bp</th>\n",
       "      <th>s1</th>\n",
       "      <th>s2</th>\n",
       "      <th>s3</th>\n",
       "      <th>s4</th>\n",
       "      <th>s5</th>\n",
       "      <th>s6</th>\n",
       "    </tr>\n",
       "  </thead>\n",
       "  <tbody>\n",
       "    <tr>\n",
       "      <th>LinearRegression</th>\n",
       "      <td>47.746571</td>\n",
       "      <td>-241.991804</td>\n",
       "      <td>531.968569</td>\n",
       "      <td>381.565299</td>\n",
       "      <td>-918.490206</td>\n",
       "      <td>508.251474</td>\n",
       "      <td>116.940405</td>\n",
       "      <td>269.485086</td>\n",
       "      <td>695.806221</td>\n",
       "      <td>26.323431</td>\n",
       "    </tr>\n",
       "    <tr>\n",
       "      <th>Ridge</th>\n",
       "      <td>50.551555</td>\n",
       "      <td>-67.722365</td>\n",
       "      <td>278.300728</td>\n",
       "      <td>197.624014</td>\n",
       "      <td>-6.245973</td>\n",
       "      <td>-26.226985</td>\n",
       "      <td>-151.394518</td>\n",
       "      <td>120.323196</td>\n",
       "      <td>215.854694</td>\n",
       "      <td>101.755543</td>\n",
       "    </tr>\n",
       "    <tr>\n",
       "      <th>Lasso</th>\n",
       "      <td>0.000000</td>\n",
       "      <td>-0.000000</td>\n",
       "      <td>398.384368</td>\n",
       "      <td>46.178843</td>\n",
       "      <td>0.000000</td>\n",
       "      <td>0.000000</td>\n",
       "      <td>-0.000000</td>\n",
       "      <td>0.000000</td>\n",
       "      <td>238.187402</td>\n",
       "      <td>0.000000</td>\n",
       "    </tr>\n",
       "    <tr>\n",
       "      <th>ElasticNet</th>\n",
       "      <td>0.413088</td>\n",
       "      <td>0.000000</td>\n",
       "      <td>3.298991</td>\n",
       "      <td>2.256939</td>\n",
       "      <td>0.339380</td>\n",
       "      <td>0.080784</td>\n",
       "      <td>-1.874661</td>\n",
       "      <td>2.143869</td>\n",
       "      <td>2.947964</td>\n",
       "      <td>1.701981</td>\n",
       "    </tr>\n",
       "  </tbody>\n",
       "</table>\n",
       "</div>"
      ],
      "text/plain": [
       "                        age         sex         bmi          bp          s1  \\\n",
       "LinearRegression  47.746571 -241.991804  531.968569  381.565299 -918.490206   \n",
       "Ridge             50.551555  -67.722365  278.300728  197.624014   -6.245973   \n",
       "Lasso              0.000000   -0.000000  398.384368   46.178843    0.000000   \n",
       "ElasticNet         0.413088    0.000000    3.298991    2.256939    0.339380   \n",
       "\n",
       "                          s2          s3          s4          s5          s6  \n",
       "LinearRegression  508.251474  116.940405  269.485086  695.806221   26.323431  \n",
       "Ridge             -26.226985 -151.394518  120.323196  215.854694  101.755543  \n",
       "Lasso               0.000000   -0.000000    0.000000  238.187402    0.000000  \n",
       "ElasticNet          0.080784   -1.874661    2.143869    2.947964    1.701981  "
      ]
     },
     "execution_count": 52,
     "metadata": {},
     "output_type": "execute_result"
    }
   ],
   "source": [
    "#q3) 정규화 선형회귀 모델별 가중치 비교\n",
    "# 각 모델의 계수를 직접 비교해서 정규화 준비\n",
    "import pandas as pd\n",
    "import numpy as np\n",
    "import matplotlib.pyplot as plt\n",
    "import seaborn as sns\n",
    "# 계수를 확인하기 위한 데이터프레임 생성\n",
    "coefs = np.vstack((LinearRegression.coef_,Ridge.coef_,Lasso.coef_,ElasticNet.coef_))\n",
    "\n",
    "index = ['LinearRegression','Ridge','Lasso','ElasticNet']\n",
    "\n",
    "coefs_df = pd.DataFrame(coefs, columns=data.feature_names, index = index)\n",
    "\n",
    "print('정규화 선형회귀 모델별 가중치(계수) 비교')\n",
    "coefs_df\n",
    "\n",
    "# sns.heatmap(coefs_df, cmap='Blues', annot=True, linewidth=.5)\n",
    "# plt.figure(figsize = (10,5))\n",
    "# plt.show()"
   ]
  },
  {
   "cell_type": "code",
   "execution_count": null,
   "id": "1b1f58ee",
   "metadata": {},
   "outputs": [],
   "source": []
  },
  {
   "cell_type": "code",
   "execution_count": null,
   "id": "b75bc4c8",
   "metadata": {},
   "outputs": [],
   "source": []
  },
  {
   "cell_type": "code",
   "execution_count": null,
   "id": "8385cb5b",
   "metadata": {},
   "outputs": [],
   "source": []
  }
 ],
 "metadata": {
  "kernelspec": {
   "display_name": "Python 3 (ipykernel)",
   "language": "python",
   "name": "python3"
  },
  "language_info": {
   "codemirror_mode": {
    "name": "ipython",
    "version": 3
   },
   "file_extension": ".py",
   "mimetype": "text/x-python",
   "name": "python",
   "nbconvert_exporter": "python",
   "pygments_lexer": "ipython3",
   "version": "3.9.12"
  }
 },
 "nbformat": 4,
 "nbformat_minor": 5
}
